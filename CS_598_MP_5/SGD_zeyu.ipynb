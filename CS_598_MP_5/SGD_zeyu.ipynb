{
 "cells": [
  {
   "cell_type": "code",
   "execution_count": 112,
   "id": "274482dc",
   "metadata": {},
   "outputs": [],
   "source": [
    "import numpy as np\n",
    "import pandas as pd"
   ]
  },
  {
   "cell_type": "code",
   "execution_count": 113,
   "id": "9a27089a",
   "metadata": {},
   "outputs": [],
   "source": [
    "# train_data = pd.read_csv('coding5_train.csv')\n",
    "# test_data = pd.read_csv('coding5_test.csv')"
   ]
  },
  {
   "cell_type": "code",
   "execution_count": 114,
   "id": "5ad5f597",
   "metadata": {},
   "outputs": [],
   "source": [
    "# def SGD(train, test, epochs=20,learning_rate=1):\n",
    "#     m, n = train.shape\n",
    "#     theta = np.random.rand(n)\n",
    "#     costs = []\n",
    "#     np.random.seed(1234)\n",
    "#     for epoch in range(epochs):\n",
    "#         for i in range(train.shape[0]):\n",
    "#             # select all data points\n",
    "#             X = train[i,:].reshape(1, -1)\n",
    "#             Y = test[i]\n",
    "#             pred = np.dot(X, theta)\n",
    "#             errors = pred -Y\n",
    "#             # Compute gradients\n",
    "#             gradients =  X.T.dot(errors)/len(test)\n",
    "#             step_size =learning_rate * gradients\n",
    "#             theta -= step_size\n",
    "\n",
    "#         predict = train.dot(theta)\n",
    "#         errors = predict - Y\n",
    "#         cost = np.sum(errors**2) / (2 * m)\n",
    "#         costs.append(cost)\n",
    "#     return theta, costs"
   ]
  },
  {
   "cell_type": "code",
   "execution_count": 218,
   "id": "8af8e9d3",
   "metadata": {},
   "outputs": [],
   "source": [
    "def SGD(train, test, epochs=20,learning_rate=1):\n",
    "    m, n = train.shape\n",
    "    theta=0\n",
    "#     costs = []W\n",
    "    costs= np.zeros(train.shape[1]-1)\n",
    "#     np.random.seed(1234)\n",
    "    i=0\n",
    "    l=1\n",
    "    for epoch in range(epochs):\n",
    "#          set random seeds for shuffling\n",
    "        np.random.shuffle(train) \n",
    "        for j in range(train.shape[0]):\n",
    "            # select all data points\n",
    "            i +=1\n",
    "            # Features\n",
    "            X = train[j, :-1] \n",
    "#             Label\n",
    "            Y = train[j, -1]\n",
    "#             print(theta.type)\n",
    "            g_slope = costs\n",
    "            gradient = 0\n",
    "#             print(Y,int(((X @ b) + theta)))\n",
    "            if Y * (np.dot(X,costs) + theta) < 1:\n",
    "                gradient -= y \n",
    "                g_slope -= (y *x)\n",
    "            costs -= g_slope / i\n",
    "            theta -= gradient / i\n",
    "    return theta,costs"
   ]
  },
  {
   "cell_type": "code",
   "execution_count": 219,
   "id": "afb8ebfb",
   "metadata": {},
   "outputs": [
    {
     "name": "stdout",
     "output_type": "stream",
     "text": [
      "Error rate: 0.046666666666666634\n"
     ]
    }
   ],
   "source": [
    "train_data = pd.read_csv('coding5_train.csv')\n",
    "test_data = pd.read_csv('coding5_test.csv')\n",
    "test_data1 = test_data.drop(columns=[\"Y\"])\n",
    "X_train = train_data.iloc[:, :-1].values\n",
    "Y_train = train_data.iloc[:, -1].values\n",
    "X_test = test_data.iloc[:, :-1].values\n",
    "Y_test = test_data.iloc[:, -1].values\n",
    "# Y_train_b = np.where(Y_train == 5, 0, 1)\n",
    "Y_test = np.where(Y_test == 6, 1, 0)\n",
    "# Add a bias term\n",
    "X_train_b = np.c_[np.ones((len(X_train), 1)), X_train]\n",
    "X_test_b =  np.c_[np.ones((len(X_test), 1)), X_test]\n",
    "\n",
    "theta, costs = SGD(X_train_b, X_test_b,20, 0.01 )\n",
    "# Make predictions on the test set\n",
    "predictions = (X_test @ beta) + alpha\n",
    "predictions_binary = np.where(predictions >= 0.5, 0, 1)\n",
    "\n",
    "# Evaluate error rate\n",
    "# error_rate = 1 - np.mean((predictions > 0.5) == Y_test)\n",
    "error_rate=np.where(predictions_binary == Y_test, 0, 1)\n",
    "print(\"Error rate:\", 1 - (np.sum(error_rate) / Y_test.shape[0]))"
   ]
  },
  {
   "cell_type": "code",
   "execution_count": null,
   "id": "9e0a7288",
   "metadata": {},
   "outputs": [],
   "source": []
  },
  {
   "cell_type": "code",
   "execution_count": null,
   "id": "e83abf48",
   "metadata": {},
   "outputs": [],
   "source": []
  },
  {
   "cell_type": "code",
   "execution_count": null,
   "id": "d003d9ee",
   "metadata": {},
   "outputs": [],
   "source": []
  }
 ],
 "metadata": {
  "kernelspec": {
   "display_name": "Python 3 (ipykernel)",
   "language": "python",
   "name": "python3"
  },
  "language_info": {
   "codemirror_mode": {
    "name": "ipython",
    "version": 3
   },
   "file_extension": ".py",
   "mimetype": "text/x-python",
   "name": "python",
   "nbconvert_exporter": "python",
   "pygments_lexer": "ipython3",
   "version": "3.11.4"
  }
 },
 "nbformat": 4,
 "nbformat_minor": 5
}
