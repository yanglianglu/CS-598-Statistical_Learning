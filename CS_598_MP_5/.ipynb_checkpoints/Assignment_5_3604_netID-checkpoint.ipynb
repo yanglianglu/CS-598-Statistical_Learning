{
 "cells": [
  {
   "cell_type": "markdown",
   "metadata": {},
   "source": [
    "<center>\n",
    "\n",
    "# Assignment 5\n",
    "\n",
    "</center>\n",
    "\n",
    "### Student Names and IDs\n",
    "- Zeyu Liao(zeyu9, 667691486, MCS) (Implement general SGD algorithm)\n",
    "- Lu,Yangliang (yl164 661963604 MCS) (Implement Pegasos algorithm)\n",
    "- Yan, Zexi (zexiyan2, 651826615 MCS) (Review and finalize the report)"
   ]
  },
  {
   "cell_type": "markdown",
   "metadata": {},
   "source": [
    "### Initialization"
   ]
  },
  {
   "cell_type": "code",
   "execution_count": 1,
   "metadata": {
    "collapsed": true,
    "ExecuteTime": {
     "end_time": "2023-11-27T20:34:36.414400500Z",
     "start_time": "2023-11-27T20:34:35.936388600Z"
    }
   },
   "outputs": [
    {
     "name": "stdout",
     "output_type": "stream",
     "text": [
      "3.11.4 (tags/v3.11.4:d2340ef, Jun  7 2023, 05:45:37) [MSC v.1934 64 bit (AMD64)]\n"
     ]
    }
   ],
   "source": [
    "import numpy as np\n",
    "import pandas as pd\n",
    "import sys\n",
    "print(sys.version)"
   ]
  },
  {
   "cell_type": "markdown",
   "metadata": {},
   "source": [
    "### Set random_state to be `11` for this assignment."
   ]
  },
  {
   "cell_type": "code",
   "execution_count": 2,
   "metadata": {
    "ExecuteTime": {
     "end_time": "2023-11-27T20:34:36.415403900Z",
     "start_time": "2023-11-27T20:34:36.413897600Z"
    }
   },
   "outputs": [],
   "source": [
    "random_state = 11"
   ]
  },
  {
   "cell_type": "markdown",
   "metadata": {},
   "source": [
    "### Implementation of SGD algorithm."
   ]
  },
  {
   "cell_type": "code",
   "execution_count": 3,
   "metadata": {
    "collapsed": false,
    "ExecuteTime": {
     "end_time": "2023-11-27T20:34:36.421743200Z",
     "start_time": "2023-11-27T20:34:36.417403800Z"
    }
   },
   "outputs": [],
   "source": [
    "class LinearSVM:\n",
    "    def __init__(self, learning_rate=0.001, epochs=1000, lambda_param=1e-4):\n",
    "        self.w = None\n",
    "        self.b = 0\n",
    "        self.learning_rate = learning_rate\n",
    "        self.epochs = epochs\n",
    "        self.lambda_param = lambda_param\n",
    "\n",
    "    def fit(self, X, y):\n",
    "        n_samples, n_features = X.shape\n",
    "        self.w = np.zeros(n_features)\n",
    "\n",
    "        # Training process\n",
    "        for _ in range(self.epochs):\n",
    "            for idx, x_i in enumerate(X):\n",
    "                margin = y[idx] * (np.dot(x_i, self.w) + self.b)\n",
    "                if margin >= 1:\n",
    "                    dw = self.lambda_param * self.w\n",
    "                    db = 0\n",
    "                else:\n",
    "                    dw = self.lambda_param * self.w - np.dot(x_i, y[idx])\n",
    "                    db = -y[idx]\n",
    "\n",
    "                # Update weights and bias\n",
    "                self.w -= self.learning_rate * dw / n_samples\n",
    "                self.b -= self.learning_rate * db / n_samples\n",
    "\n",
    "    def predict(self, X):\n",
    "        approximations = np.dot(X, self.w) + self.b\n",
    "        return np.sign(approximations)\n",
    "\n",
    "    def calculate_accuracy(self, X, y):\n",
    "        predictions = self.predict(X)\n",
    "        accuracy = np.mean(predictions == y)\n",
    "        return accuracy\n",
    "\n",
    "    def calculate_error_rate(self, X, y):\n",
    "        accuracy = self.calculate_accuracy(X, y)\n",
    "        return (1 - accuracy) * 100"
   ]
  },
  {
   "cell_type": "markdown",
   "metadata": {},
   "source": [
    "### Loading Data"
   ]
  },
  {
   "cell_type": "code",
   "execution_count": 4,
   "metadata": {
    "collapsed": false,
    "ExecuteTime": {
     "end_time": "2023-11-27T20:34:36.489665200Z",
     "start_time": "2023-11-27T20:34:36.422745900Z"
    }
   },
   "outputs": [
    {
     "data": {
      "text/plain": "   V1   V2     V3     V4     V5     V6     V7     V8     V9    V10  ...  \\\n0  -1 -1.0 -1.000 -0.813 -0.671 -0.809 -0.887 -0.671 -0.853 -1.000  ...   \n1  -1 -1.0 -1.000 -1.000 -1.000 -1.000 -1.000 -1.000 -1.000 -0.912  ...   \n2  -1 -1.0 -1.000 -0.449  1.000  1.000  1.000  1.000  1.000  0.840  ...   \n3  -1 -1.0 -1.000 -1.000 -0.989 -0.185  0.626  1.000  0.672  0.372  ...   \n4  -1 -1.0 -0.999 -0.699 -0.684 -0.909 -1.000 -0.764 -0.684 -0.303  ...   \n\n    V248   V249   V250   V251   V252   V253   V254   V255  V256  Y  \n0 -0.671 -0.033  0.761  0.762  0.126 -0.095 -0.671 -0.828  -1.0  5  \n1 -0.257  0.480  0.966  0.408 -0.895 -1.000 -1.000 -1.000  -1.0  5  \n2  0.626  1.000  0.830  0.494 -0.343 -1.000 -1.000 -1.000  -1.0  5  \n3  0.765  0.372 -0.163 -0.968 -1.000 -1.000 -1.000 -1.000  -1.0  5  \n4  0.438  0.903  0.762  0.140 -0.716 -1.000 -1.000 -1.000  -1.0  5  \n\n[5 rows x 257 columns]",
      "text/html": "<div>\n<style scoped>\n    .dataframe tbody tr th:only-of-type {\n        vertical-align: middle;\n    }\n\n    .dataframe tbody tr th {\n        vertical-align: top;\n    }\n\n    .dataframe thead th {\n        text-align: right;\n    }\n</style>\n<table border=\"1\" class=\"dataframe\">\n  <thead>\n    <tr style=\"text-align: right;\">\n      <th></th>\n      <th>V1</th>\n      <th>V2</th>\n      <th>V3</th>\n      <th>V4</th>\n      <th>V5</th>\n      <th>V6</th>\n      <th>V7</th>\n      <th>V8</th>\n      <th>V9</th>\n      <th>V10</th>\n      <th>...</th>\n      <th>V248</th>\n      <th>V249</th>\n      <th>V250</th>\n      <th>V251</th>\n      <th>V252</th>\n      <th>V253</th>\n      <th>V254</th>\n      <th>V255</th>\n      <th>V256</th>\n      <th>Y</th>\n    </tr>\n  </thead>\n  <tbody>\n    <tr>\n      <th>0</th>\n      <td>-1</td>\n      <td>-1.0</td>\n      <td>-1.000</td>\n      <td>-0.813</td>\n      <td>-0.671</td>\n      <td>-0.809</td>\n      <td>-0.887</td>\n      <td>-0.671</td>\n      <td>-0.853</td>\n      <td>-1.000</td>\n      <td>...</td>\n      <td>-0.671</td>\n      <td>-0.033</td>\n      <td>0.761</td>\n      <td>0.762</td>\n      <td>0.126</td>\n      <td>-0.095</td>\n      <td>-0.671</td>\n      <td>-0.828</td>\n      <td>-1.0</td>\n      <td>5</td>\n    </tr>\n    <tr>\n      <th>1</th>\n      <td>-1</td>\n      <td>-1.0</td>\n      <td>-1.000</td>\n      <td>-1.000</td>\n      <td>-1.000</td>\n      <td>-1.000</td>\n      <td>-1.000</td>\n      <td>-1.000</td>\n      <td>-1.000</td>\n      <td>-0.912</td>\n      <td>...</td>\n      <td>-0.257</td>\n      <td>0.480</td>\n      <td>0.966</td>\n      <td>0.408</td>\n      <td>-0.895</td>\n      <td>-1.000</td>\n      <td>-1.000</td>\n      <td>-1.000</td>\n      <td>-1.0</td>\n      <td>5</td>\n    </tr>\n    <tr>\n      <th>2</th>\n      <td>-1</td>\n      <td>-1.0</td>\n      <td>-1.000</td>\n      <td>-0.449</td>\n      <td>1.000</td>\n      <td>1.000</td>\n      <td>1.000</td>\n      <td>1.000</td>\n      <td>1.000</td>\n      <td>0.840</td>\n      <td>...</td>\n      <td>0.626</td>\n      <td>1.000</td>\n      <td>0.830</td>\n      <td>0.494</td>\n      <td>-0.343</td>\n      <td>-1.000</td>\n      <td>-1.000</td>\n      <td>-1.000</td>\n      <td>-1.0</td>\n      <td>5</td>\n    </tr>\n    <tr>\n      <th>3</th>\n      <td>-1</td>\n      <td>-1.0</td>\n      <td>-1.000</td>\n      <td>-1.000</td>\n      <td>-0.989</td>\n      <td>-0.185</td>\n      <td>0.626</td>\n      <td>1.000</td>\n      <td>0.672</td>\n      <td>0.372</td>\n      <td>...</td>\n      <td>0.765</td>\n      <td>0.372</td>\n      <td>-0.163</td>\n      <td>-0.968</td>\n      <td>-1.000</td>\n      <td>-1.000</td>\n      <td>-1.000</td>\n      <td>-1.000</td>\n      <td>-1.0</td>\n      <td>5</td>\n    </tr>\n    <tr>\n      <th>4</th>\n      <td>-1</td>\n      <td>-1.0</td>\n      <td>-0.999</td>\n      <td>-0.699</td>\n      <td>-0.684</td>\n      <td>-0.909</td>\n      <td>-1.000</td>\n      <td>-0.764</td>\n      <td>-0.684</td>\n      <td>-0.303</td>\n      <td>...</td>\n      <td>0.438</td>\n      <td>0.903</td>\n      <td>0.762</td>\n      <td>0.140</td>\n      <td>-0.716</td>\n      <td>-1.000</td>\n      <td>-1.000</td>\n      <td>-1.000</td>\n      <td>-1.0</td>\n      <td>5</td>\n    </tr>\n  </tbody>\n</table>\n<p>5 rows × 257 columns</p>\n</div>"
     },
     "execution_count": 4,
     "metadata": {},
     "output_type": "execute_result"
    }
   ],
   "source": [
    "train = pd.read_csv('coding5_train.csv')\n",
    "test = pd.read_csv('coding5_test.csv')\n",
    "train.head()"
   ]
  },
  {
   "cell_type": "markdown",
   "metadata": {},
   "source": [
    "### Convert label to `-1` and `1`"
   ]
  },
  {
   "cell_type": "code",
   "execution_count": 5,
   "metadata": {
    "collapsed": false,
    "ExecuteTime": {
     "end_time": "2023-11-27T20:34:36.489665200Z",
     "start_time": "2023-11-27T20:34:36.480661900Z"
    }
   },
   "outputs": [],
   "source": [
    "X_train = train.iloc[:, :-1].values\n",
    "y_train = train.iloc[:, -1].values\n",
    "X_test = test.iloc[:, :-1].values\n",
    "y_test = test.iloc[:, -1].values\n",
    "\n",
    "# label is 5, 6. convert to -1 for 5, 1 for 6\n",
    "y_train = np.where(y_train == 5, -1, 1)\n",
    "y_test = np.where(y_test == 5, -1, 1)"
   ]
  },
  {
   "cell_type": "markdown",
   "metadata": {},
   "source": [
    "### The accuracy for the implemented SGD Algorithm is: `2.83333`"
   ]
  },
  {
   "cell_type": "code",
   "execution_count": 6,
   "metadata": {
    "collapsed": false,
    "ExecuteTime": {
     "end_time": "2023-11-27T20:34:37.243314300Z",
     "start_time": "2023-11-27T20:34:36.480661900Z"
    }
   },
   "outputs": [
    {
     "data": {
      "text/plain": "2.833333333333332"
     },
     "execution_count": 6,
     "metadata": {},
     "output_type": "execute_result"
    }
   ],
   "source": [
    "model = LinearSVM()\n",
    "model.fit(X_train, y_train)\n",
    "y_pred = model.calculate_error_rate(X_test, y_test)\n",
    "y_pred"
   ]
  },
  {
   "cell_type": "markdown",
   "metadata": {},
   "source": [
    "### Implementation of Pegasos Algorithm"
   ]
  },
  {
   "cell_type": "code",
   "execution_count": 7,
   "metadata": {
    "collapsed": false,
    "ExecuteTime": {
     "end_time": "2023-11-27T20:34:37.253863600Z",
     "start_time": "2023-11-27T20:34:37.246314800Z"
    }
   },
   "outputs": [],
   "source": [
    "class PegasosSVM:\n",
    "    def __init__(self, lambda_param=0.01, epochs=20, random_state=random_state):\n",
    "        self.lambda_param = lambda_param\n",
    "        self.epochs = epochs\n",
    "        self.random_state = random_state\n",
    "        self.w = None\n",
    "        self.b = 0\n",
    "\n",
    "    def fit(self, X, y):\n",
    "        if self.random_state is not None:\n",
    "            np.random.seed(self.random_state)\n",
    "\n",
    "        n_samples, n_features = X.shape\n",
    "        self.w = np.zeros(n_features)\n",
    "\n",
    "        t = 0  # Time step counter\n",
    "        for _ in range(self.epochs):\n",
    "            # Shuffle the data at the beginning of each epoch\n",
    "            indices = np.random.permutation(n_samples)\n",
    "            for i in indices:\n",
    "                t += 1  # Increment time step\n",
    "                eta_t = 1 / (t * self.lambda_param)  # Decaying learning rate\n",
    "                y_i = y[i]\n",
    "                x_i = X[i]\n",
    "\n",
    "                condition = y_i * (np.dot(x_i, self.w) + self.b) < 1\n",
    "\n",
    "                # Subgradient calculation\n",
    "                if condition:\n",
    "                    delta_w = self.lambda_param * self.w - y_i * x_i\n",
    "                    delta_b = -y_i\n",
    "                else:\n",
    "                    delta_w = self.lambda_param * self.w\n",
    "                    delta_b = 0\n",
    "\n",
    "                # Update parameters\n",
    "                self.w -= eta_t * delta_w\n",
    "                self.b -= eta_t * delta_b  # Bias is updated only when condition is true\n",
    "\n",
    "    def predict(self, X):\n",
    "        approximations = np.dot(X, self.w) + self.b\n",
    "        return np.sign(approximations)\n",
    "\n",
    "    def calculate_accuracy(self, X, y):\n",
    "        predictions = self.predict(X)\n",
    "        accuracy = np.mean(predictions == y)\n",
    "        return accuracy\n",
    "\n",
    "    def calculate_error_rate(self, X, y):\n",
    "        accuracy = self.calculate_accuracy(X, y)\n",
    "        return (1 - accuracy) * 100\n",
    "    \n",
    "    def print_confusion_table(self, X, y):\n",
    "        predictions = self.predict(X)\n",
    "        TP = np.sum(np.logical_and(predictions == 1, y == 1)) \n",
    "        TN = np.sum(np.logical_and(predictions == -1, y == -1))\n",
    "        FP = np.sum(np.logical_and(predictions == 1, y == -1))\n",
    "        FN = np.sum(np.logical_and(predictions == -1, y == 1))\n",
    "        print('TP: {}, TN: {}, \\nFP: {}, FN: {}'.format(TP, TN, FP, FN))\n",
    "\n",
    "\n"
   ]
  },
  {
   "cell_type": "markdown",
   "metadata": {},
   "source": [
    "### The Pegasos Algorithm accuracy for the test data is: `9.166667` with randome_state = `11`"
   ]
  },
  {
   "cell_type": "code",
   "execution_count": 8,
   "metadata": {
    "collapsed": false,
    "ExecuteTime": {
     "end_time": "2023-11-27T20:34:38.188025100Z",
     "start_time": "2023-11-27T20:34:37.248753Z"
    }
   },
   "outputs": [
    {
     "data": {
      "text/plain": "9.166666666666668"
     },
     "execution_count": 8,
     "metadata": {},
     "output_type": "execute_result"
    }
   ],
   "source": [
    "model = PegasosSVM(epochs=2000)\n",
    "model.fit(X_train, y_train)\n",
    "y_pred = model.calculate_error_rate(X_test, y_test)\n",
    "y_pred"
   ]
  },
  {
   "cell_type": "markdown",
   "metadata": {},
   "source": [
    "### Confusion Matrix for test data:"
   ]
  },
  {
   "cell_type": "code",
   "execution_count": 9,
   "metadata": {
    "ExecuteTime": {
     "end_time": "2023-11-27T20:34:38.191147700Z",
     "start_time": "2023-11-27T20:34:38.189024800Z"
    }
   },
   "outputs": [
    {
     "name": "stdout",
     "output_type": "stream",
     "text": [
      "TP: 284, TN: 261, \n",
      "FP: 39, FN: 16\n"
     ]
    }
   ],
   "source": [
    "model.print_confusion_table(X_test, y_test)"
   ]
  }
 ],
 "metadata": {
  "kernelspec": {
   "display_name": "Python 3",
   "language": "python",
   "name": "python3"
  },
  "language_info": {
   "codemirror_mode": {
    "name": "ipython",
    "version": 3
   },
   "file_extension": ".py",
   "mimetype": "text/x-python",
   "name": "python",
   "nbconvert_exporter": "python",
   "pygments_lexer": "ipython3",
   "version": "3.9.18"
  }
 },
 "nbformat": 4,
 "nbformat_minor": 0
}
