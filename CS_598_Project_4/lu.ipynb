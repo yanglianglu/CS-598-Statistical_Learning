{
 "cells": [
  {
   "cell_type": "code",
   "execution_count": 1,
   "metadata": {
    "collapsed": true,
    "ExecuteTime": {
     "end_time": "2023-11-23T20:35:16.913206100Z",
     "start_time": "2023-11-23T20:35:16.739359600Z"
    }
   },
   "outputs": [],
   "source": [
    "import pandas as pd"
   ]
  },
  {
   "cell_type": "code",
   "execution_count": 2,
   "outputs": [],
   "source": [
    "ratings = pd.read_csv('data/ratings.dat', sep='::', engine = 'python', header=None)\n",
    "ratings.columns = ['UserID', 'MovieID', 'Rating', 'Timestamp']\n",
    "movies = pd.read_csv('data/movies.dat', sep='::', engine = 'python',\n",
    "                     encoding=\"ISO-8859-1\", header = None)\n",
    "movies.columns = ['MovieID', 'Title', 'Genres']"
   ],
   "metadata": {
    "collapsed": false,
    "ExecuteTime": {
     "end_time": "2023-11-23T20:35:18.695863200Z",
     "start_time": "2023-11-23T20:35:16.914206Z"
    }
   }
  },
  {
   "cell_type": "code",
   "execution_count": 18,
   "outputs": [
    {
     "data": {
      "text/plain": "   MovieID                               Title                        Genres\n0        1                    Toy Story (1995)   Animation|Children's|Comedy\n1        2                      Jumanji (1995)  Adventure|Children's|Fantasy\n2        3             Grumpier Old Men (1995)                Comedy|Romance\n3        4            Waiting to Exhale (1995)                  Comedy|Drama\n4        5  Father of the Bride Part II (1995)                        Comedy\n5        6                         Heat (1995)         Action|Crime|Thriller\n6        7                      Sabrina (1995)                Comedy|Romance\n7        8                 Tom and Huck (1995)          Adventure|Children's\n8        9                 Sudden Death (1995)                        Action\n9       10                    GoldenEye (1995)     Action|Adventure|Thriller",
      "text/html": "<div>\n<style scoped>\n    .dataframe tbody tr th:only-of-type {\n        vertical-align: middle;\n    }\n\n    .dataframe tbody tr th {\n        vertical-align: top;\n    }\n\n    .dataframe thead th {\n        text-align: right;\n    }\n</style>\n<table border=\"1\" class=\"dataframe\">\n  <thead>\n    <tr style=\"text-align: right;\">\n      <th></th>\n      <th>MovieID</th>\n      <th>Title</th>\n      <th>Genres</th>\n    </tr>\n  </thead>\n  <tbody>\n    <tr>\n      <th>0</th>\n      <td>1</td>\n      <td>Toy Story (1995)</td>\n      <td>Animation|Children's|Comedy</td>\n    </tr>\n    <tr>\n      <th>1</th>\n      <td>2</td>\n      <td>Jumanji (1995)</td>\n      <td>Adventure|Children's|Fantasy</td>\n    </tr>\n    <tr>\n      <th>2</th>\n      <td>3</td>\n      <td>Grumpier Old Men (1995)</td>\n      <td>Comedy|Romance</td>\n    </tr>\n    <tr>\n      <th>3</th>\n      <td>4</td>\n      <td>Waiting to Exhale (1995)</td>\n      <td>Comedy|Drama</td>\n    </tr>\n    <tr>\n      <th>4</th>\n      <td>5</td>\n      <td>Father of the Bride Part II (1995)</td>\n      <td>Comedy</td>\n    </tr>\n    <tr>\n      <th>5</th>\n      <td>6</td>\n      <td>Heat (1995)</td>\n      <td>Action|Crime|Thriller</td>\n    </tr>\n    <tr>\n      <th>6</th>\n      <td>7</td>\n      <td>Sabrina (1995)</td>\n      <td>Comedy|Romance</td>\n    </tr>\n    <tr>\n      <th>7</th>\n      <td>8</td>\n      <td>Tom and Huck (1995)</td>\n      <td>Adventure|Children's</td>\n    </tr>\n    <tr>\n      <th>8</th>\n      <td>9</td>\n      <td>Sudden Death (1995)</td>\n      <td>Action</td>\n    </tr>\n    <tr>\n      <th>9</th>\n      <td>10</td>\n      <td>GoldenEye (1995)</td>\n      <td>Action|Adventure|Thriller</td>\n    </tr>\n  </tbody>\n</table>\n</div>"
     },
     "execution_count": 18,
     "metadata": {},
     "output_type": "execute_result"
    }
   ],
   "source": [
    "movies.head(10)"
   ],
   "metadata": {
    "collapsed": false,
    "ExecuteTime": {
     "end_time": "2023-11-23T21:24:42.701704200Z",
     "start_time": "2023-11-23T21:24:42.694807Z"
    }
   }
  },
  {
   "cell_type": "code",
   "execution_count": 4,
   "outputs": [
    {
     "data": {
      "text/plain": "   UserID  MovieID  Rating  Timestamp\n0       1     1193       5  978300760\n1       1      661       3  978302109\n2       1      914       3  978301968\n3       1     3408       4  978300275\n4       1     2355       5  978824291",
      "text/html": "<div>\n<style scoped>\n    .dataframe tbody tr th:only-of-type {\n        vertical-align: middle;\n    }\n\n    .dataframe tbody tr th {\n        vertical-align: top;\n    }\n\n    .dataframe thead th {\n        text-align: right;\n    }\n</style>\n<table border=\"1\" class=\"dataframe\">\n  <thead>\n    <tr style=\"text-align: right;\">\n      <th></th>\n      <th>UserID</th>\n      <th>MovieID</th>\n      <th>Rating</th>\n      <th>Timestamp</th>\n    </tr>\n  </thead>\n  <tbody>\n    <tr>\n      <th>0</th>\n      <td>1</td>\n      <td>1193</td>\n      <td>5</td>\n      <td>978300760</td>\n    </tr>\n    <tr>\n      <th>1</th>\n      <td>1</td>\n      <td>661</td>\n      <td>3</td>\n      <td>978302109</td>\n    </tr>\n    <tr>\n      <th>2</th>\n      <td>1</td>\n      <td>914</td>\n      <td>3</td>\n      <td>978301968</td>\n    </tr>\n    <tr>\n      <th>3</th>\n      <td>1</td>\n      <td>3408</td>\n      <td>4</td>\n      <td>978300275</td>\n    </tr>\n    <tr>\n      <th>4</th>\n      <td>1</td>\n      <td>2355</td>\n      <td>5</td>\n      <td>978824291</td>\n    </tr>\n  </tbody>\n</table>\n</div>"
     },
     "execution_count": 4,
     "metadata": {},
     "output_type": "execute_result"
    }
   ],
   "source": [
    "ratings.head()"
   ],
   "metadata": {
    "collapsed": false,
    "ExecuteTime": {
     "end_time": "2023-11-23T20:35:18.707032200Z",
     "start_time": "2023-11-23T20:35:18.701417900Z"
    }
   }
  },
  {
   "cell_type": "code",
   "execution_count": 5,
   "outputs": [
    {
     "data": {
      "text/plain": "   0  1   2   3      4\n0  1  F   1  10  48067\n1  2  M  56  16  70072\n2  3  M  25  15  55117\n3  4  M  45   7  02460\n4  5  M  25  20  55455",
      "text/html": "<div>\n<style scoped>\n    .dataframe tbody tr th:only-of-type {\n        vertical-align: middle;\n    }\n\n    .dataframe tbody tr th {\n        vertical-align: top;\n    }\n\n    .dataframe thead th {\n        text-align: right;\n    }\n</style>\n<table border=\"1\" class=\"dataframe\">\n  <thead>\n    <tr style=\"text-align: right;\">\n      <th></th>\n      <th>0</th>\n      <th>1</th>\n      <th>2</th>\n      <th>3</th>\n      <th>4</th>\n    </tr>\n  </thead>\n  <tbody>\n    <tr>\n      <th>0</th>\n      <td>1</td>\n      <td>F</td>\n      <td>1</td>\n      <td>10</td>\n      <td>48067</td>\n    </tr>\n    <tr>\n      <th>1</th>\n      <td>2</td>\n      <td>M</td>\n      <td>56</td>\n      <td>16</td>\n      <td>70072</td>\n    </tr>\n    <tr>\n      <th>2</th>\n      <td>3</td>\n      <td>M</td>\n      <td>25</td>\n      <td>15</td>\n      <td>55117</td>\n    </tr>\n    <tr>\n      <th>3</th>\n      <td>4</td>\n      <td>M</td>\n      <td>45</td>\n      <td>7</td>\n      <td>02460</td>\n    </tr>\n    <tr>\n      <th>4</th>\n      <td>5</td>\n      <td>M</td>\n      <td>25</td>\n      <td>20</td>\n      <td>55455</td>\n    </tr>\n  </tbody>\n</table>\n</div>"
     },
     "execution_count": 5,
     "metadata": {},
     "output_type": "execute_result"
    }
   ],
   "source": [
    "users = pd.read_csv('data/users.dat', sep='::', engine = 'python', header=None)\n",
    "users.head()"
   ],
   "metadata": {
    "collapsed": false,
    "ExecuteTime": {
     "end_time": "2023-11-23T20:35:18.789627200Z",
     "start_time": "2023-11-23T20:35:18.708037500Z"
    }
   }
  },
  {
   "cell_type": "markdown",
   "source": [
    "## User first input a genre\n",
    "## Filter movies by genre\n",
    "## Define most popular movies using most watched movies and highest grossing movies\n",
    "## Define Highly rated movies using weighted average ratings\n",
    "## define ranking function that combines the two"
   ],
   "metadata": {
    "collapsed": false
   }
  },
  {
   "cell_type": "code",
   "execution_count": 6,
   "outputs": [],
   "source": [
    "def genres_matrix(movies):\n",
    "    genres = []\n",
    "    for i in range(len(movies)):\n",
    "        genres.extend(movies.iloc[i]['Genres'].split('|'))\n",
    "    genres = list(set(genres))\n",
    "    genres.sort()\n",
    "    genres_matrix = pd.DataFrame(columns = genres)\n",
    "    for i in range(len(movies)):\n",
    "        genres_matrix.loc[i] = [0]*len(genres)\n",
    "        for genre in movies.iloc[i]['Genres'].split('|'):\n",
    "            genres_matrix.loc[i][genre] = 1\n",
    "    genres_matrix.index = movies['MovieID']\n",
    "    return genres_matrix"
   ],
   "metadata": {
    "collapsed": false,
    "ExecuteTime": {
     "end_time": "2023-11-23T20:35:18.801628600Z",
     "start_time": "2023-11-23T20:35:18.736524600Z"
    }
   }
  },
  {
   "cell_type": "code",
   "execution_count": 7,
   "outputs": [
    {
     "data": {
      "text/plain": "         Action  Adventure  Animation  Children's  Comedy  Crime  Documentary  \\\nMovieID                                                                         \n1             0          0          1           1       1      0            0   \n2             0          1          0           1       0      0            0   \n3             0          0          0           0       1      0            0   \n4             0          0          0           0       1      0            0   \n5             0          0          0           0       1      0            0   \n\n         Drama  Fantasy  Film-Noir  Horror  Musical  Mystery  Romance  Sci-Fi  \\\nMovieID                                                                         \n1            0        0          0       0        0        0        0       0   \n2            0        1          0       0        0        0        0       0   \n3            0        0          0       0        0        0        1       0   \n4            1        0          0       0        0        0        0       0   \n5            0        0          0       0        0        0        0       0   \n\n         Thriller  War  Western  \nMovieID                          \n1               0    0        0  \n2               0    0        0  \n3               0    0        0  \n4               0    0        0  \n5               0    0        0  ",
      "text/html": "<div>\n<style scoped>\n    .dataframe tbody tr th:only-of-type {\n        vertical-align: middle;\n    }\n\n    .dataframe tbody tr th {\n        vertical-align: top;\n    }\n\n    .dataframe thead th {\n        text-align: right;\n    }\n</style>\n<table border=\"1\" class=\"dataframe\">\n  <thead>\n    <tr style=\"text-align: right;\">\n      <th></th>\n      <th>Action</th>\n      <th>Adventure</th>\n      <th>Animation</th>\n      <th>Children's</th>\n      <th>Comedy</th>\n      <th>Crime</th>\n      <th>Documentary</th>\n      <th>Drama</th>\n      <th>Fantasy</th>\n      <th>Film-Noir</th>\n      <th>Horror</th>\n      <th>Musical</th>\n      <th>Mystery</th>\n      <th>Romance</th>\n      <th>Sci-Fi</th>\n      <th>Thriller</th>\n      <th>War</th>\n      <th>Western</th>\n    </tr>\n    <tr>\n      <th>MovieID</th>\n      <th></th>\n      <th></th>\n      <th></th>\n      <th></th>\n      <th></th>\n      <th></th>\n      <th></th>\n      <th></th>\n      <th></th>\n      <th></th>\n      <th></th>\n      <th></th>\n      <th></th>\n      <th></th>\n      <th></th>\n      <th></th>\n      <th></th>\n      <th></th>\n    </tr>\n  </thead>\n  <tbody>\n    <tr>\n      <th>1</th>\n      <td>0</td>\n      <td>0</td>\n      <td>1</td>\n      <td>1</td>\n      <td>1</td>\n      <td>0</td>\n      <td>0</td>\n      <td>0</td>\n      <td>0</td>\n      <td>0</td>\n      <td>0</td>\n      <td>0</td>\n      <td>0</td>\n      <td>0</td>\n      <td>0</td>\n      <td>0</td>\n      <td>0</td>\n      <td>0</td>\n    </tr>\n    <tr>\n      <th>2</th>\n      <td>0</td>\n      <td>1</td>\n      <td>0</td>\n      <td>1</td>\n      <td>0</td>\n      <td>0</td>\n      <td>0</td>\n      <td>0</td>\n      <td>1</td>\n      <td>0</td>\n      <td>0</td>\n      <td>0</td>\n      <td>0</td>\n      <td>0</td>\n      <td>0</td>\n      <td>0</td>\n      <td>0</td>\n      <td>0</td>\n    </tr>\n    <tr>\n      <th>3</th>\n      <td>0</td>\n      <td>0</td>\n      <td>0</td>\n      <td>0</td>\n      <td>1</td>\n      <td>0</td>\n      <td>0</td>\n      <td>0</td>\n      <td>0</td>\n      <td>0</td>\n      <td>0</td>\n      <td>0</td>\n      <td>0</td>\n      <td>1</td>\n      <td>0</td>\n      <td>0</td>\n      <td>0</td>\n      <td>0</td>\n    </tr>\n    <tr>\n      <th>4</th>\n      <td>0</td>\n      <td>0</td>\n      <td>0</td>\n      <td>0</td>\n      <td>1</td>\n      <td>0</td>\n      <td>0</td>\n      <td>1</td>\n      <td>0</td>\n      <td>0</td>\n      <td>0</td>\n      <td>0</td>\n      <td>0</td>\n      <td>0</td>\n      <td>0</td>\n      <td>0</td>\n      <td>0</td>\n      <td>0</td>\n    </tr>\n    <tr>\n      <th>5</th>\n      <td>0</td>\n      <td>0</td>\n      <td>0</td>\n      <td>0</td>\n      <td>1</td>\n      <td>0</td>\n      <td>0</td>\n      <td>0</td>\n      <td>0</td>\n      <td>0</td>\n      <td>0</td>\n      <td>0</td>\n      <td>0</td>\n      <td>0</td>\n      <td>0</td>\n      <td>0</td>\n      <td>0</td>\n      <td>0</td>\n    </tr>\n  </tbody>\n</table>\n</div>"
     },
     "execution_count": 7,
     "metadata": {},
     "output_type": "execute_result"
    }
   ],
   "source": [
    "# using genres matrix to filter movies base on user input\n",
    "genres = genres_matrix(movies)\n",
    "genres.head()"
   ],
   "metadata": {
    "collapsed": false,
    "ExecuteTime": {
     "end_time": "2023-11-23T20:35:19.948382700Z",
     "start_time": "2023-11-23T20:35:18.738038700Z"
    }
   }
  },
  {
   "cell_type": "code",
   "execution_count": 8,
   "outputs": [],
   "source": [
    "# save genres type to a json file\n",
    "genres_list = genres.columns.tolist()\n",
    "import json\n",
    "with open('genres.json', 'w') as f:\n",
    "    json.dump(genres_list, f)"
   ],
   "metadata": {
    "collapsed": false,
    "ExecuteTime": {
     "end_time": "2023-11-23T20:35:19.951419200Z",
     "start_time": "2023-11-23T20:35:19.949388500Z"
    }
   }
  },
  {
   "cell_type": "code",
   "execution_count": 9,
   "outputs": [],
   "source": [
    "def subset_movies(ratings_df, genre_df, genre):\n",
    "    # giving a genre, return a subset of movies that are in that genre\n",
    "    genre_movies = genre_df[genre_df[genre] == 1]\n",
    "\n",
    "    genre_index = genre_movies.index\n",
    "    ratings_df = ratings_df[ratings_df['MovieID'].isin(genre_index)]\n",
    "    rating_matrix = pd.pivot_table(ratings_df, values='Rating', index=['UserID'],\n",
    "                                   columns=['MovieID'])\n",
    "    return rating_matrix"
   ],
   "metadata": {
    "collapsed": false,
    "ExecuteTime": {
     "end_time": "2023-11-23T20:35:19.969642700Z",
     "start_time": "2023-11-23T20:35:19.952423600Z"
    }
   }
  },
  {
   "cell_type": "code",
   "execution_count": 10,
   "outputs": [
    {
     "data": {
      "text/plain": "MovieID  6     9     10    15    20    21    42    44    70    71    ...  \\\nUserID                                                               ...   \n1         NaN   NaN   NaN   NaN   NaN   NaN   NaN   NaN   NaN   NaN  ...   \n2         NaN   NaN   NaN   NaN   NaN   1.0   NaN   NaN   NaN   NaN  ...   \n3         NaN   NaN   NaN   NaN   NaN   NaN   NaN   NaN   NaN   NaN  ...   \n4         NaN   NaN   NaN   NaN   NaN   NaN   NaN   NaN   NaN   NaN  ...   \n5         2.0   NaN   NaN   NaN   NaN   NaN   NaN   NaN   NaN   NaN  ...   \n...       ...   ...   ...   ...   ...   ...   ...   ...   ...   ...  ...   \n6036      3.0   NaN   NaN   NaN   NaN   3.0   NaN   NaN   NaN   NaN  ...   \n6037      NaN   NaN   NaN   NaN   NaN   NaN   NaN   NaN   NaN   NaN  ...   \n6038      NaN   NaN   NaN   NaN   NaN   NaN   NaN   NaN   NaN   NaN  ...   \n6039      NaN   NaN   NaN   NaN   NaN   NaN   NaN   NaN   NaN   NaN  ...   \n6040      NaN   NaN   NaN   NaN   NaN   NaN   NaN   NaN   NaN   NaN  ...   \n\nMovieID  3807  3827  3836  3841  3864  3877  3879  3889  3898  3946  \nUserID                                                               \n1         NaN   NaN   NaN   NaN   NaN   NaN   NaN   NaN   NaN   NaN  \n2         NaN   NaN   NaN   NaN   NaN   NaN   NaN   NaN   NaN   NaN  \n3         NaN   NaN   NaN   NaN   NaN   NaN   NaN   NaN   NaN   NaN  \n4         NaN   NaN   NaN   NaN   NaN   NaN   NaN   NaN   NaN   NaN  \n5         NaN   NaN   NaN   NaN   NaN   NaN   NaN   NaN   NaN   NaN  \n...       ...   ...   ...   ...   ...   ...   ...   ...   ...   ...  \n6036      NaN   NaN   NaN   NaN   NaN   NaN   NaN   NaN   NaN   NaN  \n6037      NaN   NaN   NaN   NaN   NaN   NaN   NaN   NaN   NaN   NaN  \n6038      NaN   NaN   NaN   NaN   NaN   NaN   NaN   NaN   NaN   NaN  \n6039      NaN   NaN   NaN   NaN   NaN   NaN   NaN   NaN   NaN   NaN  \n6040      NaN   NaN   NaN   NaN   NaN   NaN   NaN   NaN   NaN   NaN  \n\n[6012 rows x 495 columns]",
      "text/html": "<div>\n<style scoped>\n    .dataframe tbody tr th:only-of-type {\n        vertical-align: middle;\n    }\n\n    .dataframe tbody tr th {\n        vertical-align: top;\n    }\n\n    .dataframe thead th {\n        text-align: right;\n    }\n</style>\n<table border=\"1\" class=\"dataframe\">\n  <thead>\n    <tr style=\"text-align: right;\">\n      <th>MovieID</th>\n      <th>6</th>\n      <th>9</th>\n      <th>10</th>\n      <th>15</th>\n      <th>20</th>\n      <th>21</th>\n      <th>42</th>\n      <th>44</th>\n      <th>70</th>\n      <th>71</th>\n      <th>...</th>\n      <th>3807</th>\n      <th>3827</th>\n      <th>3836</th>\n      <th>3841</th>\n      <th>3864</th>\n      <th>3877</th>\n      <th>3879</th>\n      <th>3889</th>\n      <th>3898</th>\n      <th>3946</th>\n    </tr>\n    <tr>\n      <th>UserID</th>\n      <th></th>\n      <th></th>\n      <th></th>\n      <th></th>\n      <th></th>\n      <th></th>\n      <th></th>\n      <th></th>\n      <th></th>\n      <th></th>\n      <th></th>\n      <th></th>\n      <th></th>\n      <th></th>\n      <th></th>\n      <th></th>\n      <th></th>\n      <th></th>\n      <th></th>\n      <th></th>\n      <th></th>\n    </tr>\n  </thead>\n  <tbody>\n    <tr>\n      <th>1</th>\n      <td>NaN</td>\n      <td>NaN</td>\n      <td>NaN</td>\n      <td>NaN</td>\n      <td>NaN</td>\n      <td>NaN</td>\n      <td>NaN</td>\n      <td>NaN</td>\n      <td>NaN</td>\n      <td>NaN</td>\n      <td>...</td>\n      <td>NaN</td>\n      <td>NaN</td>\n      <td>NaN</td>\n      <td>NaN</td>\n      <td>NaN</td>\n      <td>NaN</td>\n      <td>NaN</td>\n      <td>NaN</td>\n      <td>NaN</td>\n      <td>NaN</td>\n    </tr>\n    <tr>\n      <th>2</th>\n      <td>NaN</td>\n      <td>NaN</td>\n      <td>NaN</td>\n      <td>NaN</td>\n      <td>NaN</td>\n      <td>1.0</td>\n      <td>NaN</td>\n      <td>NaN</td>\n      <td>NaN</td>\n      <td>NaN</td>\n      <td>...</td>\n      <td>NaN</td>\n      <td>NaN</td>\n      <td>NaN</td>\n      <td>NaN</td>\n      <td>NaN</td>\n      <td>NaN</td>\n      <td>NaN</td>\n      <td>NaN</td>\n      <td>NaN</td>\n      <td>NaN</td>\n    </tr>\n    <tr>\n      <th>3</th>\n      <td>NaN</td>\n      <td>NaN</td>\n      <td>NaN</td>\n      <td>NaN</td>\n      <td>NaN</td>\n      <td>NaN</td>\n      <td>NaN</td>\n      <td>NaN</td>\n      <td>NaN</td>\n      <td>NaN</td>\n      <td>...</td>\n      <td>NaN</td>\n      <td>NaN</td>\n      <td>NaN</td>\n      <td>NaN</td>\n      <td>NaN</td>\n      <td>NaN</td>\n      <td>NaN</td>\n      <td>NaN</td>\n      <td>NaN</td>\n      <td>NaN</td>\n    </tr>\n    <tr>\n      <th>4</th>\n      <td>NaN</td>\n      <td>NaN</td>\n      <td>NaN</td>\n      <td>NaN</td>\n      <td>NaN</td>\n      <td>NaN</td>\n      <td>NaN</td>\n      <td>NaN</td>\n      <td>NaN</td>\n      <td>NaN</td>\n      <td>...</td>\n      <td>NaN</td>\n      <td>NaN</td>\n      <td>NaN</td>\n      <td>NaN</td>\n      <td>NaN</td>\n      <td>NaN</td>\n      <td>NaN</td>\n      <td>NaN</td>\n      <td>NaN</td>\n      <td>NaN</td>\n    </tr>\n    <tr>\n      <th>5</th>\n      <td>2.0</td>\n      <td>NaN</td>\n      <td>NaN</td>\n      <td>NaN</td>\n      <td>NaN</td>\n      <td>NaN</td>\n      <td>NaN</td>\n      <td>NaN</td>\n      <td>NaN</td>\n      <td>NaN</td>\n      <td>...</td>\n      <td>NaN</td>\n      <td>NaN</td>\n      <td>NaN</td>\n      <td>NaN</td>\n      <td>NaN</td>\n      <td>NaN</td>\n      <td>NaN</td>\n      <td>NaN</td>\n      <td>NaN</td>\n      <td>NaN</td>\n    </tr>\n    <tr>\n      <th>...</th>\n      <td>...</td>\n      <td>...</td>\n      <td>...</td>\n      <td>...</td>\n      <td>...</td>\n      <td>...</td>\n      <td>...</td>\n      <td>...</td>\n      <td>...</td>\n      <td>...</td>\n      <td>...</td>\n      <td>...</td>\n      <td>...</td>\n      <td>...</td>\n      <td>...</td>\n      <td>...</td>\n      <td>...</td>\n      <td>...</td>\n      <td>...</td>\n      <td>...</td>\n      <td>...</td>\n    </tr>\n    <tr>\n      <th>6036</th>\n      <td>3.0</td>\n      <td>NaN</td>\n      <td>NaN</td>\n      <td>NaN</td>\n      <td>NaN</td>\n      <td>3.0</td>\n      <td>NaN</td>\n      <td>NaN</td>\n      <td>NaN</td>\n      <td>NaN</td>\n      <td>...</td>\n      <td>NaN</td>\n      <td>NaN</td>\n      <td>NaN</td>\n      <td>NaN</td>\n      <td>NaN</td>\n      <td>NaN</td>\n      <td>NaN</td>\n      <td>NaN</td>\n      <td>NaN</td>\n      <td>NaN</td>\n    </tr>\n    <tr>\n      <th>6037</th>\n      <td>NaN</td>\n      <td>NaN</td>\n      <td>NaN</td>\n      <td>NaN</td>\n      <td>NaN</td>\n      <td>NaN</td>\n      <td>NaN</td>\n      <td>NaN</td>\n      <td>NaN</td>\n      <td>NaN</td>\n      <td>...</td>\n      <td>NaN</td>\n      <td>NaN</td>\n      <td>NaN</td>\n      <td>NaN</td>\n      <td>NaN</td>\n      <td>NaN</td>\n      <td>NaN</td>\n      <td>NaN</td>\n      <td>NaN</td>\n      <td>NaN</td>\n    </tr>\n    <tr>\n      <th>6038</th>\n      <td>NaN</td>\n      <td>NaN</td>\n      <td>NaN</td>\n      <td>NaN</td>\n      <td>NaN</td>\n      <td>NaN</td>\n      <td>NaN</td>\n      <td>NaN</td>\n      <td>NaN</td>\n      <td>NaN</td>\n      <td>...</td>\n      <td>NaN</td>\n      <td>NaN</td>\n      <td>NaN</td>\n      <td>NaN</td>\n      <td>NaN</td>\n      <td>NaN</td>\n      <td>NaN</td>\n      <td>NaN</td>\n      <td>NaN</td>\n      <td>NaN</td>\n    </tr>\n    <tr>\n      <th>6039</th>\n      <td>NaN</td>\n      <td>NaN</td>\n      <td>NaN</td>\n      <td>NaN</td>\n      <td>NaN</td>\n      <td>NaN</td>\n      <td>NaN</td>\n      <td>NaN</td>\n      <td>NaN</td>\n      <td>NaN</td>\n      <td>...</td>\n      <td>NaN</td>\n      <td>NaN</td>\n      <td>NaN</td>\n      <td>NaN</td>\n      <td>NaN</td>\n      <td>NaN</td>\n      <td>NaN</td>\n      <td>NaN</td>\n      <td>NaN</td>\n      <td>NaN</td>\n    </tr>\n    <tr>\n      <th>6040</th>\n      <td>NaN</td>\n      <td>NaN</td>\n      <td>NaN</td>\n      <td>NaN</td>\n      <td>NaN</td>\n      <td>NaN</td>\n      <td>NaN</td>\n      <td>NaN</td>\n      <td>NaN</td>\n      <td>NaN</td>\n      <td>...</td>\n      <td>NaN</td>\n      <td>NaN</td>\n      <td>NaN</td>\n      <td>NaN</td>\n      <td>NaN</td>\n      <td>NaN</td>\n      <td>NaN</td>\n      <td>NaN</td>\n      <td>NaN</td>\n      <td>NaN</td>\n    </tr>\n  </tbody>\n</table>\n<p>6012 rows × 495 columns</p>\n</div>"
     },
     "execution_count": 10,
     "metadata": {},
     "output_type": "execute_result"
    }
   ],
   "source": [
    "subset = subset_movies(ratings, genres, 'Action')\n",
    "genre_rating = subset\n",
    "genre_rating"
   ],
   "metadata": {
    "collapsed": false,
    "ExecuteTime": {
     "end_time": "2023-11-23T20:35:20.088696400Z",
     "start_time": "2023-11-23T20:35:19.966136600Z"
    }
   }
  },
  {
   "cell_type": "code",
   "execution_count": 11,
   "outputs": [],
   "source": [
    "def most_watched_movies(genre_rating):\n",
    "    # return a list of most watched movies\n",
    "    # input is a rating matrix\n",
    "    # output is a list of movie ids\n",
    "    movie_count = genre_rating.count()\n",
    "    movie_count = movie_count\n",
    "    # scale to 0 to 1\n",
    "    movie_count = movie_count/movie_count.max()\n",
    "    movie_count = movie_count.rename('popularity')\n",
    "    return movie_count"
   ],
   "metadata": {
    "collapsed": false,
    "ExecuteTime": {
     "end_time": "2023-11-23T20:35:20.088696400Z",
     "start_time": "2023-11-23T20:35:20.063373600Z"
    }
   }
  },
  {
   "cell_type": "code",
   "execution_count": 12,
   "outputs": [
    {
     "data": {
      "text/plain": "MovieID\n260     1.000000\n1196    0.999666\n1210    0.963892\n480     0.893347\n2028    0.886994\n589     0.885657\n2571    0.865931\n1580    0.848546\n1198    0.840522\n110     0.816784\nName: popularity, dtype: float64"
     },
     "execution_count": 12,
     "metadata": {},
     "output_type": "execute_result"
    }
   ],
   "source": [
    "most_watched_movies(genre_rating).sort_values(ascending = False).head(10)"
   ],
   "metadata": {
    "collapsed": false,
    "ExecuteTime": {
     "end_time": "2023-11-23T20:35:20.088696400Z",
     "start_time": "2023-11-23T20:35:20.065884200Z"
    }
   }
  },
  {
   "cell_type": "code",
   "execution_count": 13,
   "outputs": [],
   "source": [
    "def highly_rated_movies(genre_rating):\n",
    "    # return a list of highly rated movies\n",
    "    # input is a rating matrix\n",
    "    # output is a list of movie ids\n",
    "    # using Weighted Rating (WR) = (v / (v+m)) × R + (m / (v+m)) × C\n",
    "    mean = genre_rating.mean()\n",
    "    v = genre_rating.count()\n",
    "    m = 300\n",
    "    C = mean.mean()\n",
    "    wr = (v/(v+m))*mean + (m/(v+m))*C\n",
    "    # scale to 0 to 1\n",
    "    wr = wr/wr.max()\n",
    "    wr = wr.rename('rating')\n",
    "    return wr"
   ],
   "metadata": {
    "collapsed": false,
    "ExecuteTime": {
     "end_time": "2023-11-23T20:35:20.088696400Z",
     "start_time": "2023-11-23T20:35:20.078058300Z"
    }
   }
  },
  {
   "cell_type": "code",
   "execution_count": 14,
   "outputs": [
    {
     "data": {
      "text/plain": "MovieID\n858     1.000000\n1198    0.994337\n260     0.994217\n2028    0.966971\n2571    0.961912\n1196    0.960672\n1221    0.956970\n1197    0.956433\n110     0.943819\n2019    0.938577\nName: rating, dtype: float64"
     },
     "execution_count": 14,
     "metadata": {},
     "output_type": "execute_result"
    }
   ],
   "source": [
    "highly_rated_movies(genre_rating).sort_values(ascending = False).head(10)"
   ],
   "metadata": {
    "collapsed": false,
    "ExecuteTime": {
     "end_time": "2023-11-23T20:35:20.151212Z",
     "start_time": "2023-11-23T20:35:20.081697100Z"
    }
   }
  },
  {
   "cell_type": "code",
   "execution_count": 15,
   "outputs": [],
   "source": [
    "def ranking(genre_rating, n):\n",
    "    # return a list of movies that are ranked by most watched and highly rated\n",
    "    # input is a rating matrix\n",
    "    # output is a list of movie ids\n",
    "    movie_count = most_watched_movies(genre_rating)\n",
    "    wr = highly_rated_movies(genre_rating)\n",
    "    rank = pd.merge(movie_count, wr, left_index=True, right_index=True)\n",
    "\n",
    "    # popularity count 1/3, rating 2/3\n",
    "    rank['score'] = rank['popularity']/3 + rank['rating']*2/3\n",
    "    # scale\n",
    "    rank['score'] = rank['score']/rank['score'].max()\n",
    "    return rank.sort_values(by = 'score', ascending = False).head(n)"
   ],
   "metadata": {
    "collapsed": false,
    "ExecuteTime": {
     "end_time": "2023-11-23T20:35:20.151212Z",
     "start_time": "2023-11-23T20:35:20.107535400Z"
    }
   }
  },
  {
   "cell_type": "code",
   "execution_count": 16,
   "outputs": [],
   "source": [
    "top_10_action_movie_id = ranking(genre_rating, 10)\n",
    "index = top_10_action_movie_id.index"
   ],
   "metadata": {
    "collapsed": false,
    "ExecuteTime": {
     "end_time": "2023-11-23T20:35:20.176727100Z",
     "start_time": "2023-11-23T20:35:20.109387200Z"
    }
   }
  },
  {
   "cell_type": "code",
   "execution_count": 17,
   "outputs": [
    {
     "data": {
      "text/plain": "      MovieID                                              Title  \\\n108       110                                  Braveheart (1995)   \n257       260          Star Wars: Episode IV - A New Hope (1977)   \n585       589                  Terminator 2: Judgment Day (1991)   \n847       858                              Godfather, The (1972)   \n1178     1196  Star Wars: Episode V - The Empire Strikes Back...   \n1179     1197                         Princess Bride, The (1987)   \n1180     1198                     Raiders of the Lost Ark (1981)   \n1192     1210  Star Wars: Episode VI - Return of the Jedi (1983)   \n1959     2028                         Saving Private Ryan (1998)   \n2502     2571                                 Matrix, The (1999)   \n\n                                   Genres  \n108                      Action|Drama|War  \n257       Action|Adventure|Fantasy|Sci-Fi  \n585                Action|Sci-Fi|Thriller  \n847                    Action|Crime|Drama  \n1178    Action|Adventure|Drama|Sci-Fi|War  \n1179      Action|Adventure|Comedy|Romance  \n1180                     Action|Adventure  \n1192  Action|Adventure|Romance|Sci-Fi|War  \n1959                     Action|Drama|War  \n2502               Action|Sci-Fi|Thriller  ",
      "text/html": "<div>\n<style scoped>\n    .dataframe tbody tr th:only-of-type {\n        vertical-align: middle;\n    }\n\n    .dataframe tbody tr th {\n        vertical-align: top;\n    }\n\n    .dataframe thead th {\n        text-align: right;\n    }\n</style>\n<table border=\"1\" class=\"dataframe\">\n  <thead>\n    <tr style=\"text-align: right;\">\n      <th></th>\n      <th>MovieID</th>\n      <th>Title</th>\n      <th>Genres</th>\n    </tr>\n  </thead>\n  <tbody>\n    <tr>\n      <th>108</th>\n      <td>110</td>\n      <td>Braveheart (1995)</td>\n      <td>Action|Drama|War</td>\n    </tr>\n    <tr>\n      <th>257</th>\n      <td>260</td>\n      <td>Star Wars: Episode IV - A New Hope (1977)</td>\n      <td>Action|Adventure|Fantasy|Sci-Fi</td>\n    </tr>\n    <tr>\n      <th>585</th>\n      <td>589</td>\n      <td>Terminator 2: Judgment Day (1991)</td>\n      <td>Action|Sci-Fi|Thriller</td>\n    </tr>\n    <tr>\n      <th>847</th>\n      <td>858</td>\n      <td>Godfather, The (1972)</td>\n      <td>Action|Crime|Drama</td>\n    </tr>\n    <tr>\n      <th>1178</th>\n      <td>1196</td>\n      <td>Star Wars: Episode V - The Empire Strikes Back...</td>\n      <td>Action|Adventure|Drama|Sci-Fi|War</td>\n    </tr>\n    <tr>\n      <th>1179</th>\n      <td>1197</td>\n      <td>Princess Bride, The (1987)</td>\n      <td>Action|Adventure|Comedy|Romance</td>\n    </tr>\n    <tr>\n      <th>1180</th>\n      <td>1198</td>\n      <td>Raiders of the Lost Ark (1981)</td>\n      <td>Action|Adventure</td>\n    </tr>\n    <tr>\n      <th>1192</th>\n      <td>1210</td>\n      <td>Star Wars: Episode VI - Return of the Jedi (1983)</td>\n      <td>Action|Adventure|Romance|Sci-Fi|War</td>\n    </tr>\n    <tr>\n      <th>1959</th>\n      <td>2028</td>\n      <td>Saving Private Ryan (1998)</td>\n      <td>Action|Drama|War</td>\n    </tr>\n    <tr>\n      <th>2502</th>\n      <td>2571</td>\n      <td>Matrix, The (1999)</td>\n      <td>Action|Sci-Fi|Thriller</td>\n    </tr>\n  </tbody>\n</table>\n</div>"
     },
     "execution_count": 17,
     "metadata": {},
     "output_type": "execute_result"
    }
   ],
   "source": [
    "# return a list of movies that are ranked by most watched and highly rated\n",
    "action_movie = movies[movies['MovieID'].isin(index)]\n",
    "action_movie"
   ],
   "metadata": {
    "collapsed": false,
    "ExecuteTime": {
     "end_time": "2023-11-23T20:35:20.176727100Z",
     "start_time": "2023-11-23T20:35:20.138108200Z"
    }
   }
  },
  {
   "cell_type": "code",
   "execution_count": 17,
   "outputs": [],
   "source": [],
   "metadata": {
    "collapsed": false,
    "ExecuteTime": {
     "end_time": "2023-11-23T20:35:20.176727100Z",
     "start_time": "2023-11-23T20:35:20.142338100Z"
    }
   }
  }
 ],
 "metadata": {
  "kernelspec": {
   "display_name": "Python 3",
   "language": "python",
   "name": "python3"
  },
  "language_info": {
   "codemirror_mode": {
    "name": "ipython",
    "version": 2
   },
   "file_extension": ".py",
   "mimetype": "text/x-python",
   "name": "python",
   "nbconvert_exporter": "python",
   "pygments_lexer": "ipython2",
   "version": "2.7.6"
  }
 },
 "nbformat": 4,
 "nbformat_minor": 0
}
