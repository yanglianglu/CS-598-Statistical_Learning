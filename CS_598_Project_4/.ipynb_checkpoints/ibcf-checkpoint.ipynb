{
 "cells": [
  {
   "cell_type": "code",
   "execution_count": 61,
   "metadata": {
    "collapsed": true,
    "ExecuteTime": {
     "end_time": "2023-11-29T20:32:32.276386800Z",
     "start_time": "2023-11-29T20:32:32.238454800Z"
    }
   },
   "outputs": [],
   "source": [
    "import pandas as pd"
   ]
  },
  {
   "cell_type": "code",
   "execution_count": 62,
   "outputs": [],
   "source": [
    "ratings = pd.read_csv('data/ratings.dat', sep='::', engine = 'python', header=None)\n",
    "ratings.columns = ['UserID', 'MovieID', 'Rating', 'Timestamp']\n",
    "movies = pd.read_csv(r'D:\\UIUC\\CSE_598_Statistical_Learning\\MP\\CS-598-Statistical_Learning\\CS_598_Project_4\\data\\movies.dat', sep='::', engine = 'python',\n",
    "                     encoding=\"ISO-8859-1\", header = None)\n",
    "movies.columns = ['MovieID', 'Title', 'Genres']"
   ],
   "metadata": {
    "collapsed": false,
    "ExecuteTime": {
     "end_time": "2023-11-29T20:32:34.799498Z",
     "start_time": "2023-11-29T20:32:32.241861500Z"
    }
   }
  },
  {
   "cell_type": "code",
   "execution_count": 63,
   "outputs": [
    {
     "data": {
      "text/plain": "   MovieID                               Title                        Genres\n0        1                    Toy Story (1995)   Animation|Children's|Comedy\n1        2                      Jumanji (1995)  Adventure|Children's|Fantasy\n2        3             Grumpier Old Men (1995)                Comedy|Romance\n3        4            Waiting to Exhale (1995)                  Comedy|Drama\n4        5  Father of the Bride Part II (1995)                        Comedy",
      "text/html": "<div>\n<style scoped>\n    .dataframe tbody tr th:only-of-type {\n        vertical-align: middle;\n    }\n\n    .dataframe tbody tr th {\n        vertical-align: top;\n    }\n\n    .dataframe thead th {\n        text-align: right;\n    }\n</style>\n<table border=\"1\" class=\"dataframe\">\n  <thead>\n    <tr style=\"text-align: right;\">\n      <th></th>\n      <th>MovieID</th>\n      <th>Title</th>\n      <th>Genres</th>\n    </tr>\n  </thead>\n  <tbody>\n    <tr>\n      <th>0</th>\n      <td>1</td>\n      <td>Toy Story (1995)</td>\n      <td>Animation|Children's|Comedy</td>\n    </tr>\n    <tr>\n      <th>1</th>\n      <td>2</td>\n      <td>Jumanji (1995)</td>\n      <td>Adventure|Children's|Fantasy</td>\n    </tr>\n    <tr>\n      <th>2</th>\n      <td>3</td>\n      <td>Grumpier Old Men (1995)</td>\n      <td>Comedy|Romance</td>\n    </tr>\n    <tr>\n      <th>3</th>\n      <td>4</td>\n      <td>Waiting to Exhale (1995)</td>\n      <td>Comedy|Drama</td>\n    </tr>\n    <tr>\n      <th>4</th>\n      <td>5</td>\n      <td>Father of the Bride Part II (1995)</td>\n      <td>Comedy</td>\n    </tr>\n  </tbody>\n</table>\n</div>"
     },
     "execution_count": 63,
     "metadata": {},
     "output_type": "execute_result"
    }
   ],
   "source": [
    "movies"
   ],
   "metadata": {
    "collapsed": false,
    "ExecuteTime": {
     "end_time": "2023-11-29T20:32:34.803801800Z",
     "start_time": "2023-11-29T20:32:34.799498Z"
    }
   }
  },
  {
   "cell_type": "code",
   "execution_count": 64,
   "outputs": [
    {
     "data": {
      "text/plain": "UserID   1     2     3     4     5     6     7     8     9     10    ...  \\\nMovieID                                                              ...   \n1         5.0   NaN   NaN   NaN   NaN   4.0   NaN   4.0   5.0   5.0  ...   \n2         NaN   NaN   NaN   NaN   NaN   NaN   NaN   NaN   NaN   5.0  ...   \n3         NaN   NaN   NaN   NaN   NaN   NaN   NaN   NaN   NaN   NaN  ...   \n4         NaN   NaN   NaN   NaN   NaN   NaN   NaN   3.0   NaN   NaN  ...   \n5         NaN   NaN   NaN   NaN   NaN   NaN   NaN   NaN   NaN   NaN  ...   \n\nUserID   6031  6032  6033  6034  6035  6036  6037  6038  6039  6040  \nMovieID                                                              \n1         NaN   4.0   NaN   NaN   4.0   NaN   NaN   NaN   NaN   3.0  \n2         NaN   NaN   NaN   NaN   NaN   NaN   NaN   NaN   NaN   NaN  \n3         NaN   NaN   NaN   NaN   1.0   NaN   NaN   NaN   NaN   NaN  \n4         NaN   NaN   NaN   NaN   2.0   2.0   NaN   NaN   NaN   NaN  \n5         NaN   NaN   NaN   NaN   1.0   NaN   NaN   NaN   NaN   NaN  \n\n[5 rows x 6040 columns]",
      "text/html": "<div>\n<style scoped>\n    .dataframe tbody tr th:only-of-type {\n        vertical-align: middle;\n    }\n\n    .dataframe tbody tr th {\n        vertical-align: top;\n    }\n\n    .dataframe thead th {\n        text-align: right;\n    }\n</style>\n<table border=\"1\" class=\"dataframe\">\n  <thead>\n    <tr style=\"text-align: right;\">\n      <th>UserID</th>\n      <th>1</th>\n      <th>2</th>\n      <th>3</th>\n      <th>4</th>\n      <th>5</th>\n      <th>6</th>\n      <th>7</th>\n      <th>8</th>\n      <th>9</th>\n      <th>10</th>\n      <th>...</th>\n      <th>6031</th>\n      <th>6032</th>\n      <th>6033</th>\n      <th>6034</th>\n      <th>6035</th>\n      <th>6036</th>\n      <th>6037</th>\n      <th>6038</th>\n      <th>6039</th>\n      <th>6040</th>\n    </tr>\n    <tr>\n      <th>MovieID</th>\n      <th></th>\n      <th></th>\n      <th></th>\n      <th></th>\n      <th></th>\n      <th></th>\n      <th></th>\n      <th></th>\n      <th></th>\n      <th></th>\n      <th></th>\n      <th></th>\n      <th></th>\n      <th></th>\n      <th></th>\n      <th></th>\n      <th></th>\n      <th></th>\n      <th></th>\n      <th></th>\n      <th></th>\n    </tr>\n  </thead>\n  <tbody>\n    <tr>\n      <th>1</th>\n      <td>5.0</td>\n      <td>NaN</td>\n      <td>NaN</td>\n      <td>NaN</td>\n      <td>NaN</td>\n      <td>4.0</td>\n      <td>NaN</td>\n      <td>4.0</td>\n      <td>5.0</td>\n      <td>5.0</td>\n      <td>...</td>\n      <td>NaN</td>\n      <td>4.0</td>\n      <td>NaN</td>\n      <td>NaN</td>\n      <td>4.0</td>\n      <td>NaN</td>\n      <td>NaN</td>\n      <td>NaN</td>\n      <td>NaN</td>\n      <td>3.0</td>\n    </tr>\n    <tr>\n      <th>2</th>\n      <td>NaN</td>\n      <td>NaN</td>\n      <td>NaN</td>\n      <td>NaN</td>\n      <td>NaN</td>\n      <td>NaN</td>\n      <td>NaN</td>\n      <td>NaN</td>\n      <td>NaN</td>\n      <td>5.0</td>\n      <td>...</td>\n      <td>NaN</td>\n      <td>NaN</td>\n      <td>NaN</td>\n      <td>NaN</td>\n      <td>NaN</td>\n      <td>NaN</td>\n      <td>NaN</td>\n      <td>NaN</td>\n      <td>NaN</td>\n      <td>NaN</td>\n    </tr>\n    <tr>\n      <th>3</th>\n      <td>NaN</td>\n      <td>NaN</td>\n      <td>NaN</td>\n      <td>NaN</td>\n      <td>NaN</td>\n      <td>NaN</td>\n      <td>NaN</td>\n      <td>NaN</td>\n      <td>NaN</td>\n      <td>NaN</td>\n      <td>...</td>\n      <td>NaN</td>\n      <td>NaN</td>\n      <td>NaN</td>\n      <td>NaN</td>\n      <td>1.0</td>\n      <td>NaN</td>\n      <td>NaN</td>\n      <td>NaN</td>\n      <td>NaN</td>\n      <td>NaN</td>\n    </tr>\n    <tr>\n      <th>4</th>\n      <td>NaN</td>\n      <td>NaN</td>\n      <td>NaN</td>\n      <td>NaN</td>\n      <td>NaN</td>\n      <td>NaN</td>\n      <td>NaN</td>\n      <td>3.0</td>\n      <td>NaN</td>\n      <td>NaN</td>\n      <td>...</td>\n      <td>NaN</td>\n      <td>NaN</td>\n      <td>NaN</td>\n      <td>NaN</td>\n      <td>2.0</td>\n      <td>2.0</td>\n      <td>NaN</td>\n      <td>NaN</td>\n      <td>NaN</td>\n      <td>NaN</td>\n    </tr>\n    <tr>\n      <th>5</th>\n      <td>NaN</td>\n      <td>NaN</td>\n      <td>NaN</td>\n      <td>NaN</td>\n      <td>NaN</td>\n      <td>NaN</td>\n      <td>NaN</td>\n      <td>NaN</td>\n      <td>NaN</td>\n      <td>NaN</td>\n      <td>...</td>\n      <td>NaN</td>\n      <td>NaN</td>\n      <td>NaN</td>\n      <td>NaN</td>\n      <td>1.0</td>\n      <td>NaN</td>\n      <td>NaN</td>\n      <td>NaN</td>\n      <td>NaN</td>\n      <td>NaN</td>\n    </tr>\n  </tbody>\n</table>\n<p>5 rows × 6040 columns</p>\n</div>"
     },
     "execution_count": 64,
     "metadata": {},
     "output_type": "execute_result"
    }
   ],
   "source": [
    "item_feature_matrix = ratings.pivot_table(index='MovieID', columns='UserID', values='Rating')\n",
    "item_feature_matrix"
   ],
   "metadata": {
    "collapsed": false,
    "ExecuteTime": {
     "end_time": "2023-11-29T20:32:35.271599100Z",
     "start_time": "2023-11-29T20:32:34.803801800Z"
    }
   }
  },
  {
   "cell_type": "code",
   "execution_count": 84,
   "outputs": [
    {
     "data": {
      "text/plain": "(3706,)"
     },
     "execution_count": 84,
     "metadata": {},
     "output_type": "execute_result"
    }
   ],
   "source": [
    "item_feature_matrix"
   ],
   "metadata": {
    "collapsed": false,
    "ExecuteTime": {
     "end_time": "2023-11-29T21:22:01.078041700Z",
     "start_time": "2023-11-29T21:22:00.809856300Z"
    }
   }
  },
  {
   "cell_type": "code",
   "execution_count": 85,
   "outputs": [
    {
     "data": {
      "text/plain": "             1     2     3     4     5         6     7         8         9     \\\nMovieID                                                                         \n1        0.853154   NaN   NaN   NaN   NaN  0.121277   NaN  0.985294  2.343137   \n2             NaN   NaN   NaN   NaN   NaN       NaN   NaN       NaN       NaN   \n3             NaN   NaN   NaN   NaN   NaN       NaN   NaN       NaN       NaN   \n4             NaN   NaN   NaN   NaN   NaN       NaN   NaN -0.014706       NaN   \n5             NaN   NaN   NaN   NaN   NaN       NaN   NaN       NaN       NaN   \n\n             10    ...  6031  6032  6033  6034  6035  6036  6037  6038  6039  \\\nMovieID            ...                                                         \n1        1.459459  ...   NaN   NaN   NaN   NaN   NaN   NaN   NaN   NaN   NaN   \n2        1.459459  ...   NaN   NaN   NaN   NaN   NaN   NaN   NaN   NaN   NaN   \n3             NaN  ...   NaN   NaN   NaN   NaN   NaN   NaN   NaN   NaN   NaN   \n4             NaN  ...   NaN   NaN   NaN   NaN   NaN   NaN   NaN   NaN   NaN   \n5             NaN  ...   NaN   NaN   NaN   NaN   NaN   NaN   NaN   NaN   NaN   \n\n         6040  \nMovieID        \n1         NaN  \n2         NaN  \n3         NaN  \n4         NaN  \n5         NaN  \n\n[5 rows x 6040 columns]",
      "text/html": "<div>\n<style scoped>\n    .dataframe tbody tr th:only-of-type {\n        vertical-align: middle;\n    }\n\n    .dataframe tbody tr th {\n        vertical-align: top;\n    }\n\n    .dataframe thead th {\n        text-align: right;\n    }\n</style>\n<table border=\"1\" class=\"dataframe\">\n  <thead>\n    <tr style=\"text-align: right;\">\n      <th></th>\n      <th>1</th>\n      <th>2</th>\n      <th>3</th>\n      <th>4</th>\n      <th>5</th>\n      <th>6</th>\n      <th>7</th>\n      <th>8</th>\n      <th>9</th>\n      <th>10</th>\n      <th>...</th>\n      <th>6031</th>\n      <th>6032</th>\n      <th>6033</th>\n      <th>6034</th>\n      <th>6035</th>\n      <th>6036</th>\n      <th>6037</th>\n      <th>6038</th>\n      <th>6039</th>\n      <th>6040</th>\n    </tr>\n    <tr>\n      <th>MovieID</th>\n      <th></th>\n      <th></th>\n      <th></th>\n      <th></th>\n      <th></th>\n      <th></th>\n      <th></th>\n      <th></th>\n      <th></th>\n      <th></th>\n      <th></th>\n      <th></th>\n      <th></th>\n      <th></th>\n      <th></th>\n      <th></th>\n      <th></th>\n      <th></th>\n      <th></th>\n      <th></th>\n      <th></th>\n    </tr>\n  </thead>\n  <tbody>\n    <tr>\n      <th>1</th>\n      <td>0.853154</td>\n      <td>NaN</td>\n      <td>NaN</td>\n      <td>NaN</td>\n      <td>NaN</td>\n      <td>0.121277</td>\n      <td>NaN</td>\n      <td>0.985294</td>\n      <td>2.343137</td>\n      <td>1.459459</td>\n      <td>...</td>\n      <td>NaN</td>\n      <td>NaN</td>\n      <td>NaN</td>\n      <td>NaN</td>\n      <td>NaN</td>\n      <td>NaN</td>\n      <td>NaN</td>\n      <td>NaN</td>\n      <td>NaN</td>\n      <td>NaN</td>\n    </tr>\n    <tr>\n      <th>2</th>\n      <td>NaN</td>\n      <td>NaN</td>\n      <td>NaN</td>\n      <td>NaN</td>\n      <td>NaN</td>\n      <td>NaN</td>\n      <td>NaN</td>\n      <td>NaN</td>\n      <td>NaN</td>\n      <td>1.459459</td>\n      <td>...</td>\n      <td>NaN</td>\n      <td>NaN</td>\n      <td>NaN</td>\n      <td>NaN</td>\n      <td>NaN</td>\n      <td>NaN</td>\n      <td>NaN</td>\n      <td>NaN</td>\n      <td>NaN</td>\n      <td>NaN</td>\n    </tr>\n    <tr>\n      <th>3</th>\n      <td>NaN</td>\n      <td>NaN</td>\n      <td>NaN</td>\n      <td>NaN</td>\n      <td>NaN</td>\n      <td>NaN</td>\n      <td>NaN</td>\n      <td>NaN</td>\n      <td>NaN</td>\n      <td>NaN</td>\n      <td>...</td>\n      <td>NaN</td>\n      <td>NaN</td>\n      <td>NaN</td>\n      <td>NaN</td>\n      <td>NaN</td>\n      <td>NaN</td>\n      <td>NaN</td>\n      <td>NaN</td>\n      <td>NaN</td>\n      <td>NaN</td>\n    </tr>\n    <tr>\n      <th>4</th>\n      <td>NaN</td>\n      <td>NaN</td>\n      <td>NaN</td>\n      <td>NaN</td>\n      <td>NaN</td>\n      <td>NaN</td>\n      <td>NaN</td>\n      <td>-0.014706</td>\n      <td>NaN</td>\n      <td>NaN</td>\n      <td>...</td>\n      <td>NaN</td>\n      <td>NaN</td>\n      <td>NaN</td>\n      <td>NaN</td>\n      <td>NaN</td>\n      <td>NaN</td>\n      <td>NaN</td>\n      <td>NaN</td>\n      <td>NaN</td>\n      <td>NaN</td>\n    </tr>\n    <tr>\n      <th>5</th>\n      <td>NaN</td>\n      <td>NaN</td>\n      <td>NaN</td>\n      <td>NaN</td>\n      <td>NaN</td>\n      <td>NaN</td>\n      <td>NaN</td>\n      <td>NaN</td>\n      <td>NaN</td>\n      <td>NaN</td>\n      <td>...</td>\n      <td>NaN</td>\n      <td>NaN</td>\n      <td>NaN</td>\n      <td>NaN</td>\n      <td>NaN</td>\n      <td>NaN</td>\n      <td>NaN</td>\n      <td>NaN</td>\n      <td>NaN</td>\n      <td>NaN</td>\n    </tr>\n  </tbody>\n</table>\n<p>5 rows × 6040 columns</p>\n</div>"
     },
     "execution_count": 85,
     "metadata": {},
     "output_type": "execute_result"
    }
   ],
   "source": [
    "mean_ratings = item_feature_matrix.mean(axis=0, skipna=True)\n",
    "mean_ratings.shape"
   ],
   "metadata": {
    "collapsed": false,
    "ExecuteTime": {
     "end_time": "2023-11-29T21:22:01.445242400Z",
     "start_time": "2023-11-29T21:22:01.368672400Z"
    }
   }
  },
  {
   "cell_type": "code",
   "execution_count": 67,
   "outputs": [
    {
     "data": {
      "text/plain": "1470   -2.0\nName: 1510, dtype: float64"
     },
     "execution_count": 67,
     "metadata": {},
     "output_type": "execute_result"
    }
   ],
   "source": [
    "normalized_ratings = item_feature_matrix.sub(mean_ratings, axis=1)\n",
    "# if the rating is negative, set it to 0\n",
    "# normalized_ratings = normalized_ratings.clip(lower=0)\n",
    "normalized_ratings.head()"
   ],
   "metadata": {
    "collapsed": false,
    "ExecuteTime": {
     "end_time": "2023-11-29T20:32:35.603539900Z",
     "start_time": "2023-11-29T20:32:35.599514500Z"
    }
   }
  },
  {
   "cell_type": "code",
   "execution_count": 68,
   "outputs": [],
   "source": [
    "# count number of not null values for 1510\n",
    "not_null_count = normalized_ratings.loc[1510].notnull()\n",
    "normalized_ratings.loc[1510, not_null_count]"
   ],
   "metadata": {
    "collapsed": false,
    "ExecuteTime": {
     "end_time": "2023-11-29T20:32:35.610355700Z",
     "start_time": "2023-11-29T20:32:35.605549600Z"
    }
   }
  },
  {
   "cell_type": "code",
   "execution_count": 69,
   "outputs": [],
   "source": [
    "import numpy as np\n",
    "import pandas as pd\n",
    "from joblib import Parallel, delayed\n",
    "from scipy.sparse import csr_matrix\n",
    "from sklearn.metrics.pairwise import cosine_similarity\n",
    "from joblib import Parallel, delayed\n",
    "\n",
    "def compute_similarity_matrix(rating, top_n=None, n_jobs=-1):\n",
    "    \"\"\"\n",
    "    Compute the item-item similarity matrix for a given matrix of centered ratings using sparse matrices and parallel computation.\n",
    "\n",
    "    Parameters:\n",
    "    - centered_rating_matrix: pd.DataFrame, a DataFrame where rows represent movies,\n",
    "      columns represent users, and values represent centered ratings.\n",
    "    - top_n: int, the number of most similar items to keep for each item.\n",
    "    - n_jobs: int, the number of jobs to run in parallel. -1 means using all processors.\n",
    "\n",
    "    Returns:\n",
    "    - pd.DataFrame or scipy.sparse matrix, the similarity matrix with movies as both rows and columns, containing top N similarities.\n",
    "    \"\"\"\n",
    "    # for each movie, if user has rated it, set it to 1, otherwise set it to 0\n",
    "    rating = rating.fillna(0)\n",
    "    binary_rating = pd.DataFrame(np.where(rating > 0, 1, 0), index=rating.index, columns=rating.columns)\n",
    "    import torch\n",
    "    binary_tensor = torch.tensor(binary_rating.values, dtype=torch.float32)\n",
    "    binary_tensor = binary_tensor.cuda()\n",
    "\n",
    "    rating_count = binary_tensor.matmul(binary_tensor.t())\n",
    "    rating_count = rating_count.cpu().numpy()\n",
    "\n",
    "    rating_count = np.where(rating_count < 3, 0, 1)\n",
    "    cosine_sim_df = pd.DataFrame(index=rating.index, columns=rating.index)\n",
    "\n",
    "    def compute_similarity(i, j, rating_matrix, rating_count):\n",
    "        if rating_count[i, j]:\n",
    "            vec_i = rating_matrix.iloc[i]\n",
    "            vec_j = rating_matrix.iloc[j]\n",
    "            similarity = np.dot(vec_i, vec_j) / (np.linalg.norm(vec_i) * np.linalg.norm(vec_j))\n",
    "        else:\n",
    "            similarity = 0\n",
    "        return i, j, similarity\n",
    "\n",
    "    # Parallel computation of cosine similarity\n",
    "    results = Parallel(n_jobs=-1)(delayed(compute_similarity)(i, j, rating, rating_count)\n",
    "                                  for i in range(len(rating))\n",
    "                                  for j in range(i, len(rating)))\n",
    "\n",
    "    # Fill the DataFrame with the computed similarities\n",
    "    for i, j, similarity in results:\n",
    "        cosine_sim_df.iloc[i, j] = similarity\n",
    "        cosine_sim_df.iloc[j, i] = similarity  # symmetry\n",
    "    if top_n is None:\n",
    "        return cosine_sim_df\n",
    "\n",
    "    # # Convert the sparse similarity matrix to a dense DataFrame for further processing\n",
    "    # similarity_matrix_dense = pd.DataFrame(cosine_sim_sparse.todense(),\n",
    "    #                                        index=centered_rating_matrix.index,\n",
    "    #                                        columns=centered_rating_matrix.index)\n",
    "    #\n",
    "    # # Create a binary user-movie matrix\n",
    "    # user_movie_matrix = (centered_rating_matrix != 0).astype(int)\n",
    "    #\n",
    "    # # Compute the common ratings mask\n",
    "    # common_ratings_mask = user_movie_matrix.T.dot(user_movie_matrix) >= 3\n",
    "    #\n",
    "    # # Apply the mask to set values to NaN where the condition is not met\n",
    "    # similarity_matrix_dense.where(common_ratings_mask, np.nan, inplace=True)\n",
    "    #\n",
    "    # # Define function to be parallelized for extracting the top N similar movies\n",
    "    # def extract_top_n(similarity_series):\n",
    "    #     non_nan_series = similarity_series.dropna()\n",
    "    #     if len(non_nan_series) < top_n:\n",
    "    #         return non_nan_series.index.tolist() + [np.nan] * (top_n - len(non_nan_series))\n",
    "    #     return non_nan_series.nlargest(top_n).tolist()\n",
    "    #\n",
    "    # # Extract the top N similar movies for each movie using parallel computation\n",
    "    # results = Parallel(n_jobs=n_jobs)(delayed(extract_top_n)(similarity_matrix_dense.loc[movie_id])\n",
    "    #                                   for movie_id in similarity_matrix_dense.index)\n",
    "    #\n",
    "    # # Construct the final DataFrame with the top N similarities for each movie\n",
    "    # similarity_matrix_top_n = pd.DataFrame(results, index=centered_rating_matrix.index, columns=range(top_n))\n",
    "\n",
    "    # return similarity_matrix_top_n\n"
   ],
   "metadata": {
    "collapsed": false,
    "ExecuteTime": {
     "end_time": "2023-11-29T20:32:35.616748200Z",
     "start_time": "2023-11-29T20:32:35.610355700Z"
    }
   }
  },
  {
   "cell_type": "code",
   "execution_count": 84,
   "outputs": [],
   "source": [
    "# top_30_similarity_matrix = compute_similarity_matrix(normalized_ratings, top_n=30)"
   ],
   "metadata": {
    "collapsed": false,
    "ExecuteTime": {
     "end_time": "2023-11-29T01:19:12.438413500Z",
     "start_time": "2023-11-29T01:19:12.392852300Z"
    }
   }
  },
  {
   "cell_type": "markdown",
   "source": [
    "## Display the pairwise similarity values from the S\n",
    "## matrix with movie ID 1, 10, 100, 1510, 260, and 3212"
   ],
   "metadata": {
    "collapsed": false,
    "ExecuteTime": {
     "end_time": "2023-11-29T20:32:35.663938Z",
     "start_time": "2023-11-29T20:32:35.616748200Z"
    }
   },
   "outputs": [],
   "execution_count": 70
  },
  {
   "cell_type": "code",
   "execution_count": 71,
   "outputs": [
    {
     "data": {
      "text/plain": "(3706, 6040)"
     },
     "execution_count": 71,
     "metadata": {},
     "output_type": "execute_result"
    }
   ],
   "source": [
    "\n",
    "specified_movies = [1, 10, 100, 1510, 260, 3212]\n",
    "# top_30_similarity_matrix.loc[specified_movies].round(7)"
   ],
   "metadata": {
    "collapsed": false,
    "ExecuteTime": {
     "end_time": "2023-11-29T20:32:35.663938Z",
     "start_time": "2023-11-29T20:32:35.623201600Z"
    }
   }
  },
  {
   "cell_type": "code",
   "execution_count": 72,
   "outputs": [
    {
     "data": {
      "text/plain": "Index([   1,    2,    3,    4,    5,    6,    7,    8,    9,   10,\n       ...\n       3943, 3944, 3945, 3946, 3947, 3948, 3949, 3950, 3951, 3952],\n      dtype='int64', name='MovieID', length=3706)"
     },
     "execution_count": 72,
     "metadata": {},
     "output_type": "execute_result"
    }
   ],
   "source": [
    "normalized_ratings = normalized_ratings\n",
    "normalized_ratings.shape"
   ],
   "metadata": {
    "collapsed": false,
    "ExecuteTime": {
     "end_time": "2023-11-29T20:32:35.663938Z",
     "start_time": "2023-11-29T20:32:35.630662700Z"
    }
   }
  },
  {
   "cell_type": "code",
   "execution_count": 73,
   "outputs": [],
   "source": [
    "normalized_ratings.index"
   ],
   "metadata": {
    "collapsed": false,
    "ExecuteTime": {
     "end_time": "2023-11-29T20:40:39.544446300Z",
     "start_time": "2023-11-29T20:32:35.636939100Z"
    }
   }
  },
  {
   "cell_type": "code",
   "execution_count": 74,
   "outputs": [],
   "source": [
    "similarity_matrix = compute_similarity_matrix(normalized_ratings)"
   ],
   "metadata": {
    "collapsed": false,
    "ExecuteTime": {
     "end_time": "2023-11-29T20:40:42.344847300Z",
     "start_time": "2023-11-29T20:40:39.546447500Z"
    }
   }
  },
  {
   "cell_type": "code",
   "execution_count": 75,
   "outputs": [],
   "source": [
    "similarity_matrix = similarity_matrix.replace(0, np.nan)\n",
    "similarity_matrix = 0.5 + 0.5 * similarity_matrix"
   ],
   "metadata": {
    "collapsed": false,
    "ExecuteTime": {
     "end_time": "2023-11-29T20:40:42.347275900Z",
     "start_time": "2023-11-29T20:40:42.345653800Z"
    }
   }
  },
  {
   "cell_type": "code",
   "execution_count": 76,
   "outputs": [
    {
     "data": {
      "text/plain": "MovieID      1         10        100   1510      260   3212\nMovieID                                                    \n1        1.000000  0.602455  0.515104   NaN  0.707566   NaN\n10       0.602455  1.000000  0.550467   NaN  0.612781   NaN\n100      0.515104  0.550467  1.000000   NaN  0.497183   NaN\n1510          NaN       NaN       NaN   NaN       NaN   NaN\n260      0.707566  0.612781  0.497183   NaN  1.000000   NaN\n3212          NaN       NaN       NaN   NaN       NaN   NaN",
      "text/html": "<div>\n<style scoped>\n    .dataframe tbody tr th:only-of-type {\n        vertical-align: middle;\n    }\n\n    .dataframe tbody tr th {\n        vertical-align: top;\n    }\n\n    .dataframe thead th {\n        text-align: right;\n    }\n</style>\n<table border=\"1\" class=\"dataframe\">\n  <thead>\n    <tr style=\"text-align: right;\">\n      <th>MovieID</th>\n      <th>1</th>\n      <th>10</th>\n      <th>100</th>\n      <th>1510</th>\n      <th>260</th>\n      <th>3212</th>\n    </tr>\n    <tr>\n      <th>MovieID</th>\n      <th></th>\n      <th></th>\n      <th></th>\n      <th></th>\n      <th></th>\n      <th></th>\n    </tr>\n  </thead>\n  <tbody>\n    <tr>\n      <th>1</th>\n      <td>1.000000</td>\n      <td>0.602455</td>\n      <td>0.515104</td>\n      <td>NaN</td>\n      <td>0.707566</td>\n      <td>NaN</td>\n    </tr>\n    <tr>\n      <th>10</th>\n      <td>0.602455</td>\n      <td>1.000000</td>\n      <td>0.550467</td>\n      <td>NaN</td>\n      <td>0.612781</td>\n      <td>NaN</td>\n    </tr>\n    <tr>\n      <th>100</th>\n      <td>0.515104</td>\n      <td>0.550467</td>\n      <td>1.000000</td>\n      <td>NaN</td>\n      <td>0.497183</td>\n      <td>NaN</td>\n    </tr>\n    <tr>\n      <th>1510</th>\n      <td>NaN</td>\n      <td>NaN</td>\n      <td>NaN</td>\n      <td>NaN</td>\n      <td>NaN</td>\n      <td>NaN</td>\n    </tr>\n    <tr>\n      <th>260</th>\n      <td>0.707566</td>\n      <td>0.612781</td>\n      <td>0.497183</td>\n      <td>NaN</td>\n      <td>1.000000</td>\n      <td>NaN</td>\n    </tr>\n    <tr>\n      <th>3212</th>\n      <td>NaN</td>\n      <td>NaN</td>\n      <td>NaN</td>\n      <td>NaN</td>\n      <td>NaN</td>\n      <td>NaN</td>\n    </tr>\n  </tbody>\n</table>\n</div>"
     },
     "execution_count": 76,
     "metadata": {},
     "output_type": "execute_result"
    }
   ],
   "source": [
    "# similarity_matrix = (similarity_matrix - 0.5) / similarity_matrix"
   ],
   "metadata": {
    "collapsed": false,
    "ExecuteTime": {
     "end_time": "2023-11-29T20:40:42.398151800Z",
     "start_time": "2023-11-29T20:40:42.348631Z"
    }
   }
  },
  {
   "cell_type": "code",
   "execution_count": 77,
   "outputs": [],
   "source": [
    "np.linalg.norm([-3, 4], ord=2)"
   ],
   "metadata": {
    "collapsed": false,
    "ExecuteTime": {
     "end_time": "2023-11-29T20:40:42.398151800Z",
     "start_time": "2023-11-29T20:40:42.373511300Z"
    }
   }
  },
  {
   "cell_type": "code",
   "execution_count": 78,
   "outputs": [],
   "source": [
    "# convert to dense matrix\n",
    "# replace 0 to nan\n",
    "specified_movies = [1, 10, 100, 1510, 260, 3212]\n",
    "similarity_matrix.loc[specified_movies, specified_movies].round(7)"
   ],
   "metadata": {
    "collapsed": false,
    "ExecuteTime": {
     "end_time": "2023-11-29T20:40:42.398151800Z",
     "start_time": "2023-11-29T20:40:42.380651300Z"
    }
   }
  },
  {
   "cell_type": "code",
   "execution_count": 79,
   "outputs": [
    {
     "data": {
      "text/plain": "MovieID\n1    5\n2    0\n3    0\n4    0\n5    0\nName: Rating, dtype: int64"
     },
     "execution_count": 79,
     "metadata": {},
     "output_type": "execute_result"
    }
   ],
   "source": [
    "# # save sparse matrix\n",
    "# from scipy.sparse import save_npz\n",
    "# save_npz('data/similarity_matrix.npz', similarity_matrix)"
   ],
   "metadata": {
    "collapsed": false,
    "ExecuteTime": {
     "end_time": "2023-11-29T20:40:42.416267300Z",
     "start_time": "2023-11-29T20:40:42.387879400Z"
    }
   }
  },
  {
   "cell_type": "code",
   "execution_count": 80,
   "outputs": [
    {
     "data": {
      "text/plain": "(3706,)"
     },
     "execution_count": 80,
     "metadata": {},
     "output_type": "execute_result"
    }
   ],
   "source": [
    "import numpy as np\n",
    "import pandas as pd\n",
    "from scipy.sparse import csr_matrix\n",
    "\n",
    "def recommend_movies(new_user_ratings, similarity_sparse, n_recommendations=10):\n",
    "    \"\"\"\n",
    "    Generate movie recommendations based on new user ratings and a sparse similarity matrix.\n",
    "\n",
    "    Parameters:\n",
    "    - new_user_ratings: np.array, user's ratings for movies; 0 indicates the movie hasn't been rated.\n",
    "    - similarity_sparse: scipy.sparse matrix, item-item similarity matrix in sparse format.\n",
    "    - n_recommendations: int, the number of recommendations to return.\n",
    "\n",
    "    Returns:\n",
    "    - List of movie indices representing the top N recommendations.\n",
    "    \"\"\"\n",
    "\n",
    "    # Validate the shape of new_user_ratings\n",
    "    if new_user_ratings.shape[0] != similarity_sparse.shape[0]:\n",
    "        raise ValueError(\"The length of new_user_ratings must match the size of similarity matrix.\")\n",
    "\n",
    "    # Convert new user ratings to NaN if 0 (user hasn't rated the movie)\n",
    "    user_ratings = np.where(new_user_ratings == 0, np.nan, new_user_ratings)\n",
    "\n",
    "    # Filter out movies the user has already rated\n",
    "    unrated_movies_mask = np.isnan(user_ratings)\n",
    "\n",
    "    # Extract the similarity scores for unrated movies\n",
    "    unrated_similarity = similarity_sparse[unrated_movies_mask, :]\n",
    "\n",
    "    # Calculate the weighted scores using matrix multiplication\n",
    "    weighted_scores = unrated_similarity.dot(user_ratings)\n",
    "\n",
    "    # Normalize by the sum of the similarities for rated movies\n",
    "    sum_similarity = unrated_similarity.sum(axis=1).A1  # Convert to 1D array\n",
    "    valid_mask = sum_similarity > 0\n",
    "    normalized_scores = np.divide(weighted_scores, sum_similarity, where=valid_mask)\n",
    "\n",
    "    # Select top N recommendations\n",
    "    top_movie_indices = np.argsort(-normalized_scores)[:n_recommendations]\n",
    "\n",
    "    return top_movie_indices.tolist()\n"
   ],
   "metadata": {
    "collapsed": false,
    "ExecuteTime": {
     "end_time": "2023-11-29T20:40:42.416267300Z",
     "start_time": "2023-11-29T20:40:42.400157900Z"
    }
   }
  },
  {
   "cell_type": "code",
   "execution_count": 81,
   "outputs": [
    {
     "ename": "InvalidIndexError",
     "evalue": "(array([False,  True,  True, ...,  True,  True,  True]), slice(None, None, None))",
     "output_type": "error",
     "traceback": [
      "\u001B[1;31m---------------------------------------------------------------------------\u001B[0m",
      "\u001B[1;31mTypeError\u001B[0m                                 Traceback (most recent call last)",
      "File \u001B[1;32mD:\\UIUC\\CSE_410_Information_Retrieval\\AutoDash\\venv\\Lib\\site-packages\\pandas\\core\\indexes\\base.py:3790\u001B[0m, in \u001B[0;36mIndex.get_loc\u001B[1;34m(self, key)\u001B[0m\n\u001B[0;32m   3789\u001B[0m \u001B[38;5;28;01mtry\u001B[39;00m:\n\u001B[1;32m-> 3790\u001B[0m     \u001B[38;5;28;01mreturn\u001B[39;00m \u001B[38;5;28;43mself\u001B[39;49m\u001B[38;5;241;43m.\u001B[39;49m\u001B[43m_engine\u001B[49m\u001B[38;5;241;43m.\u001B[39;49m\u001B[43mget_loc\u001B[49m\u001B[43m(\u001B[49m\u001B[43mcasted_key\u001B[49m\u001B[43m)\u001B[49m\n\u001B[0;32m   3791\u001B[0m \u001B[38;5;28;01mexcept\u001B[39;00m \u001B[38;5;167;01mKeyError\u001B[39;00m \u001B[38;5;28;01mas\u001B[39;00m err:\n",
      "File \u001B[1;32mindex.pyx:152\u001B[0m, in \u001B[0;36mpandas._libs.index.IndexEngine.get_loc\u001B[1;34m()\u001B[0m\n",
      "File \u001B[1;32mindex.pyx:158\u001B[0m, in \u001B[0;36mpandas._libs.index.IndexEngine.get_loc\u001B[1;34m()\u001B[0m\n",
      "\u001B[1;31mTypeError\u001B[0m: '(array([False,  True,  True, ...,  True,  True,  True]), slice(None, None, None))' is an invalid key",
      "\nDuring handling of the above exception, another exception occurred:\n",
      "\u001B[1;31mInvalidIndexError\u001B[0m                         Traceback (most recent call last)",
      "Cell \u001B[1;32mIn[81], line 1\u001B[0m\n\u001B[1;32m----> 1\u001B[0m \u001B[43mrecommend_movies\u001B[49m\u001B[43m(\u001B[49m\u001B[43muser_1_ratings\u001B[49m\u001B[38;5;241;43m.\u001B[39;49m\u001B[43mvalues\u001B[49m\u001B[43m,\u001B[49m\u001B[43m \u001B[49m\u001B[43msimilarity_matrix\u001B[49m\u001B[43m)\u001B[49m\n",
      "Cell \u001B[1;32mIn[78], line 28\u001B[0m, in \u001B[0;36mrecommend_movies\u001B[1;34m(new_user_ratings, similarity_sparse, n_recommendations)\u001B[0m\n\u001B[0;32m     25\u001B[0m unrated_movies_mask \u001B[38;5;241m=\u001B[39m np\u001B[38;5;241m.\u001B[39misnan(user_ratings)\n\u001B[0;32m     27\u001B[0m \u001B[38;5;66;03m# Extract the similarity scores for unrated movies\u001B[39;00m\n\u001B[1;32m---> 28\u001B[0m unrated_similarity \u001B[38;5;241m=\u001B[39m \u001B[43msimilarity_sparse\u001B[49m\u001B[43m[\u001B[49m\u001B[43munrated_movies_mask\u001B[49m\u001B[43m,\u001B[49m\u001B[43m \u001B[49m\u001B[43m:\u001B[49m\u001B[43m]\u001B[49m\n\u001B[0;32m     30\u001B[0m \u001B[38;5;66;03m# Calculate the weighted scores using matrix multiplication\u001B[39;00m\n\u001B[0;32m     31\u001B[0m weighted_scores \u001B[38;5;241m=\u001B[39m unrated_similarity\u001B[38;5;241m.\u001B[39mdot(user_ratings)\n",
      "File \u001B[1;32mD:\\UIUC\\CSE_410_Information_Retrieval\\AutoDash\\venv\\Lib\\site-packages\\pandas\\core\\frame.py:3893\u001B[0m, in \u001B[0;36mDataFrame.__getitem__\u001B[1;34m(self, key)\u001B[0m\n\u001B[0;32m   3891\u001B[0m \u001B[38;5;28;01mif\u001B[39;00m \u001B[38;5;28mself\u001B[39m\u001B[38;5;241m.\u001B[39mcolumns\u001B[38;5;241m.\u001B[39mnlevels \u001B[38;5;241m>\u001B[39m \u001B[38;5;241m1\u001B[39m:\n\u001B[0;32m   3892\u001B[0m     \u001B[38;5;28;01mreturn\u001B[39;00m \u001B[38;5;28mself\u001B[39m\u001B[38;5;241m.\u001B[39m_getitem_multilevel(key)\n\u001B[1;32m-> 3893\u001B[0m indexer \u001B[38;5;241m=\u001B[39m \u001B[38;5;28;43mself\u001B[39;49m\u001B[38;5;241;43m.\u001B[39;49m\u001B[43mcolumns\u001B[49m\u001B[38;5;241;43m.\u001B[39;49m\u001B[43mget_loc\u001B[49m\u001B[43m(\u001B[49m\u001B[43mkey\u001B[49m\u001B[43m)\u001B[49m\n\u001B[0;32m   3894\u001B[0m \u001B[38;5;28;01mif\u001B[39;00m is_integer(indexer):\n\u001B[0;32m   3895\u001B[0m     indexer \u001B[38;5;241m=\u001B[39m [indexer]\n",
      "File \u001B[1;32mD:\\UIUC\\CSE_410_Information_Retrieval\\AutoDash\\venv\\Lib\\site-packages\\pandas\\core\\indexes\\base.py:3802\u001B[0m, in \u001B[0;36mIndex.get_loc\u001B[1;34m(self, key)\u001B[0m\n\u001B[0;32m   3797\u001B[0m     \u001B[38;5;28;01mraise\u001B[39;00m \u001B[38;5;167;01mKeyError\u001B[39;00m(key) \u001B[38;5;28;01mfrom\u001B[39;00m \u001B[38;5;21;01merr\u001B[39;00m\n\u001B[0;32m   3798\u001B[0m \u001B[38;5;28;01mexcept\u001B[39;00m \u001B[38;5;167;01mTypeError\u001B[39;00m:\n\u001B[0;32m   3799\u001B[0m     \u001B[38;5;66;03m# If we have a listlike key, _check_indexing_error will raise\u001B[39;00m\n\u001B[0;32m   3800\u001B[0m     \u001B[38;5;66;03m#  InvalidIndexError. Otherwise we fall through and re-raise\u001B[39;00m\n\u001B[0;32m   3801\u001B[0m     \u001B[38;5;66;03m#  the TypeError.\u001B[39;00m\n\u001B[1;32m-> 3802\u001B[0m     \u001B[38;5;28;43mself\u001B[39;49m\u001B[38;5;241;43m.\u001B[39;49m\u001B[43m_check_indexing_error\u001B[49m\u001B[43m(\u001B[49m\u001B[43mkey\u001B[49m\u001B[43m)\u001B[49m\n\u001B[0;32m   3803\u001B[0m     \u001B[38;5;28;01mraise\u001B[39;00m\n",
      "File \u001B[1;32mD:\\UIUC\\CSE_410_Information_Retrieval\\AutoDash\\venv\\Lib\\site-packages\\pandas\\core\\indexes\\base.py:5974\u001B[0m, in \u001B[0;36mIndex._check_indexing_error\u001B[1;34m(self, key)\u001B[0m\n\u001B[0;32m   5970\u001B[0m \u001B[38;5;28;01mdef\u001B[39;00m \u001B[38;5;21m_check_indexing_error\u001B[39m(\u001B[38;5;28mself\u001B[39m, key):\n\u001B[0;32m   5971\u001B[0m     \u001B[38;5;28;01mif\u001B[39;00m \u001B[38;5;129;01mnot\u001B[39;00m is_scalar(key):\n\u001B[0;32m   5972\u001B[0m         \u001B[38;5;66;03m# if key is not a scalar, directly raise an error (the code below\u001B[39;00m\n\u001B[0;32m   5973\u001B[0m         \u001B[38;5;66;03m# would convert to numpy arrays and raise later any way) - GH29926\u001B[39;00m\n\u001B[1;32m-> 5974\u001B[0m         \u001B[38;5;28;01mraise\u001B[39;00m InvalidIndexError(key)\n",
      "\u001B[1;31mInvalidIndexError\u001B[0m: (array([False,  True,  True, ...,  True,  True,  True]), slice(None, None, None))"
     ]
    }
   ],
   "source": [
    "# generate a vector 1 x 3706, which represents the rating of user 1 to all movies\n",
    "user_1 = ratings[ratings['UserID'] == 1]\n",
    "user_1_ratings = user_1.set_index('MovieID')['Rating']\n",
    "user_1_ratings = user_1_ratings.reindex(range(1, 3707), fill_value=0)\n",
    "user_1_ratings.head()"
   ],
   "metadata": {
    "collapsed": false,
    "ExecuteTime": {
     "end_time": "2023-11-29T20:40:42.582072800Z",
     "start_time": "2023-11-29T20:40:42.405267400Z"
    }
   }
  },
  {
   "cell_type": "code",
   "execution_count": null,
   "outputs": [],
   "source": [
    "user_1_ratings.values.shape"
   ],
   "metadata": {
    "collapsed": false,
    "ExecuteTime": {
     "start_time": "2023-11-29T20:40:42.460296700Z"
    }
   }
  },
  {
   "cell_type": "code",
   "execution_count": null,
   "outputs": [],
   "source": [
    "recommend_movies(user_1_ratings.values, similarity_matrix)"
   ],
   "metadata": {
    "collapsed": false,
    "ExecuteTime": {
     "start_time": "2023-11-29T20:40:42.461295800Z"
    }
   }
  },
  {
   "cell_type": "code",
   "execution_count": null,
   "outputs": [],
   "source": [
    "# get the movie titles by movie ids\n",
    "def get_movie_titles(movie_ids):\n",
    "    return movies[movies['MovieID'].isin(movie_ids)]"
   ],
   "metadata": {
    "collapsed": false,
    "ExecuteTime": {
     "start_time": "2023-11-29T20:40:42.494661800Z"
    }
   }
  },
  {
   "cell_type": "code",
   "execution_count": null,
   "outputs": [],
   "source": [
    "user_1_recommend = get_movie_titles(recommend_movies(user_1_ratings.values, similarity_matrix, n_recommendations=50))\n",
    "user_1_recommend"
   ],
   "metadata": {
    "collapsed": false,
    "ExecuteTime": {
     "start_time": "2023-11-29T20:40:42.494661800Z"
    }
   }
  },
  {
   "cell_type": "code",
   "execution_count": null,
   "outputs": [],
   "source": [
    "# get 10 movies are rated by user 1, sorted by rating\n",
    "user_1_watched = user_1[user_1['MovieID'].isin(range(1, 3707))].sort_values(by='Rating', ascending=False)\n",
    "# get movies info\n",
    "user_1_movie = get_movie_titles(user_1_watched['MovieID'].values)\n",
    "user_1_movie"
   ],
   "metadata": {
    "collapsed": false,
    "ExecuteTime": {
     "start_time": "2023-11-29T20:40:42.494661800Z"
    }
   }
  },
  {
   "cell_type": "code",
   "execution_count": null,
   "outputs": [],
   "source": [],
   "metadata": {
    "collapsed": false,
    "ExecuteTime": {
     "start_time": "2023-11-29T01:25:14.391533200Z"
    }
   }
  },
  {
   "cell_type": "code",
   "execution_count": null,
   "outputs": [],
   "source": [],
   "metadata": {
    "collapsed": false,
    "ExecuteTime": {
     "start_time": "2023-11-29T01:25:14.392533700Z"
    }
   }
  }
 ],
 "metadata": {
  "kernelspec": {
   "display_name": "Python 3",
   "language": "python",
   "name": "python3"
  },
  "language_info": {
   "codemirror_mode": {
    "name": "ipython",
    "version": 2
   },
   "file_extension": ".py",
   "mimetype": "text/x-python",
   "name": "python",
   "nbconvert_exporter": "python",
   "pygments_lexer": "ipython2",
   "version": "2.7.6"
  }
 },
 "nbformat": 4,
 "nbformat_minor": 0
}
