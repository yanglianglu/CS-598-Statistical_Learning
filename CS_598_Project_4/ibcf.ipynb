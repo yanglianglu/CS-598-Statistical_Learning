{
 "cells": [
  {
   "cell_type": "code",
   "execution_count": 2,
   "metadata": {
    "collapsed": true,
    "ExecuteTime": {
     "end_time": "2023-11-24T05:36:54.848633500Z",
     "start_time": "2023-11-24T05:36:54.689564900Z"
    }
   },
   "outputs": [],
   "source": [
    "import pandas as pd"
   ]
  },
  {
   "cell_type": "code",
   "execution_count": 8,
   "outputs": [],
   "source": [
    "ratings = pd.read_csv('data/ratings.dat', sep='::', engine = 'python', header=None)\n",
    "ratings.columns = ['UserID', 'MovieID', 'Rating', 'Timestamp']\n",
    "movies = pd.read_csv(r'D:\\UIUC\\CSE_598_Statistical_Learning\\MP\\CS-598-Statistical_Learning\\CS_598_Project_4\\data\\movies.dat', sep='::', engine = 'python',\n",
    "                     encoding=\"ISO-8859-1\", header = None)\n",
    "movies.columns = ['MovieID', 'Title', 'Genres']"
   ],
   "metadata": {
    "collapsed": false,
    "ExecuteTime": {
     "end_time": "2023-11-24T05:38:31.029252900Z",
     "start_time": "2023-11-24T05:38:29.201183Z"
    }
   }
  },
  {
   "cell_type": "code",
   "execution_count": 9,
   "outputs": [
    {
     "data": {
      "text/plain": "      MovieID                               Title  \\\n0           1                    Toy Story (1995)   \n1           2                      Jumanji (1995)   \n2           3             Grumpier Old Men (1995)   \n3           4            Waiting to Exhale (1995)   \n4           5  Father of the Bride Part II (1995)   \n...       ...                                 ...   \n3878     3948             Meet the Parents (2000)   \n3879     3949          Requiem for a Dream (2000)   \n3880     3950                    Tigerland (2000)   \n3881     3951             Two Family House (2000)   \n3882     3952               Contender, The (2000)   \n\n                            Genres  \n0      Animation|Children's|Comedy  \n1     Adventure|Children's|Fantasy  \n2                   Comedy|Romance  \n3                     Comedy|Drama  \n4                           Comedy  \n...                            ...  \n3878                        Comedy  \n3879                         Drama  \n3880                         Drama  \n3881                         Drama  \n3882                Drama|Thriller  \n\n[3883 rows x 3 columns]",
      "text/html": "<div>\n<style scoped>\n    .dataframe tbody tr th:only-of-type {\n        vertical-align: middle;\n    }\n\n    .dataframe tbody tr th {\n        vertical-align: top;\n    }\n\n    .dataframe thead th {\n        text-align: right;\n    }\n</style>\n<table border=\"1\" class=\"dataframe\">\n  <thead>\n    <tr style=\"text-align: right;\">\n      <th></th>\n      <th>MovieID</th>\n      <th>Title</th>\n      <th>Genres</th>\n    </tr>\n  </thead>\n  <tbody>\n    <tr>\n      <th>0</th>\n      <td>1</td>\n      <td>Toy Story (1995)</td>\n      <td>Animation|Children's|Comedy</td>\n    </tr>\n    <tr>\n      <th>1</th>\n      <td>2</td>\n      <td>Jumanji (1995)</td>\n      <td>Adventure|Children's|Fantasy</td>\n    </tr>\n    <tr>\n      <th>2</th>\n      <td>3</td>\n      <td>Grumpier Old Men (1995)</td>\n      <td>Comedy|Romance</td>\n    </tr>\n    <tr>\n      <th>3</th>\n      <td>4</td>\n      <td>Waiting to Exhale (1995)</td>\n      <td>Comedy|Drama</td>\n    </tr>\n    <tr>\n      <th>4</th>\n      <td>5</td>\n      <td>Father of the Bride Part II (1995)</td>\n      <td>Comedy</td>\n    </tr>\n    <tr>\n      <th>...</th>\n      <td>...</td>\n      <td>...</td>\n      <td>...</td>\n    </tr>\n    <tr>\n      <th>3878</th>\n      <td>3948</td>\n      <td>Meet the Parents (2000)</td>\n      <td>Comedy</td>\n    </tr>\n    <tr>\n      <th>3879</th>\n      <td>3949</td>\n      <td>Requiem for a Dream (2000)</td>\n      <td>Drama</td>\n    </tr>\n    <tr>\n      <th>3880</th>\n      <td>3950</td>\n      <td>Tigerland (2000)</td>\n      <td>Drama</td>\n    </tr>\n    <tr>\n      <th>3881</th>\n      <td>3951</td>\n      <td>Two Family House (2000)</td>\n      <td>Drama</td>\n    </tr>\n    <tr>\n      <th>3882</th>\n      <td>3952</td>\n      <td>Contender, The (2000)</td>\n      <td>Drama|Thriller</td>\n    </tr>\n  </tbody>\n</table>\n<p>3883 rows × 3 columns</p>\n</div>"
     },
     "execution_count": 9,
     "metadata": {},
     "output_type": "execute_result"
    }
   ],
   "source": [
    "movies"
   ],
   "metadata": {
    "collapsed": false,
    "ExecuteTime": {
     "end_time": "2023-11-24T05:38:31.637145500Z",
     "start_time": "2023-11-24T05:38:31.629753900Z"
    }
   }
  },
  {
   "cell_type": "code",
   "execution_count": 4,
   "outputs": [
    {
     "data": {
      "text/plain": "6040"
     },
     "execution_count": 4,
     "metadata": {},
     "output_type": "execute_result"
    }
   ],
   "source": [
    "ratings['UserID'].nunique()"
   ],
   "metadata": {
    "collapsed": false,
    "ExecuteTime": {
     "end_time": "2023-11-24T05:36:59.133128800Z",
     "start_time": "2023-11-24T05:36:59.117913500Z"
    }
   }
  },
  {
   "cell_type": "code",
   "execution_count": 5,
   "outputs": [
    {
     "data": {
      "text/plain": "3883"
     },
     "execution_count": 5,
     "metadata": {},
     "output_type": "execute_result"
    }
   ],
   "source": [
    "movies['MovieID'].nunique()"
   ],
   "metadata": {
    "collapsed": false,
    "ExecuteTime": {
     "end_time": "2023-11-24T05:36:59.966901400Z",
     "start_time": "2023-11-24T05:36:59.942634100Z"
    }
   }
  },
  {
   "cell_type": "code",
   "execution_count": 29,
   "outputs": [
    {
     "data": {
      "text/plain": "UserID   1     2     3     4     5     6     7     8     9     10    ...  \\\nMovieID                                                              ...   \n1         5.0   NaN   NaN   NaN   NaN   4.0   NaN   4.0   5.0   5.0  ...   \n2         NaN   NaN   NaN   NaN   NaN   NaN   NaN   NaN   NaN   5.0  ...   \n3         NaN   NaN   NaN   NaN   NaN   NaN   NaN   NaN   NaN   NaN  ...   \n4         NaN   NaN   NaN   NaN   NaN   NaN   NaN   3.0   NaN   NaN  ...   \n5         NaN   NaN   NaN   NaN   NaN   NaN   NaN   NaN   NaN   NaN  ...   \n\nUserID   6031  6032  6033  6034  6035  6036  6037  6038  6039  6040  \nMovieID                                                              \n1         NaN   4.0   NaN   NaN   4.0   NaN   NaN   NaN   NaN   3.0  \n2         NaN   NaN   NaN   NaN   NaN   NaN   NaN   NaN   NaN   NaN  \n3         NaN   NaN   NaN   NaN   1.0   NaN   NaN   NaN   NaN   NaN  \n4         NaN   NaN   NaN   NaN   2.0   2.0   NaN   NaN   NaN   NaN  \n5         NaN   NaN   NaN   NaN   1.0   NaN   NaN   NaN   NaN   NaN  \n\n[5 rows x 6040 columns]",
      "text/html": "<div>\n<style scoped>\n    .dataframe tbody tr th:only-of-type {\n        vertical-align: middle;\n    }\n\n    .dataframe tbody tr th {\n        vertical-align: top;\n    }\n\n    .dataframe thead th {\n        text-align: right;\n    }\n</style>\n<table border=\"1\" class=\"dataframe\">\n  <thead>\n    <tr style=\"text-align: right;\">\n      <th>UserID</th>\n      <th>1</th>\n      <th>2</th>\n      <th>3</th>\n      <th>4</th>\n      <th>5</th>\n      <th>6</th>\n      <th>7</th>\n      <th>8</th>\n      <th>9</th>\n      <th>10</th>\n      <th>...</th>\n      <th>6031</th>\n      <th>6032</th>\n      <th>6033</th>\n      <th>6034</th>\n      <th>6035</th>\n      <th>6036</th>\n      <th>6037</th>\n      <th>6038</th>\n      <th>6039</th>\n      <th>6040</th>\n    </tr>\n    <tr>\n      <th>MovieID</th>\n      <th></th>\n      <th></th>\n      <th></th>\n      <th></th>\n      <th></th>\n      <th></th>\n      <th></th>\n      <th></th>\n      <th></th>\n      <th></th>\n      <th></th>\n      <th></th>\n      <th></th>\n      <th></th>\n      <th></th>\n      <th></th>\n      <th></th>\n      <th></th>\n      <th></th>\n      <th></th>\n      <th></th>\n    </tr>\n  </thead>\n  <tbody>\n    <tr>\n      <th>1</th>\n      <td>5.0</td>\n      <td>NaN</td>\n      <td>NaN</td>\n      <td>NaN</td>\n      <td>NaN</td>\n      <td>4.0</td>\n      <td>NaN</td>\n      <td>4.0</td>\n      <td>5.0</td>\n      <td>5.0</td>\n      <td>...</td>\n      <td>NaN</td>\n      <td>4.0</td>\n      <td>NaN</td>\n      <td>NaN</td>\n      <td>4.0</td>\n      <td>NaN</td>\n      <td>NaN</td>\n      <td>NaN</td>\n      <td>NaN</td>\n      <td>3.0</td>\n    </tr>\n    <tr>\n      <th>2</th>\n      <td>NaN</td>\n      <td>NaN</td>\n      <td>NaN</td>\n      <td>NaN</td>\n      <td>NaN</td>\n      <td>NaN</td>\n      <td>NaN</td>\n      <td>NaN</td>\n      <td>NaN</td>\n      <td>5.0</td>\n      <td>...</td>\n      <td>NaN</td>\n      <td>NaN</td>\n      <td>NaN</td>\n      <td>NaN</td>\n      <td>NaN</td>\n      <td>NaN</td>\n      <td>NaN</td>\n      <td>NaN</td>\n      <td>NaN</td>\n      <td>NaN</td>\n    </tr>\n    <tr>\n      <th>3</th>\n      <td>NaN</td>\n      <td>NaN</td>\n      <td>NaN</td>\n      <td>NaN</td>\n      <td>NaN</td>\n      <td>NaN</td>\n      <td>NaN</td>\n      <td>NaN</td>\n      <td>NaN</td>\n      <td>NaN</td>\n      <td>...</td>\n      <td>NaN</td>\n      <td>NaN</td>\n      <td>NaN</td>\n      <td>NaN</td>\n      <td>1.0</td>\n      <td>NaN</td>\n      <td>NaN</td>\n      <td>NaN</td>\n      <td>NaN</td>\n      <td>NaN</td>\n    </tr>\n    <tr>\n      <th>4</th>\n      <td>NaN</td>\n      <td>NaN</td>\n      <td>NaN</td>\n      <td>NaN</td>\n      <td>NaN</td>\n      <td>NaN</td>\n      <td>NaN</td>\n      <td>3.0</td>\n      <td>NaN</td>\n      <td>NaN</td>\n      <td>...</td>\n      <td>NaN</td>\n      <td>NaN</td>\n      <td>NaN</td>\n      <td>NaN</td>\n      <td>2.0</td>\n      <td>2.0</td>\n      <td>NaN</td>\n      <td>NaN</td>\n      <td>NaN</td>\n      <td>NaN</td>\n    </tr>\n    <tr>\n      <th>5</th>\n      <td>NaN</td>\n      <td>NaN</td>\n      <td>NaN</td>\n      <td>NaN</td>\n      <td>NaN</td>\n      <td>NaN</td>\n      <td>NaN</td>\n      <td>NaN</td>\n      <td>NaN</td>\n      <td>NaN</td>\n      <td>...</td>\n      <td>NaN</td>\n      <td>NaN</td>\n      <td>NaN</td>\n      <td>NaN</td>\n      <td>1.0</td>\n      <td>NaN</td>\n      <td>NaN</td>\n      <td>NaN</td>\n      <td>NaN</td>\n      <td>NaN</td>\n    </tr>\n  </tbody>\n</table>\n<p>5 rows × 6040 columns</p>\n</div>"
     },
     "execution_count": 29,
     "metadata": {},
     "output_type": "execute_result"
    }
   ],
   "source": [
    "item_feature_matrix = ratings.pivot_table(index='MovieID', columns='UserID', values='Rating')\n",
    "item_feature_matrix.head()"
   ],
   "metadata": {
    "collapsed": false,
    "ExecuteTime": {
     "end_time": "2023-11-24T00:52:59.557586900Z",
     "start_time": "2023-11-24T00:52:59.092876600Z"
    }
   }
  },
  {
   "cell_type": "code",
   "execution_count": 30,
   "outputs": [
    {
     "data": {
      "text/plain": "MovieID\n1    4.146846\n2    3.201141\n3    3.016736\n4    2.729412\n5    3.006757\ndtype: float64"
     },
     "execution_count": 30,
     "metadata": {},
     "output_type": "execute_result"
    }
   ],
   "source": [
    "mean_ratings = item_feature_matrix.mean(axis=1, skipna=True)\n",
    "mean_ratings.head()"
   ],
   "metadata": {
    "collapsed": false,
    "ExecuteTime": {
     "end_time": "2023-11-24T00:52:59.820900800Z",
     "start_time": "2023-11-24T00:52:59.558590800Z"
    }
   }
  },
  {
   "cell_type": "code",
   "execution_count": 31,
   "outputs": [
    {
     "data": {
      "text/plain": "UserID       1     2     3     4     5         6     7         8         9     \\\nMovieID                                                                         \n1        0.853154   NaN   NaN   NaN   NaN -0.146846   NaN -0.146846  0.853154   \n2             NaN   NaN   NaN   NaN   NaN       NaN   NaN       NaN       NaN   \n3             NaN   NaN   NaN   NaN   NaN       NaN   NaN       NaN       NaN   \n4             NaN   NaN   NaN   NaN   NaN       NaN   NaN  0.270588       NaN   \n5             NaN   NaN   NaN   NaN   NaN       NaN   NaN       NaN       NaN   \n\nUserID       10    ...  6031      6032  6033  6034      6035      6036  6037  \\\nMovieID            ...                                                         \n1        0.853154  ...   NaN -0.146846   NaN   NaN -0.146846       NaN   NaN   \n2        1.798859  ...   NaN       NaN   NaN   NaN       NaN       NaN   NaN   \n3             NaN  ...   NaN       NaN   NaN   NaN -2.016736       NaN   NaN   \n4             NaN  ...   NaN       NaN   NaN   NaN -0.729412 -0.729412   NaN   \n5             NaN  ...   NaN       NaN   NaN   NaN -2.006757       NaN   NaN   \n\nUserID   6038  6039      6040  \nMovieID                        \n1         NaN   NaN -1.146846  \n2         NaN   NaN       NaN  \n3         NaN   NaN       NaN  \n4         NaN   NaN       NaN  \n5         NaN   NaN       NaN  \n\n[5 rows x 6040 columns]",
      "text/html": "<div>\n<style scoped>\n    .dataframe tbody tr th:only-of-type {\n        vertical-align: middle;\n    }\n\n    .dataframe tbody tr th {\n        vertical-align: top;\n    }\n\n    .dataframe thead th {\n        text-align: right;\n    }\n</style>\n<table border=\"1\" class=\"dataframe\">\n  <thead>\n    <tr style=\"text-align: right;\">\n      <th>UserID</th>\n      <th>1</th>\n      <th>2</th>\n      <th>3</th>\n      <th>4</th>\n      <th>5</th>\n      <th>6</th>\n      <th>7</th>\n      <th>8</th>\n      <th>9</th>\n      <th>10</th>\n      <th>...</th>\n      <th>6031</th>\n      <th>6032</th>\n      <th>6033</th>\n      <th>6034</th>\n      <th>6035</th>\n      <th>6036</th>\n      <th>6037</th>\n      <th>6038</th>\n      <th>6039</th>\n      <th>6040</th>\n    </tr>\n    <tr>\n      <th>MovieID</th>\n      <th></th>\n      <th></th>\n      <th></th>\n      <th></th>\n      <th></th>\n      <th></th>\n      <th></th>\n      <th></th>\n      <th></th>\n      <th></th>\n      <th></th>\n      <th></th>\n      <th></th>\n      <th></th>\n      <th></th>\n      <th></th>\n      <th></th>\n      <th></th>\n      <th></th>\n      <th></th>\n      <th></th>\n    </tr>\n  </thead>\n  <tbody>\n    <tr>\n      <th>1</th>\n      <td>0.853154</td>\n      <td>NaN</td>\n      <td>NaN</td>\n      <td>NaN</td>\n      <td>NaN</td>\n      <td>-0.146846</td>\n      <td>NaN</td>\n      <td>-0.146846</td>\n      <td>0.853154</td>\n      <td>0.853154</td>\n      <td>...</td>\n      <td>NaN</td>\n      <td>-0.146846</td>\n      <td>NaN</td>\n      <td>NaN</td>\n      <td>-0.146846</td>\n      <td>NaN</td>\n      <td>NaN</td>\n      <td>NaN</td>\n      <td>NaN</td>\n      <td>-1.146846</td>\n    </tr>\n    <tr>\n      <th>2</th>\n      <td>NaN</td>\n      <td>NaN</td>\n      <td>NaN</td>\n      <td>NaN</td>\n      <td>NaN</td>\n      <td>NaN</td>\n      <td>NaN</td>\n      <td>NaN</td>\n      <td>NaN</td>\n      <td>1.798859</td>\n      <td>...</td>\n      <td>NaN</td>\n      <td>NaN</td>\n      <td>NaN</td>\n      <td>NaN</td>\n      <td>NaN</td>\n      <td>NaN</td>\n      <td>NaN</td>\n      <td>NaN</td>\n      <td>NaN</td>\n      <td>NaN</td>\n    </tr>\n    <tr>\n      <th>3</th>\n      <td>NaN</td>\n      <td>NaN</td>\n      <td>NaN</td>\n      <td>NaN</td>\n      <td>NaN</td>\n      <td>NaN</td>\n      <td>NaN</td>\n      <td>NaN</td>\n      <td>NaN</td>\n      <td>NaN</td>\n      <td>...</td>\n      <td>NaN</td>\n      <td>NaN</td>\n      <td>NaN</td>\n      <td>NaN</td>\n      <td>-2.016736</td>\n      <td>NaN</td>\n      <td>NaN</td>\n      <td>NaN</td>\n      <td>NaN</td>\n      <td>NaN</td>\n    </tr>\n    <tr>\n      <th>4</th>\n      <td>NaN</td>\n      <td>NaN</td>\n      <td>NaN</td>\n      <td>NaN</td>\n      <td>NaN</td>\n      <td>NaN</td>\n      <td>NaN</td>\n      <td>0.270588</td>\n      <td>NaN</td>\n      <td>NaN</td>\n      <td>...</td>\n      <td>NaN</td>\n      <td>NaN</td>\n      <td>NaN</td>\n      <td>NaN</td>\n      <td>-0.729412</td>\n      <td>-0.729412</td>\n      <td>NaN</td>\n      <td>NaN</td>\n      <td>NaN</td>\n      <td>NaN</td>\n    </tr>\n    <tr>\n      <th>5</th>\n      <td>NaN</td>\n      <td>NaN</td>\n      <td>NaN</td>\n      <td>NaN</td>\n      <td>NaN</td>\n      <td>NaN</td>\n      <td>NaN</td>\n      <td>NaN</td>\n      <td>NaN</td>\n      <td>NaN</td>\n      <td>...</td>\n      <td>NaN</td>\n      <td>NaN</td>\n      <td>NaN</td>\n      <td>NaN</td>\n      <td>-2.006757</td>\n      <td>NaN</td>\n      <td>NaN</td>\n      <td>NaN</td>\n      <td>NaN</td>\n      <td>NaN</td>\n    </tr>\n  </tbody>\n</table>\n<p>5 rows × 6040 columns</p>\n</div>"
     },
     "execution_count": 31,
     "metadata": {},
     "output_type": "execute_result"
    }
   ],
   "source": [
    "normalized_ratings = item_feature_matrix.sub(mean_ratings, axis=0)\n",
    "normalized_ratings.head()"
   ],
   "metadata": {
    "collapsed": false,
    "ExecuteTime": {
     "end_time": "2023-11-24T00:52:59.863743100Z",
     "start_time": "2023-11-24T00:52:59.821682600Z"
    }
   }
  },
  {
   "cell_type": "code",
   "execution_count": 32,
   "outputs": [],
   "source": [
    "import numpy as np\n",
    "import pandas as pd\n",
    "from joblib import Parallel, delayed\n",
    "from scipy.sparse import csr_matrix\n",
    "from sklearn.metrics.pairwise import cosine_similarity\n",
    "\n",
    "def compute_similarity_matrix(centered_rating_matrix, top_n=None, n_jobs=-1):\n",
    "    \"\"\"\n",
    "    Compute the item-item similarity matrix for a given matrix of centered ratings using sparse matrices and parallel computation.\n",
    "\n",
    "    Parameters:\n",
    "    - centered_rating_matrix: pd.DataFrame, a DataFrame where rows represent movies,\n",
    "      columns represent users, and values represent centered ratings.\n",
    "    - top_n: int, the number of most similar items to keep for each item.\n",
    "    - n_jobs: int, the number of jobs to run in parallel. -1 means using all processors.\n",
    "\n",
    "    Returns:\n",
    "    - pd.DataFrame or scipy.sparse matrix, the similarity matrix with movies as both rows and columns, containing top N similarities.\n",
    "    \"\"\"\n",
    "    # Convert the centered rating matrix to a sparse CSR matrix\n",
    "    sparse_rating_matrix = csr_matrix(centered_rating_matrix.fillna(0))\n",
    "\n",
    "    # Compute the cosine similarity matrix, which will also be in sparse format\n",
    "    cosine_sim_sparse = cosine_similarity(sparse_rating_matrix, dense_output=False)\n",
    "\n",
    "    # Scale the similarity values to be between 0 and 1 directly on the sparse matrix\n",
    "    cosine_sim_sparse.data = 0.5 + 0.5 * cosine_sim_sparse.data\n",
    "\n",
    "    # If top_n is None, return the sparse similarity matrix as is\n",
    "    if top_n is None:\n",
    "        return cosine_sim_sparse\n",
    "\n",
    "    # Convert the sparse similarity matrix to a dense DataFrame for further processing\n",
    "    similarity_matrix_dense = pd.DataFrame(cosine_sim_sparse.todense(),\n",
    "                                           index=centered_rating_matrix.index,\n",
    "                                           columns=centered_rating_matrix.index)\n",
    "\n",
    "    # Create a binary user-movie matrix\n",
    "    user_movie_matrix = (centered_rating_matrix != 0).astype(int)\n",
    "\n",
    "    # Compute the common ratings mask\n",
    "    common_ratings_mask = user_movie_matrix.T.dot(user_movie_matrix) >= 3\n",
    "\n",
    "    # Apply the mask to set values to NaN where the condition is not met\n",
    "    similarity_matrix_dense.where(common_ratings_mask, np.nan, inplace=True)\n",
    "\n",
    "    # Define function to be parallelized for extracting the top N similar movies\n",
    "    def extract_top_n(similarity_series):\n",
    "        non_nan_series = similarity_series.dropna()\n",
    "        if len(non_nan_series) < top_n:\n",
    "            return non_nan_series.index.tolist() + [np.nan] * (top_n - len(non_nan_series))\n",
    "        return non_nan_series.nlargest(top_n).tolist()\n",
    "\n",
    "    # Extract the top N similar movies for each movie using parallel computation\n",
    "    results = Parallel(n_jobs=n_jobs)(delayed(extract_top_n)(similarity_matrix_dense.loc[movie_id])\n",
    "                                      for movie_id in similarity_matrix_dense.index)\n",
    "\n",
    "    # Construct the final DataFrame with the top N similarities for each movie\n",
    "    similarity_matrix_top_n = pd.DataFrame(results, index=centered_rating_matrix.index, columns=range(top_n))\n",
    "\n",
    "    return similarity_matrix_top_n\n"
   ],
   "metadata": {
    "collapsed": false,
    "ExecuteTime": {
     "end_time": "2023-11-24T00:52:59.866249300Z",
     "start_time": "2023-11-24T00:52:59.863743100Z"
    }
   }
  },
  {
   "cell_type": "code",
   "execution_count": 33,
   "outputs": [],
   "source": [
    "top_30_similarity_matrix = compute_similarity_matrix(normalized_ratings, top_n=30)"
   ],
   "metadata": {
    "collapsed": false,
    "ExecuteTime": {
     "end_time": "2023-11-24T00:53:46.090043400Z",
     "start_time": "2023-11-24T00:52:59.865254200Z"
    }
   }
  },
  {
   "cell_type": "markdown",
   "source": [
    "## Display the pairwise similarity values from the S\n",
    "## matrix with movie ID 1, 10, 100, 1510, 260, and 3212"
   ],
   "metadata": {
    "collapsed": false
   }
  },
  {
   "cell_type": "code",
   "execution_count": 34,
   "outputs": [
    {
     "data": {
      "text/plain": "          0         1         2         3         4         5         6   \\\nMovieID                                                                    \n1        1.0  0.679650  0.631565  0.620909  0.608463  0.602423  0.598782   \n10       1.0  0.722866  0.669208  0.627080  0.619750  0.617420  0.609215   \n100      1.0  0.635303  0.615785  0.609417  0.607869  0.596375  0.594638   \n1510     1.0  0.990990  0.933013  0.933013  0.933013  0.853553  0.826797   \n260      1.0  0.734181  0.686621  0.637557  0.603056  0.583446  0.579363   \n3212     1.0  1.000000  0.806186  0.788675  0.755155  0.750000  0.750000   \n\n               7         8         9   ...        20        21        22  \\\nMovieID                                ...                                 \n1        0.591427  0.588410  0.586603  ...  0.570234  0.568234  0.568071   \n10       0.608969  0.607427  0.607246  ...  0.593867  0.593278  0.593148   \n100      0.594057  0.581703  0.581676  ...  0.573470  0.572971  0.572868   \n1510     0.788675  0.788675  0.788675  ...  0.750000  0.750000  0.750000   \n260      0.578629  0.575650  0.575426  ...  0.560232  0.559597  0.559066   \n3212     0.750000  0.750000  0.750000  ...  0.625000  0.621028  0.619737   \n\n               23        24        25        26        27        28        29  \nMovieID                                                                        \n1        0.567276  0.566814  0.564763  0.564627  0.564597  0.563764  0.563369  \n10       0.590649  0.590347  0.590138  0.590091  0.589431  0.588898  0.587710  \n100      0.572211  0.571587  0.570265  0.570020  0.568915  0.568709  0.568583  \n1510     0.750000  0.750000  0.750000  0.750000  0.750000  0.750000  0.750000  \n260      0.557520  0.553382  0.551599  0.551414  0.551269  0.549415  0.549279  \n3212     0.615470  0.610138  0.609272  0.609109  0.602142  0.602062  0.601827  \n\n[6 rows x 30 columns]",
      "text/html": "<div>\n<style scoped>\n    .dataframe tbody tr th:only-of-type {\n        vertical-align: middle;\n    }\n\n    .dataframe tbody tr th {\n        vertical-align: top;\n    }\n\n    .dataframe thead th {\n        text-align: right;\n    }\n</style>\n<table border=\"1\" class=\"dataframe\">\n  <thead>\n    <tr style=\"text-align: right;\">\n      <th></th>\n      <th>0</th>\n      <th>1</th>\n      <th>2</th>\n      <th>3</th>\n      <th>4</th>\n      <th>5</th>\n      <th>6</th>\n      <th>7</th>\n      <th>8</th>\n      <th>9</th>\n      <th>...</th>\n      <th>20</th>\n      <th>21</th>\n      <th>22</th>\n      <th>23</th>\n      <th>24</th>\n      <th>25</th>\n      <th>26</th>\n      <th>27</th>\n      <th>28</th>\n      <th>29</th>\n    </tr>\n    <tr>\n      <th>MovieID</th>\n      <th></th>\n      <th></th>\n      <th></th>\n      <th></th>\n      <th></th>\n      <th></th>\n      <th></th>\n      <th></th>\n      <th></th>\n      <th></th>\n      <th></th>\n      <th></th>\n      <th></th>\n      <th></th>\n      <th></th>\n      <th></th>\n      <th></th>\n      <th></th>\n      <th></th>\n      <th></th>\n      <th></th>\n    </tr>\n  </thead>\n  <tbody>\n    <tr>\n      <th>1</th>\n      <td>1.0</td>\n      <td>0.679650</td>\n      <td>0.631565</td>\n      <td>0.620909</td>\n      <td>0.608463</td>\n      <td>0.602423</td>\n      <td>0.598782</td>\n      <td>0.591427</td>\n      <td>0.588410</td>\n      <td>0.586603</td>\n      <td>...</td>\n      <td>0.570234</td>\n      <td>0.568234</td>\n      <td>0.568071</td>\n      <td>0.567276</td>\n      <td>0.566814</td>\n      <td>0.564763</td>\n      <td>0.564627</td>\n      <td>0.564597</td>\n      <td>0.563764</td>\n      <td>0.563369</td>\n    </tr>\n    <tr>\n      <th>10</th>\n      <td>1.0</td>\n      <td>0.722866</td>\n      <td>0.669208</td>\n      <td>0.627080</td>\n      <td>0.619750</td>\n      <td>0.617420</td>\n      <td>0.609215</td>\n      <td>0.608969</td>\n      <td>0.607427</td>\n      <td>0.607246</td>\n      <td>...</td>\n      <td>0.593867</td>\n      <td>0.593278</td>\n      <td>0.593148</td>\n      <td>0.590649</td>\n      <td>0.590347</td>\n      <td>0.590138</td>\n      <td>0.590091</td>\n      <td>0.589431</td>\n      <td>0.588898</td>\n      <td>0.587710</td>\n    </tr>\n    <tr>\n      <th>100</th>\n      <td>1.0</td>\n      <td>0.635303</td>\n      <td>0.615785</td>\n      <td>0.609417</td>\n      <td>0.607869</td>\n      <td>0.596375</td>\n      <td>0.594638</td>\n      <td>0.594057</td>\n      <td>0.581703</td>\n      <td>0.581676</td>\n      <td>...</td>\n      <td>0.573470</td>\n      <td>0.572971</td>\n      <td>0.572868</td>\n      <td>0.572211</td>\n      <td>0.571587</td>\n      <td>0.570265</td>\n      <td>0.570020</td>\n      <td>0.568915</td>\n      <td>0.568709</td>\n      <td>0.568583</td>\n    </tr>\n    <tr>\n      <th>1510</th>\n      <td>1.0</td>\n      <td>0.990990</td>\n      <td>0.933013</td>\n      <td>0.933013</td>\n      <td>0.933013</td>\n      <td>0.853553</td>\n      <td>0.826797</td>\n      <td>0.788675</td>\n      <td>0.788675</td>\n      <td>0.788675</td>\n      <td>...</td>\n      <td>0.750000</td>\n      <td>0.750000</td>\n      <td>0.750000</td>\n      <td>0.750000</td>\n      <td>0.750000</td>\n      <td>0.750000</td>\n      <td>0.750000</td>\n      <td>0.750000</td>\n      <td>0.750000</td>\n      <td>0.750000</td>\n    </tr>\n    <tr>\n      <th>260</th>\n      <td>1.0</td>\n      <td>0.734181</td>\n      <td>0.686621</td>\n      <td>0.637557</td>\n      <td>0.603056</td>\n      <td>0.583446</td>\n      <td>0.579363</td>\n      <td>0.578629</td>\n      <td>0.575650</td>\n      <td>0.575426</td>\n      <td>...</td>\n      <td>0.560232</td>\n      <td>0.559597</td>\n      <td>0.559066</td>\n      <td>0.557520</td>\n      <td>0.553382</td>\n      <td>0.551599</td>\n      <td>0.551414</td>\n      <td>0.551269</td>\n      <td>0.549415</td>\n      <td>0.549279</td>\n    </tr>\n    <tr>\n      <th>3212</th>\n      <td>1.0</td>\n      <td>1.000000</td>\n      <td>0.806186</td>\n      <td>0.788675</td>\n      <td>0.755155</td>\n      <td>0.750000</td>\n      <td>0.750000</td>\n      <td>0.750000</td>\n      <td>0.750000</td>\n      <td>0.750000</td>\n      <td>...</td>\n      <td>0.625000</td>\n      <td>0.621028</td>\n      <td>0.619737</td>\n      <td>0.615470</td>\n      <td>0.610138</td>\n      <td>0.609272</td>\n      <td>0.609109</td>\n      <td>0.602142</td>\n      <td>0.602062</td>\n      <td>0.601827</td>\n    </tr>\n  </tbody>\n</table>\n<p>6 rows × 30 columns</p>\n</div>"
     },
     "execution_count": 34,
     "metadata": {},
     "output_type": "execute_result"
    }
   ],
   "source": [
    "\n",
    "specified_movies = [1, 10, 100, 1510, 260, 3212]\n",
    "top_30_similarity_matrix.loc[specified_movies].round(7)"
   ],
   "metadata": {
    "collapsed": false,
    "ExecuteTime": {
     "end_time": "2023-11-24T00:53:46.098533100Z",
     "start_time": "2023-11-24T00:53:46.091043600Z"
    }
   }
  },
  {
   "cell_type": "code",
   "execution_count": 35,
   "outputs": [],
   "source": [
    "similarity_matrix = compute_similarity_matrix(normalized_ratings)"
   ],
   "metadata": {
    "collapsed": false,
    "ExecuteTime": {
     "end_time": "2023-11-24T00:53:46.897137800Z",
     "start_time": "2023-11-24T00:53:46.098533100Z"
    }
   }
  },
  {
   "cell_type": "code",
   "execution_count": 36,
   "outputs": [],
   "source": [
    "# save sparse matrix\n",
    "from scipy.sparse import save_npz\n",
    "save_npz('data/similarity_matrix.npz', similarity_matrix)"
   ],
   "metadata": {
    "collapsed": false,
    "ExecuteTime": {
     "end_time": "2023-11-24T00:53:57.160878400Z",
     "start_time": "2023-11-24T00:53:46.898137800Z"
    }
   }
  },
  {
   "cell_type": "code",
   "execution_count": 37,
   "outputs": [],
   "source": [
    "import numpy as np\n",
    "import pandas as pd\n",
    "from scipy.sparse import csr_matrix\n",
    "\n",
    "def recommend_movies(new_user_ratings, similarity_sparse, n_recommendations=10):\n",
    "    \"\"\"\n",
    "    Generate movie recommendations based on new user ratings and a sparse similarity matrix.\n",
    "\n",
    "    Parameters:\n",
    "    - new_user_ratings: np.array, user's ratings for movies; 0 indicates the movie hasn't been rated.\n",
    "    - similarity_sparse: scipy.sparse matrix, item-item similarity matrix in sparse format.\n",
    "    - n_recommendations: int, the number of recommendations to return.\n",
    "\n",
    "    Returns:\n",
    "    - List of movie indices representing the top N recommendations.\n",
    "    \"\"\"\n",
    "\n",
    "    # Validate the shape of new_user_ratings\n",
    "    if new_user_ratings.shape[0] != similarity_sparse.shape[0]:\n",
    "        raise ValueError(\"The length of new_user_ratings must match the size of similarity matrix.\")\n",
    "\n",
    "    # Convert new user ratings to NaN if 0 (user hasn't rated the movie)\n",
    "    user_ratings = np.where(new_user_ratings == 0, np.nan, new_user_ratings)\n",
    "\n",
    "    # Filter out movies the user has already rated\n",
    "    unrated_movies_mask = np.isnan(user_ratings)\n",
    "\n",
    "    # Extract the similarity scores for unrated movies\n",
    "    unrated_similarity = similarity_sparse[unrated_movies_mask, :]\n",
    "\n",
    "    # Calculate the weighted scores using matrix multiplication\n",
    "    weighted_scores = unrated_similarity.dot(user_ratings)\n",
    "\n",
    "    # Normalize by the sum of the similarities for rated movies\n",
    "    sum_similarity = unrated_similarity.sum(axis=1).A1  # Convert to 1D array\n",
    "    valid_mask = sum_similarity > 0\n",
    "    normalized_scores = np.divide(weighted_scores, sum_similarity, where=valid_mask)\n",
    "\n",
    "    # Select top N recommendations\n",
    "    top_movie_indices = np.argsort(-normalized_scores)[:n_recommendations]\n",
    "\n",
    "    return top_movie_indices.tolist()\n"
   ],
   "metadata": {
    "collapsed": false,
    "ExecuteTime": {
     "end_time": "2023-11-24T00:53:57.165201900Z",
     "start_time": "2023-11-24T00:53:57.160878400Z"
    }
   }
  },
  {
   "cell_type": "code",
   "execution_count": 38,
   "outputs": [
    {
     "data": {
      "text/plain": "MovieID\n1    5\n2    0\n3    0\n4    0\n5    0\nName: Rating, dtype: int64"
     },
     "execution_count": 38,
     "metadata": {},
     "output_type": "execute_result"
    }
   ],
   "source": [
    "# generate a vector 1 x 3706, which represents the rating of user 1 to all movies\n",
    "user_1 = ratings[ratings['UserID'] == 1]\n",
    "user_1_ratings = user_1.set_index('MovieID')['Rating']\n",
    "user_1_ratings = user_1_ratings.reindex(range(1, 3707), fill_value=0)\n",
    "user_1_ratings.head()"
   ],
   "metadata": {
    "collapsed": false,
    "ExecuteTime": {
     "end_time": "2023-11-24T00:53:57.177450700Z",
     "start_time": "2023-11-24T00:53:57.167201800Z"
    }
   }
  },
  {
   "cell_type": "code",
   "execution_count": 39,
   "outputs": [
    {
     "data": {
      "text/plain": "(3706,)"
     },
     "execution_count": 39,
     "metadata": {},
     "output_type": "execute_result"
    }
   ],
   "source": [
    "user_1_ratings.values.shape"
   ],
   "metadata": {
    "collapsed": false,
    "ExecuteTime": {
     "end_time": "2023-11-24T00:53:57.182925100Z",
     "start_time": "2023-11-24T00:53:57.179450400Z"
    }
   }
  },
  {
   "cell_type": "code",
   "execution_count": 40,
   "outputs": [
    {
     "data": {
      "text/plain": "[1826, 381, 383, 385, 1468, 3245, 2254, 3208, 1420, 3173]"
     },
     "execution_count": 40,
     "metadata": {},
     "output_type": "execute_result"
    }
   ],
   "source": [
    "recommend_movies(user_1_ratings.values, similarity_matrix)"
   ],
   "metadata": {
    "collapsed": false,
    "ExecuteTime": {
     "end_time": "2023-11-24T00:53:57.260423300Z",
     "start_time": "2023-11-24T00:53:57.182925100Z"
    }
   }
  },
  {
   "cell_type": "code",
   "execution_count": 41,
   "outputs": [],
   "source": [
    "# get the movie titles by movie ids\n",
    "def get_movie_titles(movie_ids):\n",
    "    return movies[movies['MovieID'].isin(movie_ids)]"
   ],
   "metadata": {
    "collapsed": false,
    "ExecuteTime": {
     "end_time": "2023-11-24T00:53:57.264547600Z",
     "start_time": "2023-11-24T00:53:57.261423500Z"
    }
   }
  },
  {
   "cell_type": "code",
   "execution_count": 42,
   "outputs": [
    {
     "data": {
      "text/plain": "      MovieID                                              Title  \\\n214       216                               Billy Madison (1995)   \n377       381                    When a Man Loves a Woman (1994)   \n379       383                                  Wyatt Earp (1994)   \n381       385                     Man of No Importance, A (1994)   \n521       525               Saint of Fort Washington, The (1993)   \n552       556                               War Room, The (1993)   \n555       559                               Paris, France (1993)   \n558       562                    Welcome to the Dollhouse (1995)   \n560       564                                     Chasers (1994)   \n607       611                       Hellraiser: Bloodline (1996)   \n608       612                             Pallbearer, The (1996)   \n610       614                                      Loaded (1994)   \n616       620          Scream of Stone (Schrei aus Stein) (1991)   \n1278     1298                       Pink Floyd - The Wall (1982)   \n1282     1302                             Field of Dreams (1989)   \n1310     1330                            April Fool's Day (1986)   \n1396     1420  Message to Love: The Isle of Wight Festival (1...   \n1441     1468                                  Booty Call (1997)   \n1500     1538     Second Jungle Book: Mowgli & Baloo, The (1997)   \n1595     1641                             Full Monty, The (1997)   \n1596     1642      Indian Summer (a.k.a. Alive & Kicking) (1996)   \n1650     1697                        Big Bang Theory, The (1994)   \n1656     1704                           Good Will Hunting (1997)   \n1759     1826                    Barney's Great Adventure (1998)   \n1926     1995              Poltergeist II: The Other Side (1986)   \n1928     1997                               Exorcist, The (1973)   \n1929     1998                    Exorcist II: The Heretic (1977)   \n1933     2002                             Lethal Weapon 3 (1992)   \n1939     2008              This World, Then the Fireworks (1996)   \n1958     2027                                      Mafia! (1998)   \n1979     2048                  Great Mouse Detective, The (1986)   \n2010     2079                                   Kidnapped (1960)   \n2139     2208                          Lady Vanishes, The (1938)   \n2185     2254                                     Choices (1981)   \n2250     2319                              Reach the Rock (1997)   \n2257     2326                             Shattered Image (1998)   \n2277     2346                         Stepford Wives, The (1975)   \n2284     2353                          Enemy of the State (1998)   \n2306     2375                              Money Pit, The (1986)   \n2990     3059                        British Intelligence (1940)   \n3005     3074                            Jeremiah Johnson (1972)   \n3026     3095                        Grapes of Wrath, The (1940)   \n3032     3101                            Fatal Attraction (1987)   \n3104     3173                            Any Given Sunday (1999)   \n3139     3208                             Loaded Weapon 1 (1993)   \n3176     3245                I Am Cuba (Soy Cuba/Ya Kuba) (1964)   \n3240     3309                               Dog's Life, A (1920)   \n3246     3315                             Happy Go Lovely (1951)   \n3358     3427                              Coogan's Bluff (1968)   \n3414     3483                      Road to El Dorado, The (2000)   \n\n                               Genres  \n214                            Comedy  \n377                             Drama  \n379                           Western  \n381                             Drama  \n521                             Drama  \n552                       Documentary  \n555                            Comedy  \n558                      Comedy|Drama  \n560                            Comedy  \n607              Action|Horror|Sci-Fi  \n608                            Comedy  \n610                    Drama|Thriller  \n616                             Drama  \n1278                Drama|Musical|War  \n1282                            Drama  \n1310                    Comedy|Horror  \n1396                      Documentary  \n1441                   Comedy|Romance  \n1500             Adventure|Children's  \n1595                           Comedy  \n1596                     Comedy|Drama  \n1650                            Crime  \n1656                            Drama  \n1759             Adventure|Children's  \n1926                  Horror|Thriller  \n1928                           Horror  \n1929                           Horror  \n1933        Action|Comedy|Crime|Drama  \n1939            Crime|Drama|Film-Noir  \n1958                     Comedy|Crime  \n1979             Animation|Children's  \n2010                 Children's|Drama  \n2139  Comedy|Mystery|Romance|Thriller  \n2185                            Drama  \n2250                           Comedy  \n2257                   Drama|Thriller  \n2277                  Sci-Fi|Thriller  \n2284                  Action|Thriller  \n2306                           Comedy  \n2990                            Drama  \n3005                          Western  \n3026                            Drama  \n3032                         Thriller  \n3104                            Drama  \n3139                    Action|Comedy  \n3176                            Drama  \n3240                           Comedy  \n3246                          Musical  \n3358                            Crime  \n3414             Animation|Children's  ",
      "text/html": "<div>\n<style scoped>\n    .dataframe tbody tr th:only-of-type {\n        vertical-align: middle;\n    }\n\n    .dataframe tbody tr th {\n        vertical-align: top;\n    }\n\n    .dataframe thead th {\n        text-align: right;\n    }\n</style>\n<table border=\"1\" class=\"dataframe\">\n  <thead>\n    <tr style=\"text-align: right;\">\n      <th></th>\n      <th>MovieID</th>\n      <th>Title</th>\n      <th>Genres</th>\n    </tr>\n  </thead>\n  <tbody>\n    <tr>\n      <th>214</th>\n      <td>216</td>\n      <td>Billy Madison (1995)</td>\n      <td>Comedy</td>\n    </tr>\n    <tr>\n      <th>377</th>\n      <td>381</td>\n      <td>When a Man Loves a Woman (1994)</td>\n      <td>Drama</td>\n    </tr>\n    <tr>\n      <th>379</th>\n      <td>383</td>\n      <td>Wyatt Earp (1994)</td>\n      <td>Western</td>\n    </tr>\n    <tr>\n      <th>381</th>\n      <td>385</td>\n      <td>Man of No Importance, A (1994)</td>\n      <td>Drama</td>\n    </tr>\n    <tr>\n      <th>521</th>\n      <td>525</td>\n      <td>Saint of Fort Washington, The (1993)</td>\n      <td>Drama</td>\n    </tr>\n    <tr>\n      <th>552</th>\n      <td>556</td>\n      <td>War Room, The (1993)</td>\n      <td>Documentary</td>\n    </tr>\n    <tr>\n      <th>555</th>\n      <td>559</td>\n      <td>Paris, France (1993)</td>\n      <td>Comedy</td>\n    </tr>\n    <tr>\n      <th>558</th>\n      <td>562</td>\n      <td>Welcome to the Dollhouse (1995)</td>\n      <td>Comedy|Drama</td>\n    </tr>\n    <tr>\n      <th>560</th>\n      <td>564</td>\n      <td>Chasers (1994)</td>\n      <td>Comedy</td>\n    </tr>\n    <tr>\n      <th>607</th>\n      <td>611</td>\n      <td>Hellraiser: Bloodline (1996)</td>\n      <td>Action|Horror|Sci-Fi</td>\n    </tr>\n    <tr>\n      <th>608</th>\n      <td>612</td>\n      <td>Pallbearer, The (1996)</td>\n      <td>Comedy</td>\n    </tr>\n    <tr>\n      <th>610</th>\n      <td>614</td>\n      <td>Loaded (1994)</td>\n      <td>Drama|Thriller</td>\n    </tr>\n    <tr>\n      <th>616</th>\n      <td>620</td>\n      <td>Scream of Stone (Schrei aus Stein) (1991)</td>\n      <td>Drama</td>\n    </tr>\n    <tr>\n      <th>1278</th>\n      <td>1298</td>\n      <td>Pink Floyd - The Wall (1982)</td>\n      <td>Drama|Musical|War</td>\n    </tr>\n    <tr>\n      <th>1282</th>\n      <td>1302</td>\n      <td>Field of Dreams (1989)</td>\n      <td>Drama</td>\n    </tr>\n    <tr>\n      <th>1310</th>\n      <td>1330</td>\n      <td>April Fool's Day (1986)</td>\n      <td>Comedy|Horror</td>\n    </tr>\n    <tr>\n      <th>1396</th>\n      <td>1420</td>\n      <td>Message to Love: The Isle of Wight Festival (1...</td>\n      <td>Documentary</td>\n    </tr>\n    <tr>\n      <th>1441</th>\n      <td>1468</td>\n      <td>Booty Call (1997)</td>\n      <td>Comedy|Romance</td>\n    </tr>\n    <tr>\n      <th>1500</th>\n      <td>1538</td>\n      <td>Second Jungle Book: Mowgli &amp; Baloo, The (1997)</td>\n      <td>Adventure|Children's</td>\n    </tr>\n    <tr>\n      <th>1595</th>\n      <td>1641</td>\n      <td>Full Monty, The (1997)</td>\n      <td>Comedy</td>\n    </tr>\n    <tr>\n      <th>1596</th>\n      <td>1642</td>\n      <td>Indian Summer (a.k.a. Alive &amp; Kicking) (1996)</td>\n      <td>Comedy|Drama</td>\n    </tr>\n    <tr>\n      <th>1650</th>\n      <td>1697</td>\n      <td>Big Bang Theory, The (1994)</td>\n      <td>Crime</td>\n    </tr>\n    <tr>\n      <th>1656</th>\n      <td>1704</td>\n      <td>Good Will Hunting (1997)</td>\n      <td>Drama</td>\n    </tr>\n    <tr>\n      <th>1759</th>\n      <td>1826</td>\n      <td>Barney's Great Adventure (1998)</td>\n      <td>Adventure|Children's</td>\n    </tr>\n    <tr>\n      <th>1926</th>\n      <td>1995</td>\n      <td>Poltergeist II: The Other Side (1986)</td>\n      <td>Horror|Thriller</td>\n    </tr>\n    <tr>\n      <th>1928</th>\n      <td>1997</td>\n      <td>Exorcist, The (1973)</td>\n      <td>Horror</td>\n    </tr>\n    <tr>\n      <th>1929</th>\n      <td>1998</td>\n      <td>Exorcist II: The Heretic (1977)</td>\n      <td>Horror</td>\n    </tr>\n    <tr>\n      <th>1933</th>\n      <td>2002</td>\n      <td>Lethal Weapon 3 (1992)</td>\n      <td>Action|Comedy|Crime|Drama</td>\n    </tr>\n    <tr>\n      <th>1939</th>\n      <td>2008</td>\n      <td>This World, Then the Fireworks (1996)</td>\n      <td>Crime|Drama|Film-Noir</td>\n    </tr>\n    <tr>\n      <th>1958</th>\n      <td>2027</td>\n      <td>Mafia! (1998)</td>\n      <td>Comedy|Crime</td>\n    </tr>\n    <tr>\n      <th>1979</th>\n      <td>2048</td>\n      <td>Great Mouse Detective, The (1986)</td>\n      <td>Animation|Children's</td>\n    </tr>\n    <tr>\n      <th>2010</th>\n      <td>2079</td>\n      <td>Kidnapped (1960)</td>\n      <td>Children's|Drama</td>\n    </tr>\n    <tr>\n      <th>2139</th>\n      <td>2208</td>\n      <td>Lady Vanishes, The (1938)</td>\n      <td>Comedy|Mystery|Romance|Thriller</td>\n    </tr>\n    <tr>\n      <th>2185</th>\n      <td>2254</td>\n      <td>Choices (1981)</td>\n      <td>Drama</td>\n    </tr>\n    <tr>\n      <th>2250</th>\n      <td>2319</td>\n      <td>Reach the Rock (1997)</td>\n      <td>Comedy</td>\n    </tr>\n    <tr>\n      <th>2257</th>\n      <td>2326</td>\n      <td>Shattered Image (1998)</td>\n      <td>Drama|Thriller</td>\n    </tr>\n    <tr>\n      <th>2277</th>\n      <td>2346</td>\n      <td>Stepford Wives, The (1975)</td>\n      <td>Sci-Fi|Thriller</td>\n    </tr>\n    <tr>\n      <th>2284</th>\n      <td>2353</td>\n      <td>Enemy of the State (1998)</td>\n      <td>Action|Thriller</td>\n    </tr>\n    <tr>\n      <th>2306</th>\n      <td>2375</td>\n      <td>Money Pit, The (1986)</td>\n      <td>Comedy</td>\n    </tr>\n    <tr>\n      <th>2990</th>\n      <td>3059</td>\n      <td>British Intelligence (1940)</td>\n      <td>Drama</td>\n    </tr>\n    <tr>\n      <th>3005</th>\n      <td>3074</td>\n      <td>Jeremiah Johnson (1972)</td>\n      <td>Western</td>\n    </tr>\n    <tr>\n      <th>3026</th>\n      <td>3095</td>\n      <td>Grapes of Wrath, The (1940)</td>\n      <td>Drama</td>\n    </tr>\n    <tr>\n      <th>3032</th>\n      <td>3101</td>\n      <td>Fatal Attraction (1987)</td>\n      <td>Thriller</td>\n    </tr>\n    <tr>\n      <th>3104</th>\n      <td>3173</td>\n      <td>Any Given Sunday (1999)</td>\n      <td>Drama</td>\n    </tr>\n    <tr>\n      <th>3139</th>\n      <td>3208</td>\n      <td>Loaded Weapon 1 (1993)</td>\n      <td>Action|Comedy</td>\n    </tr>\n    <tr>\n      <th>3176</th>\n      <td>3245</td>\n      <td>I Am Cuba (Soy Cuba/Ya Kuba) (1964)</td>\n      <td>Drama</td>\n    </tr>\n    <tr>\n      <th>3240</th>\n      <td>3309</td>\n      <td>Dog's Life, A (1920)</td>\n      <td>Comedy</td>\n    </tr>\n    <tr>\n      <th>3246</th>\n      <td>3315</td>\n      <td>Happy Go Lovely (1951)</td>\n      <td>Musical</td>\n    </tr>\n    <tr>\n      <th>3358</th>\n      <td>3427</td>\n      <td>Coogan's Bluff (1968)</td>\n      <td>Crime</td>\n    </tr>\n    <tr>\n      <th>3414</th>\n      <td>3483</td>\n      <td>Road to El Dorado, The (2000)</td>\n      <td>Animation|Children's</td>\n    </tr>\n  </tbody>\n</table>\n</div>"
     },
     "execution_count": 42,
     "metadata": {},
     "output_type": "execute_result"
    }
   ],
   "source": [
    "user_1_recommend = get_movie_titles(recommend_movies(user_1_ratings.values, similarity_matrix, n_recommendations=50))\n",
    "user_1_recommend"
   ],
   "metadata": {
    "collapsed": false,
    "ExecuteTime": {
     "end_time": "2023-11-24T00:53:57.338036900Z",
     "start_time": "2023-11-24T00:53:57.264547600Z"
    }
   }
  },
  {
   "cell_type": "code",
   "execution_count": 43,
   "outputs": [
    {
     "data": {
      "text/plain": "      MovieID                                              Title  \\\n0           1                                   Toy Story (1995)   \n47         48                                  Pocahontas (1995)   \n148       150                                   Apollo 13 (1995)   \n257       260          Star Wars: Episode IV - A New Hope (1977)   \n523       527                            Schindler's List (1993)   \n527       531                          Secret Garden, The (1993)   \n584       588                                     Aladdin (1992)   \n590       594             Snow White and the Seven Dwarfs (1937)   \n591       595                        Beauty and the Beast (1991)   \n604       608                                       Fargo (1996)   \n655       661                   James and the Giant Peach (1996)   \n711       720  Wallace & Gromit: The Best of Aardman Animatio...   \n735       745                              Close Shave, A (1995)   \n773       783                Hunchback of Notre Dame, The (1996)   \n902       914                                My Fair Lady (1964)   \n907       919                           Wizard of Oz, The (1939)   \n926       938                                        Gigi (1958)   \n1009     1022                                  Cinderella (1950)   \n1015     1028                                Mary Poppins (1964)   \n1016     1029                                       Dumbo (1941)   \n1022     1035                         Sound of Music, The (1965)   \n1081     1097                  E.T. the Extra-Terrestrial (1982)   \n1176     1193             One Flew Over the Cuckoo's Nest (1975)   \n1179     1197                         Princess Bride, The (1987)   \n1189     1207                       To Kill a Mockingbird (1962)   \n1226     1246                          Dead Poets Society (1989)   \n1250     1270                          Back to the Future (1985)   \n1267     1287                                     Ben-Hur (1959)   \n1506     1545                                     Ponette (1996)   \n1526     1566                                    Hercules (1997)   \n1672     1721                                     Titanic (1997)   \n1768     1836                     Last Days of Disco, The (1998)   \n1838     1907                                       Mulan (1998)   \n1892     1961                                    Rain Man (1988)   \n1893     1962                          Driving Miss Daisy (1989)   \n1949     2018                                       Bambi (1942)   \n1959     2028                         Saving Private Ryan (1998)   \n2225     2294                                        Antz (1998)   \n2252     2321                               Pleasantville (1998)   \n2271     2340                              Meet Joe Black (1998)   \n2286     2355                               Bug's Life, A (1998)   \n2329     2398                      Miracle on 34th Street (1947)   \n2618     2687                                      Tarzan (1999)   \n2623     2692                   Run Lola Run (Lola rennt) (1998)   \n2693     2762                            Sixth Sense, The (1999)   \n2722     2791                                   Airplane! (1980)   \n2728     2797                                         Big (1988)   \n2735     2804                          Christmas Story, A (1983)   \n2849     2918                    Ferris Bueller's Day Off (1986)   \n3036     3105                                  Awakenings (1990)   \n3045     3114                                 Toy Story 2 (1999)   \n3117     3186                           Girl, Interrupted (1999)   \n3339     3408                             Erin Brockovich (2000)   \n\n                                             Genres  \n0                       Animation|Children's|Comedy  \n47             Animation|Children's|Musical|Romance  \n148                                           Drama  \n257                 Action|Adventure|Fantasy|Sci-Fi  \n523                                       Drama|War  \n527                                Children's|Drama  \n584             Animation|Children's|Comedy|Musical  \n590                    Animation|Children's|Musical  \n591                    Animation|Children's|Musical  \n604                            Crime|Drama|Thriller  \n655                    Animation|Children's|Musical  \n711                                       Animation  \n735                       Animation|Comedy|Thriller  \n773                    Animation|Children's|Musical  \n902                                 Musical|Romance  \n907              Adventure|Children's|Drama|Musical  \n926                                         Musical  \n1009                   Animation|Children's|Musical  \n1015                      Children's|Comedy|Musical  \n1016                   Animation|Children's|Musical  \n1022                                        Musical  \n1081                Children's|Drama|Fantasy|Sci-Fi  \n1176                                          Drama  \n1179                Action|Adventure|Comedy|Romance  \n1189                                          Drama  \n1226                                          Drama  \n1250                                  Comedy|Sci-Fi  \n1267                         Action|Adventure|Drama  \n1506                                          Drama  \n1526  Adventure|Animation|Children's|Comedy|Musical  \n1672                                  Drama|Romance  \n1768                                          Drama  \n1838                           Animation|Children's  \n1892                                          Drama  \n1893                                          Drama  \n1949                           Animation|Children's  \n1959                               Action|Drama|War  \n2225                           Animation|Children's  \n2252                                         Comedy  \n2271                                        Romance  \n2286                    Animation|Children's|Comedy  \n2329                                          Drama  \n2618                           Animation|Children's  \n2623                           Action|Crime|Romance  \n2693                                       Thriller  \n2722                                         Comedy  \n2728                                 Comedy|Fantasy  \n2735                                   Comedy|Drama  \n2849                                         Comedy  \n3036                                          Drama  \n3045                    Animation|Children's|Comedy  \n3117                                          Drama  \n3339                                          Drama  ",
      "text/html": "<div>\n<style scoped>\n    .dataframe tbody tr th:only-of-type {\n        vertical-align: middle;\n    }\n\n    .dataframe tbody tr th {\n        vertical-align: top;\n    }\n\n    .dataframe thead th {\n        text-align: right;\n    }\n</style>\n<table border=\"1\" class=\"dataframe\">\n  <thead>\n    <tr style=\"text-align: right;\">\n      <th></th>\n      <th>MovieID</th>\n      <th>Title</th>\n      <th>Genres</th>\n    </tr>\n  </thead>\n  <tbody>\n    <tr>\n      <th>0</th>\n      <td>1</td>\n      <td>Toy Story (1995)</td>\n      <td>Animation|Children's|Comedy</td>\n    </tr>\n    <tr>\n      <th>47</th>\n      <td>48</td>\n      <td>Pocahontas (1995)</td>\n      <td>Animation|Children's|Musical|Romance</td>\n    </tr>\n    <tr>\n      <th>148</th>\n      <td>150</td>\n      <td>Apollo 13 (1995)</td>\n      <td>Drama</td>\n    </tr>\n    <tr>\n      <th>257</th>\n      <td>260</td>\n      <td>Star Wars: Episode IV - A New Hope (1977)</td>\n      <td>Action|Adventure|Fantasy|Sci-Fi</td>\n    </tr>\n    <tr>\n      <th>523</th>\n      <td>527</td>\n      <td>Schindler's List (1993)</td>\n      <td>Drama|War</td>\n    </tr>\n    <tr>\n      <th>527</th>\n      <td>531</td>\n      <td>Secret Garden, The (1993)</td>\n      <td>Children's|Drama</td>\n    </tr>\n    <tr>\n      <th>584</th>\n      <td>588</td>\n      <td>Aladdin (1992)</td>\n      <td>Animation|Children's|Comedy|Musical</td>\n    </tr>\n    <tr>\n      <th>590</th>\n      <td>594</td>\n      <td>Snow White and the Seven Dwarfs (1937)</td>\n      <td>Animation|Children's|Musical</td>\n    </tr>\n    <tr>\n      <th>591</th>\n      <td>595</td>\n      <td>Beauty and the Beast (1991)</td>\n      <td>Animation|Children's|Musical</td>\n    </tr>\n    <tr>\n      <th>604</th>\n      <td>608</td>\n      <td>Fargo (1996)</td>\n      <td>Crime|Drama|Thriller</td>\n    </tr>\n    <tr>\n      <th>655</th>\n      <td>661</td>\n      <td>James and the Giant Peach (1996)</td>\n      <td>Animation|Children's|Musical</td>\n    </tr>\n    <tr>\n      <th>711</th>\n      <td>720</td>\n      <td>Wallace &amp; Gromit: The Best of Aardman Animatio...</td>\n      <td>Animation</td>\n    </tr>\n    <tr>\n      <th>735</th>\n      <td>745</td>\n      <td>Close Shave, A (1995)</td>\n      <td>Animation|Comedy|Thriller</td>\n    </tr>\n    <tr>\n      <th>773</th>\n      <td>783</td>\n      <td>Hunchback of Notre Dame, The (1996)</td>\n      <td>Animation|Children's|Musical</td>\n    </tr>\n    <tr>\n      <th>902</th>\n      <td>914</td>\n      <td>My Fair Lady (1964)</td>\n      <td>Musical|Romance</td>\n    </tr>\n    <tr>\n      <th>907</th>\n      <td>919</td>\n      <td>Wizard of Oz, The (1939)</td>\n      <td>Adventure|Children's|Drama|Musical</td>\n    </tr>\n    <tr>\n      <th>926</th>\n      <td>938</td>\n      <td>Gigi (1958)</td>\n      <td>Musical</td>\n    </tr>\n    <tr>\n      <th>1009</th>\n      <td>1022</td>\n      <td>Cinderella (1950)</td>\n      <td>Animation|Children's|Musical</td>\n    </tr>\n    <tr>\n      <th>1015</th>\n      <td>1028</td>\n      <td>Mary Poppins (1964)</td>\n      <td>Children's|Comedy|Musical</td>\n    </tr>\n    <tr>\n      <th>1016</th>\n      <td>1029</td>\n      <td>Dumbo (1941)</td>\n      <td>Animation|Children's|Musical</td>\n    </tr>\n    <tr>\n      <th>1022</th>\n      <td>1035</td>\n      <td>Sound of Music, The (1965)</td>\n      <td>Musical</td>\n    </tr>\n    <tr>\n      <th>1081</th>\n      <td>1097</td>\n      <td>E.T. the Extra-Terrestrial (1982)</td>\n      <td>Children's|Drama|Fantasy|Sci-Fi</td>\n    </tr>\n    <tr>\n      <th>1176</th>\n      <td>1193</td>\n      <td>One Flew Over the Cuckoo's Nest (1975)</td>\n      <td>Drama</td>\n    </tr>\n    <tr>\n      <th>1179</th>\n      <td>1197</td>\n      <td>Princess Bride, The (1987)</td>\n      <td>Action|Adventure|Comedy|Romance</td>\n    </tr>\n    <tr>\n      <th>1189</th>\n      <td>1207</td>\n      <td>To Kill a Mockingbird (1962)</td>\n      <td>Drama</td>\n    </tr>\n    <tr>\n      <th>1226</th>\n      <td>1246</td>\n      <td>Dead Poets Society (1989)</td>\n      <td>Drama</td>\n    </tr>\n    <tr>\n      <th>1250</th>\n      <td>1270</td>\n      <td>Back to the Future (1985)</td>\n      <td>Comedy|Sci-Fi</td>\n    </tr>\n    <tr>\n      <th>1267</th>\n      <td>1287</td>\n      <td>Ben-Hur (1959)</td>\n      <td>Action|Adventure|Drama</td>\n    </tr>\n    <tr>\n      <th>1506</th>\n      <td>1545</td>\n      <td>Ponette (1996)</td>\n      <td>Drama</td>\n    </tr>\n    <tr>\n      <th>1526</th>\n      <td>1566</td>\n      <td>Hercules (1997)</td>\n      <td>Adventure|Animation|Children's|Comedy|Musical</td>\n    </tr>\n    <tr>\n      <th>1672</th>\n      <td>1721</td>\n      <td>Titanic (1997)</td>\n      <td>Drama|Romance</td>\n    </tr>\n    <tr>\n      <th>1768</th>\n      <td>1836</td>\n      <td>Last Days of Disco, The (1998)</td>\n      <td>Drama</td>\n    </tr>\n    <tr>\n      <th>1838</th>\n      <td>1907</td>\n      <td>Mulan (1998)</td>\n      <td>Animation|Children's</td>\n    </tr>\n    <tr>\n      <th>1892</th>\n      <td>1961</td>\n      <td>Rain Man (1988)</td>\n      <td>Drama</td>\n    </tr>\n    <tr>\n      <th>1893</th>\n      <td>1962</td>\n      <td>Driving Miss Daisy (1989)</td>\n      <td>Drama</td>\n    </tr>\n    <tr>\n      <th>1949</th>\n      <td>2018</td>\n      <td>Bambi (1942)</td>\n      <td>Animation|Children's</td>\n    </tr>\n    <tr>\n      <th>1959</th>\n      <td>2028</td>\n      <td>Saving Private Ryan (1998)</td>\n      <td>Action|Drama|War</td>\n    </tr>\n    <tr>\n      <th>2225</th>\n      <td>2294</td>\n      <td>Antz (1998)</td>\n      <td>Animation|Children's</td>\n    </tr>\n    <tr>\n      <th>2252</th>\n      <td>2321</td>\n      <td>Pleasantville (1998)</td>\n      <td>Comedy</td>\n    </tr>\n    <tr>\n      <th>2271</th>\n      <td>2340</td>\n      <td>Meet Joe Black (1998)</td>\n      <td>Romance</td>\n    </tr>\n    <tr>\n      <th>2286</th>\n      <td>2355</td>\n      <td>Bug's Life, A (1998)</td>\n      <td>Animation|Children's|Comedy</td>\n    </tr>\n    <tr>\n      <th>2329</th>\n      <td>2398</td>\n      <td>Miracle on 34th Street (1947)</td>\n      <td>Drama</td>\n    </tr>\n    <tr>\n      <th>2618</th>\n      <td>2687</td>\n      <td>Tarzan (1999)</td>\n      <td>Animation|Children's</td>\n    </tr>\n    <tr>\n      <th>2623</th>\n      <td>2692</td>\n      <td>Run Lola Run (Lola rennt) (1998)</td>\n      <td>Action|Crime|Romance</td>\n    </tr>\n    <tr>\n      <th>2693</th>\n      <td>2762</td>\n      <td>Sixth Sense, The (1999)</td>\n      <td>Thriller</td>\n    </tr>\n    <tr>\n      <th>2722</th>\n      <td>2791</td>\n      <td>Airplane! (1980)</td>\n      <td>Comedy</td>\n    </tr>\n    <tr>\n      <th>2728</th>\n      <td>2797</td>\n      <td>Big (1988)</td>\n      <td>Comedy|Fantasy</td>\n    </tr>\n    <tr>\n      <th>2735</th>\n      <td>2804</td>\n      <td>Christmas Story, A (1983)</td>\n      <td>Comedy|Drama</td>\n    </tr>\n    <tr>\n      <th>2849</th>\n      <td>2918</td>\n      <td>Ferris Bueller's Day Off (1986)</td>\n      <td>Comedy</td>\n    </tr>\n    <tr>\n      <th>3036</th>\n      <td>3105</td>\n      <td>Awakenings (1990)</td>\n      <td>Drama</td>\n    </tr>\n    <tr>\n      <th>3045</th>\n      <td>3114</td>\n      <td>Toy Story 2 (1999)</td>\n      <td>Animation|Children's|Comedy</td>\n    </tr>\n    <tr>\n      <th>3117</th>\n      <td>3186</td>\n      <td>Girl, Interrupted (1999)</td>\n      <td>Drama</td>\n    </tr>\n    <tr>\n      <th>3339</th>\n      <td>3408</td>\n      <td>Erin Brockovich (2000)</td>\n      <td>Drama</td>\n    </tr>\n  </tbody>\n</table>\n</div>"
     },
     "execution_count": 43,
     "metadata": {},
     "output_type": "execute_result"
    }
   ],
   "source": [
    "# get 10 movies are rated by user 1, sorted by rating\n",
    "user_1_watched = user_1[user_1['MovieID'].isin(range(1, 3707))].sort_values(by='Rating', ascending=False)\n",
    "# get movies info\n",
    "user_1_movie = get_movie_titles(user_1_watched['MovieID'].values)\n",
    "user_1_movie"
   ],
   "metadata": {
    "collapsed": false,
    "ExecuteTime": {
     "end_time": "2023-11-24T00:53:57.350313400Z",
     "start_time": "2023-11-24T00:53:57.338036900Z"
    }
   }
  },
  {
   "cell_type": "code",
   "execution_count": 43,
   "outputs": [],
   "source": [],
   "metadata": {
    "collapsed": false,
    "ExecuteTime": {
     "end_time": "2023-11-24T00:53:57.354953Z",
     "start_time": "2023-11-24T00:53:57.351313500Z"
    }
   }
  },
  {
   "cell_type": "code",
   "execution_count": 43,
   "outputs": [],
   "source": [],
   "metadata": {
    "collapsed": false,
    "ExecuteTime": {
     "end_time": "2023-11-24T00:53:57.360129900Z",
     "start_time": "2023-11-24T00:53:57.355953900Z"
    }
   }
  }
 ],
 "metadata": {
  "kernelspec": {
   "display_name": "Python 3",
   "language": "python",
   "name": "python3"
  },
  "language_info": {
   "codemirror_mode": {
    "name": "ipython",
    "version": 2
   },
   "file_extension": ".py",
   "mimetype": "text/x-python",
   "name": "python",
   "nbconvert_exporter": "python",
   "pygments_lexer": "ipython2",
   "version": "2.7.6"
  }
 },
 "nbformat": 4,
 "nbformat_minor": 0
}
