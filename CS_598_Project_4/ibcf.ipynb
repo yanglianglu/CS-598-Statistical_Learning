{
 "cells": [
  {
   "cell_type": "code",
   "execution_count": 85,
   "metadata": {
    "collapsed": true,
    "ExecuteTime": {
     "end_time": "2023-11-21T06:00:43.921532200Z",
     "start_time": "2023-11-21T06:00:43.907018Z"
    }
   },
   "outputs": [],
   "source": [
    "import pandas as pd"
   ]
  },
  {
   "cell_type": "code",
   "execution_count": 86,
   "outputs": [],
   "source": [
    "ratings = pd.read_csv('data/ratings.dat', sep='::', engine = 'python', header=None)\n",
    "ratings.columns = ['UserID', 'MovieID', 'Rating', 'Timestamp']\n",
    "movies = pd.read_csv('data/movies.dat', sep='::', engine = 'python',\n",
    "                     encoding=\"ISO-8859-1\", header = None)\n",
    "movies.columns = ['MovieID', 'Title', 'Genres']"
   ],
   "metadata": {
    "collapsed": false,
    "ExecuteTime": {
     "end_time": "2023-11-21T06:00:46.761505200Z",
     "start_time": "2023-11-21T06:00:44.681144900Z"
    }
   }
  },
  {
   "cell_type": "code",
   "execution_count": 87,
   "outputs": [
    {
     "data": {
      "text/plain": "6040"
     },
     "execution_count": 87,
     "metadata": {},
     "output_type": "execute_result"
    }
   ],
   "source": [
    "ratings['UserID'].nunique()"
   ],
   "metadata": {
    "collapsed": false,
    "ExecuteTime": {
     "end_time": "2023-11-21T06:00:46.769822300Z",
     "start_time": "2023-11-21T06:00:46.761505200Z"
    }
   }
  },
  {
   "cell_type": "code",
   "execution_count": 88,
   "outputs": [
    {
     "data": {
      "text/plain": "3883"
     },
     "execution_count": 88,
     "metadata": {},
     "output_type": "execute_result"
    }
   ],
   "source": [
    "movies['MovieID'].nunique()"
   ],
   "metadata": {
    "collapsed": false,
    "ExecuteTime": {
     "end_time": "2023-11-21T06:00:46.780024200Z",
     "start_time": "2023-11-21T06:00:46.770825300Z"
    }
   }
  },
  {
   "cell_type": "code",
   "execution_count": 89,
   "outputs": [
    {
     "data": {
      "text/plain": "UserID   1     2     3     4     5     6     7     8     9     10    ...  \\\nMovieID                                                              ...   \n1         5.0   NaN   NaN   NaN   NaN   4.0   NaN   4.0   5.0   5.0  ...   \n2         NaN   NaN   NaN   NaN   NaN   NaN   NaN   NaN   NaN   5.0  ...   \n3         NaN   NaN   NaN   NaN   NaN   NaN   NaN   NaN   NaN   NaN  ...   \n4         NaN   NaN   NaN   NaN   NaN   NaN   NaN   3.0   NaN   NaN  ...   \n5         NaN   NaN   NaN   NaN   NaN   NaN   NaN   NaN   NaN   NaN  ...   \n\nUserID   6031  6032  6033  6034  6035  6036  6037  6038  6039  6040  \nMovieID                                                              \n1         NaN   4.0   NaN   NaN   4.0   NaN   NaN   NaN   NaN   3.0  \n2         NaN   NaN   NaN   NaN   NaN   NaN   NaN   NaN   NaN   NaN  \n3         NaN   NaN   NaN   NaN   1.0   NaN   NaN   NaN   NaN   NaN  \n4         NaN   NaN   NaN   NaN   2.0   2.0   NaN   NaN   NaN   NaN  \n5         NaN   NaN   NaN   NaN   1.0   NaN   NaN   NaN   NaN   NaN  \n\n[5 rows x 6040 columns]",
      "text/html": "<div>\n<style scoped>\n    .dataframe tbody tr th:only-of-type {\n        vertical-align: middle;\n    }\n\n    .dataframe tbody tr th {\n        vertical-align: top;\n    }\n\n    .dataframe thead th {\n        text-align: right;\n    }\n</style>\n<table border=\"1\" class=\"dataframe\">\n  <thead>\n    <tr style=\"text-align: right;\">\n      <th>UserID</th>\n      <th>1</th>\n      <th>2</th>\n      <th>3</th>\n      <th>4</th>\n      <th>5</th>\n      <th>6</th>\n      <th>7</th>\n      <th>8</th>\n      <th>9</th>\n      <th>10</th>\n      <th>...</th>\n      <th>6031</th>\n      <th>6032</th>\n      <th>6033</th>\n      <th>6034</th>\n      <th>6035</th>\n      <th>6036</th>\n      <th>6037</th>\n      <th>6038</th>\n      <th>6039</th>\n      <th>6040</th>\n    </tr>\n    <tr>\n      <th>MovieID</th>\n      <th></th>\n      <th></th>\n      <th></th>\n      <th></th>\n      <th></th>\n      <th></th>\n      <th></th>\n      <th></th>\n      <th></th>\n      <th></th>\n      <th></th>\n      <th></th>\n      <th></th>\n      <th></th>\n      <th></th>\n      <th></th>\n      <th></th>\n      <th></th>\n      <th></th>\n      <th></th>\n      <th></th>\n    </tr>\n  </thead>\n  <tbody>\n    <tr>\n      <th>1</th>\n      <td>5.0</td>\n      <td>NaN</td>\n      <td>NaN</td>\n      <td>NaN</td>\n      <td>NaN</td>\n      <td>4.0</td>\n      <td>NaN</td>\n      <td>4.0</td>\n      <td>5.0</td>\n      <td>5.0</td>\n      <td>...</td>\n      <td>NaN</td>\n      <td>4.0</td>\n      <td>NaN</td>\n      <td>NaN</td>\n      <td>4.0</td>\n      <td>NaN</td>\n      <td>NaN</td>\n      <td>NaN</td>\n      <td>NaN</td>\n      <td>3.0</td>\n    </tr>\n    <tr>\n      <th>2</th>\n      <td>NaN</td>\n      <td>NaN</td>\n      <td>NaN</td>\n      <td>NaN</td>\n      <td>NaN</td>\n      <td>NaN</td>\n      <td>NaN</td>\n      <td>NaN</td>\n      <td>NaN</td>\n      <td>5.0</td>\n      <td>...</td>\n      <td>NaN</td>\n      <td>NaN</td>\n      <td>NaN</td>\n      <td>NaN</td>\n      <td>NaN</td>\n      <td>NaN</td>\n      <td>NaN</td>\n      <td>NaN</td>\n      <td>NaN</td>\n      <td>NaN</td>\n    </tr>\n    <tr>\n      <th>3</th>\n      <td>NaN</td>\n      <td>NaN</td>\n      <td>NaN</td>\n      <td>NaN</td>\n      <td>NaN</td>\n      <td>NaN</td>\n      <td>NaN</td>\n      <td>NaN</td>\n      <td>NaN</td>\n      <td>NaN</td>\n      <td>...</td>\n      <td>NaN</td>\n      <td>NaN</td>\n      <td>NaN</td>\n      <td>NaN</td>\n      <td>1.0</td>\n      <td>NaN</td>\n      <td>NaN</td>\n      <td>NaN</td>\n      <td>NaN</td>\n      <td>NaN</td>\n    </tr>\n    <tr>\n      <th>4</th>\n      <td>NaN</td>\n      <td>NaN</td>\n      <td>NaN</td>\n      <td>NaN</td>\n      <td>NaN</td>\n      <td>NaN</td>\n      <td>NaN</td>\n      <td>3.0</td>\n      <td>NaN</td>\n      <td>NaN</td>\n      <td>...</td>\n      <td>NaN</td>\n      <td>NaN</td>\n      <td>NaN</td>\n      <td>NaN</td>\n      <td>2.0</td>\n      <td>2.0</td>\n      <td>NaN</td>\n      <td>NaN</td>\n      <td>NaN</td>\n      <td>NaN</td>\n    </tr>\n    <tr>\n      <th>5</th>\n      <td>NaN</td>\n      <td>NaN</td>\n      <td>NaN</td>\n      <td>NaN</td>\n      <td>NaN</td>\n      <td>NaN</td>\n      <td>NaN</td>\n      <td>NaN</td>\n      <td>NaN</td>\n      <td>NaN</td>\n      <td>...</td>\n      <td>NaN</td>\n      <td>NaN</td>\n      <td>NaN</td>\n      <td>NaN</td>\n      <td>1.0</td>\n      <td>NaN</td>\n      <td>NaN</td>\n      <td>NaN</td>\n      <td>NaN</td>\n      <td>NaN</td>\n    </tr>\n  </tbody>\n</table>\n<p>5 rows × 6040 columns</p>\n</div>"
     },
     "execution_count": 89,
     "metadata": {},
     "output_type": "execute_result"
    }
   ],
   "source": [
    "item_feature_matrix = ratings.pivot_table(index='MovieID', columns='UserID', values='Rating')\n",
    "item_feature_matrix.head()"
   ],
   "metadata": {
    "collapsed": false,
    "ExecuteTime": {
     "end_time": "2023-11-21T06:00:47.304587600Z",
     "start_time": "2023-11-21T06:00:46.781024300Z"
    }
   }
  },
  {
   "cell_type": "code",
   "execution_count": 90,
   "outputs": [
    {
     "data": {
      "text/plain": "MovieID\n1    4.146846\n2    3.201141\n3    3.016736\n4    2.729412\n5    3.006757\ndtype: float64"
     },
     "execution_count": 90,
     "metadata": {},
     "output_type": "execute_result"
    }
   ],
   "source": [
    "mean_ratings = item_feature_matrix.mean(axis=1, skipna=True)\n",
    "mean_ratings.head()"
   ],
   "metadata": {
    "collapsed": false,
    "ExecuteTime": {
     "end_time": "2023-11-21T06:00:47.912015200Z",
     "start_time": "2023-11-21T06:00:47.485591700Z"
    }
   }
  },
  {
   "cell_type": "code",
   "execution_count": 91,
   "outputs": [
    {
     "data": {
      "text/plain": "UserID       1     2     3     4     5         6     7         8         9     \\\nMovieID                                                                         \n1        0.853154   0.0   0.0   0.0   0.0 -0.146846   0.0 -0.146846  0.853154   \n2        0.000000   0.0   0.0   0.0   0.0  0.000000   0.0  0.000000  0.000000   \n3        0.000000   0.0   0.0   0.0   0.0  0.000000   0.0  0.000000  0.000000   \n4        0.000000   0.0   0.0   0.0   0.0  0.000000   0.0  0.270588  0.000000   \n5        0.000000   0.0   0.0   0.0   0.0  0.000000   0.0  0.000000  0.000000   \n\nUserID       10    ...  6031      6032  6033  6034      6035      6036  6037  \\\nMovieID            ...                                                         \n1        0.853154  ...   0.0 -0.146846   0.0   0.0 -0.146846  0.000000   0.0   \n2        1.798859  ...   0.0  0.000000   0.0   0.0  0.000000  0.000000   0.0   \n3        0.000000  ...   0.0  0.000000   0.0   0.0 -2.016736  0.000000   0.0   \n4        0.000000  ...   0.0  0.000000   0.0   0.0 -0.729412 -0.729412   0.0   \n5        0.000000  ...   0.0  0.000000   0.0   0.0 -2.006757  0.000000   0.0   \n\nUserID   6038  6039      6040  \nMovieID                        \n1         0.0   0.0 -1.146846  \n2         0.0   0.0  0.000000  \n3         0.0   0.0  0.000000  \n4         0.0   0.0  0.000000  \n5         0.0   0.0  0.000000  \n\n[5 rows x 6040 columns]",
      "text/html": "<div>\n<style scoped>\n    .dataframe tbody tr th:only-of-type {\n        vertical-align: middle;\n    }\n\n    .dataframe tbody tr th {\n        vertical-align: top;\n    }\n\n    .dataframe thead th {\n        text-align: right;\n    }\n</style>\n<table border=\"1\" class=\"dataframe\">\n  <thead>\n    <tr style=\"text-align: right;\">\n      <th>UserID</th>\n      <th>1</th>\n      <th>2</th>\n      <th>3</th>\n      <th>4</th>\n      <th>5</th>\n      <th>6</th>\n      <th>7</th>\n      <th>8</th>\n      <th>9</th>\n      <th>10</th>\n      <th>...</th>\n      <th>6031</th>\n      <th>6032</th>\n      <th>6033</th>\n      <th>6034</th>\n      <th>6035</th>\n      <th>6036</th>\n      <th>6037</th>\n      <th>6038</th>\n      <th>6039</th>\n      <th>6040</th>\n    </tr>\n    <tr>\n      <th>MovieID</th>\n      <th></th>\n      <th></th>\n      <th></th>\n      <th></th>\n      <th></th>\n      <th></th>\n      <th></th>\n      <th></th>\n      <th></th>\n      <th></th>\n      <th></th>\n      <th></th>\n      <th></th>\n      <th></th>\n      <th></th>\n      <th></th>\n      <th></th>\n      <th></th>\n      <th></th>\n      <th></th>\n      <th></th>\n    </tr>\n  </thead>\n  <tbody>\n    <tr>\n      <th>1</th>\n      <td>0.853154</td>\n      <td>0.0</td>\n      <td>0.0</td>\n      <td>0.0</td>\n      <td>0.0</td>\n      <td>-0.146846</td>\n      <td>0.0</td>\n      <td>-0.146846</td>\n      <td>0.853154</td>\n      <td>0.853154</td>\n      <td>...</td>\n      <td>0.0</td>\n      <td>-0.146846</td>\n      <td>0.0</td>\n      <td>0.0</td>\n      <td>-0.146846</td>\n      <td>0.000000</td>\n      <td>0.0</td>\n      <td>0.0</td>\n      <td>0.0</td>\n      <td>-1.146846</td>\n    </tr>\n    <tr>\n      <th>2</th>\n      <td>0.000000</td>\n      <td>0.0</td>\n      <td>0.0</td>\n      <td>0.0</td>\n      <td>0.0</td>\n      <td>0.000000</td>\n      <td>0.0</td>\n      <td>0.000000</td>\n      <td>0.000000</td>\n      <td>1.798859</td>\n      <td>...</td>\n      <td>0.0</td>\n      <td>0.000000</td>\n      <td>0.0</td>\n      <td>0.0</td>\n      <td>0.000000</td>\n      <td>0.000000</td>\n      <td>0.0</td>\n      <td>0.0</td>\n      <td>0.0</td>\n      <td>0.000000</td>\n    </tr>\n    <tr>\n      <th>3</th>\n      <td>0.000000</td>\n      <td>0.0</td>\n      <td>0.0</td>\n      <td>0.0</td>\n      <td>0.0</td>\n      <td>0.000000</td>\n      <td>0.0</td>\n      <td>0.000000</td>\n      <td>0.000000</td>\n      <td>0.000000</td>\n      <td>...</td>\n      <td>0.0</td>\n      <td>0.000000</td>\n      <td>0.0</td>\n      <td>0.0</td>\n      <td>-2.016736</td>\n      <td>0.000000</td>\n      <td>0.0</td>\n      <td>0.0</td>\n      <td>0.0</td>\n      <td>0.000000</td>\n    </tr>\n    <tr>\n      <th>4</th>\n      <td>0.000000</td>\n      <td>0.0</td>\n      <td>0.0</td>\n      <td>0.0</td>\n      <td>0.0</td>\n      <td>0.000000</td>\n      <td>0.0</td>\n      <td>0.270588</td>\n      <td>0.000000</td>\n      <td>0.000000</td>\n      <td>...</td>\n      <td>0.0</td>\n      <td>0.000000</td>\n      <td>0.0</td>\n      <td>0.0</td>\n      <td>-0.729412</td>\n      <td>-0.729412</td>\n      <td>0.0</td>\n      <td>0.0</td>\n      <td>0.0</td>\n      <td>0.000000</td>\n    </tr>\n    <tr>\n      <th>5</th>\n      <td>0.000000</td>\n      <td>0.0</td>\n      <td>0.0</td>\n      <td>0.0</td>\n      <td>0.0</td>\n      <td>0.000000</td>\n      <td>0.0</td>\n      <td>0.000000</td>\n      <td>0.000000</td>\n      <td>0.000000</td>\n      <td>...</td>\n      <td>0.0</td>\n      <td>0.000000</td>\n      <td>0.0</td>\n      <td>0.0</td>\n      <td>-2.006757</td>\n      <td>0.000000</td>\n      <td>0.0</td>\n      <td>0.0</td>\n      <td>0.0</td>\n      <td>0.000000</td>\n    </tr>\n  </tbody>\n</table>\n<p>5 rows × 6040 columns</p>\n</div>"
     },
     "execution_count": 91,
     "metadata": {},
     "output_type": "execute_result"
    }
   ],
   "source": [
    "normalized_ratings = item_feature_matrix.sub(mean_ratings, axis=0)\n",
    "normalized_ratings.fillna(0, inplace=True)\n",
    "normalized_ratings.head()"
   ],
   "metadata": {
    "collapsed": false,
    "ExecuteTime": {
     "end_time": "2023-11-21T06:00:48.679476500Z",
     "start_time": "2023-11-21T06:00:48.272491800Z"
    }
   }
  },
  {
   "cell_type": "code",
   "execution_count": 121,
   "outputs": [],
   "source": [
    "import numpy as np\n",
    "from joblib import Parallel, delayed\n",
    "from scipy.sparse import csr_matrix\n",
    "from sklearn.metrics.pairwise import cosine_similarity\n",
    "def compute_similarity_matrix(centered_rating_matrix, top_n=None, n_jobs=-1):\n",
    "    \"\"\"\n",
    "    Compute the item-item similarity matrix for a given matrix of centered ratings using sparse matrices and parallel computation.\n",
    "\n",
    "    Parameters:\n",
    "    - centered_rating_matrix: pd.DataFrame, a DataFrame where rows represent movies,\n",
    "      columns represent users, and values represent centered ratings.\n",
    "    - top_n: int, the number of most similar items to keep for each item.\n",
    "    - n_jobs: int, the number of jobs to run in parallel. -1 means using all processors.\n",
    "\n",
    "    Returns:\n",
    "    - pd.DataFrame, the similarity matrix with movies as both rows and columns, containing top N similarities.\n",
    "    \"\"\"\n",
    "    # Convert the centered rating matrix to a sparse CSR matrix\n",
    "    sparse_rating_matrix = csr_matrix(centered_rating_matrix.fillna(0))\n",
    "\n",
    "    # Compute the cosine similarity matrix, which will also be in sparse format\n",
    "    cosine_sim_sparse = cosine_similarity(sparse_rating_matrix, dense_output=False)\n",
    "\n",
    "    # Scale the similarity values to be between 0 and 1 directly on the sparse matrix\n",
    "    cosine_sim_sparse.data = 0.5 + 0.5 * cosine_sim_sparse.data\n",
    "\n",
    "    # Convert the sparse similarity matrix to a dense DataFrame\n",
    "    similarity_matrix_dense = pd.DataFrame(cosine_sim_sparse.todense(),\n",
    "                                           index=centered_rating_matrix.index,\n",
    "                                           columns=centered_rating_matrix.index)\n",
    "\n",
    "    # Create a binary user-movie matrix\n",
    "    user_movie_matrix = (centered_rating_matrix != 0).astype(int)\n",
    "\n",
    "    # Compute the common ratings mask\n",
    "    common_ratings_mask = user_movie_matrix.T.dot(user_movie_matrix) >= 3\n",
    "\n",
    "    # Apply the mask to set values to NaN where the condition is not met\n",
    "    similarity_matrix_dense = similarity_matrix_dense.where(common_ratings_mask, np.nan)\n",
    "\n",
    "    if top_n is None:\n",
    "        return similarity_matrix_dense\n",
    "\n",
    "    # Define function to be parallelized for extracting the top N similar movies\n",
    "    def extract_top_n(similarity_series):\n",
    "        non_nan_series = similarity_series.dropna()\n",
    "        if len(non_nan_series) < top_n:\n",
    "            return non_nan_series.index.tolist() + [np.nan] * (top_n - len(non_nan_series))\n",
    "        return non_nan_series.nlargest(top_n).tolist()\n",
    "\n",
    "    # Extract the top N similar movies for each movie using parallel computation\n",
    "    results = Parallel(n_jobs=n_jobs)(delayed(extract_top_n)(similarity_matrix_dense.loc[movie_id])\n",
    "                                      for movie_id in similarity_matrix_dense.index)\n",
    "\n",
    "    # Construct the final DataFrame with the top N similarities for each movie\n",
    "    similarity_matrix_top_n = pd.DataFrame(results, index=centered_rating_matrix.index, columns=range(top_n))\n",
    "\n",
    "    return similarity_matrix_top_n\n"
   ],
   "metadata": {
    "collapsed": false,
    "ExecuteTime": {
     "end_time": "2023-11-21T06:30:14.166801Z",
     "start_time": "2023-11-21T06:30:14.161728900Z"
    }
   }
  },
  {
   "cell_type": "code",
   "execution_count": 122,
   "outputs": [],
   "source": [
    "top_30_similarity_matrix = compute_similarity_matrix(normalized_ratings, top_n=30)"
   ],
   "metadata": {
    "collapsed": false,
    "ExecuteTime": {
     "end_time": "2023-11-21T06:31:21.422572900Z",
     "start_time": "2023-11-21T06:30:14.873118100Z"
    }
   }
  },
  {
   "cell_type": "markdown",
   "source": [
    "## Display the pairwise similarity values from the S\n",
    "## matrix with movie ID 1, 10, 100, 1510, 260, and 3212"
   ],
   "metadata": {
    "collapsed": false
   }
  },
  {
   "cell_type": "code",
   "execution_count": 123,
   "outputs": [
    {
     "data": {
      "text/plain": "          0         1         2         3         4         5         6   \\\nMovieID                                                                    \n1        1.0  0.679650  0.631565  0.620909  0.608463  0.598782  0.588410   \n10       1.0  0.722866  0.669208  0.627080  0.619750  0.617420  0.609215   \n100      1.0  0.635303  0.615785  0.609417  0.607869  0.594638  0.594057   \n1510     1.0  0.990990  0.933013  0.933013  0.933013  0.853553  0.826797   \n260      1.0  0.734181  0.686621  0.637557  0.603056  0.583446  0.578629   \n3212     1.0  1.000000  0.806186  0.788675  0.750000  0.750000  0.750000   \n\n               7         8         9   ...        20        21        22  \\\nMovieID                                ...                                 \n1        0.584700  0.583637  0.578165  ...  0.564597  0.563764  0.563369   \n10       0.608969  0.607427  0.607246  ...  0.593867  0.593278  0.593148   \n100      0.581703  0.581676  0.581057  ...  0.572211  0.571587  0.570265   \n1510     0.788675  0.788675  0.780224  ...  0.718089  0.714835  0.713497   \n260      0.575650  0.575426  0.575278  ...  0.559066  0.557520  0.553382   \n3212     0.750000  0.644338  0.639525  ...  0.601827  0.594641  0.594611   \n\n               23        24        25        26        27        28        29  \nMovieID                                                                        \n1        0.560699  0.560594  0.560391  0.559671  0.559486  0.559485  0.558081  \n10       0.590649  0.590347  0.590138  0.590091  0.589431  0.588898  0.587710  \n100      0.570020  0.568915  0.568709  0.568583  0.567979  0.567846  0.567522  \n1510     0.702777  0.702777  0.702031  0.700033  0.693649  0.686052  0.679605  \n260      0.551599  0.551414  0.551269  0.549415  0.549279  0.548992  0.548812  \n3212     0.594501  0.594170  0.592205  0.590139  0.589009  0.586704  0.586613  \n\n[6 rows x 30 columns]",
      "text/html": "<div>\n<style scoped>\n    .dataframe tbody tr th:only-of-type {\n        vertical-align: middle;\n    }\n\n    .dataframe tbody tr th {\n        vertical-align: top;\n    }\n\n    .dataframe thead th {\n        text-align: right;\n    }\n</style>\n<table border=\"1\" class=\"dataframe\">\n  <thead>\n    <tr style=\"text-align: right;\">\n      <th></th>\n      <th>0</th>\n      <th>1</th>\n      <th>2</th>\n      <th>3</th>\n      <th>4</th>\n      <th>5</th>\n      <th>6</th>\n      <th>7</th>\n      <th>8</th>\n      <th>9</th>\n      <th>...</th>\n      <th>20</th>\n      <th>21</th>\n      <th>22</th>\n      <th>23</th>\n      <th>24</th>\n      <th>25</th>\n      <th>26</th>\n      <th>27</th>\n      <th>28</th>\n      <th>29</th>\n    </tr>\n    <tr>\n      <th>MovieID</th>\n      <th></th>\n      <th></th>\n      <th></th>\n      <th></th>\n      <th></th>\n      <th></th>\n      <th></th>\n      <th></th>\n      <th></th>\n      <th></th>\n      <th></th>\n      <th></th>\n      <th></th>\n      <th></th>\n      <th></th>\n      <th></th>\n      <th></th>\n      <th></th>\n      <th></th>\n      <th></th>\n      <th></th>\n    </tr>\n  </thead>\n  <tbody>\n    <tr>\n      <th>1</th>\n      <td>1.0</td>\n      <td>0.679650</td>\n      <td>0.631565</td>\n      <td>0.620909</td>\n      <td>0.608463</td>\n      <td>0.598782</td>\n      <td>0.588410</td>\n      <td>0.584700</td>\n      <td>0.583637</td>\n      <td>0.578165</td>\n      <td>...</td>\n      <td>0.564597</td>\n      <td>0.563764</td>\n      <td>0.563369</td>\n      <td>0.560699</td>\n      <td>0.560594</td>\n      <td>0.560391</td>\n      <td>0.559671</td>\n      <td>0.559486</td>\n      <td>0.559485</td>\n      <td>0.558081</td>\n    </tr>\n    <tr>\n      <th>10</th>\n      <td>1.0</td>\n      <td>0.722866</td>\n      <td>0.669208</td>\n      <td>0.627080</td>\n      <td>0.619750</td>\n      <td>0.617420</td>\n      <td>0.609215</td>\n      <td>0.608969</td>\n      <td>0.607427</td>\n      <td>0.607246</td>\n      <td>...</td>\n      <td>0.593867</td>\n      <td>0.593278</td>\n      <td>0.593148</td>\n      <td>0.590649</td>\n      <td>0.590347</td>\n      <td>0.590138</td>\n      <td>0.590091</td>\n      <td>0.589431</td>\n      <td>0.588898</td>\n      <td>0.587710</td>\n    </tr>\n    <tr>\n      <th>100</th>\n      <td>1.0</td>\n      <td>0.635303</td>\n      <td>0.615785</td>\n      <td>0.609417</td>\n      <td>0.607869</td>\n      <td>0.594638</td>\n      <td>0.594057</td>\n      <td>0.581703</td>\n      <td>0.581676</td>\n      <td>0.581057</td>\n      <td>...</td>\n      <td>0.572211</td>\n      <td>0.571587</td>\n      <td>0.570265</td>\n      <td>0.570020</td>\n      <td>0.568915</td>\n      <td>0.568709</td>\n      <td>0.568583</td>\n      <td>0.567979</td>\n      <td>0.567846</td>\n      <td>0.567522</td>\n    </tr>\n    <tr>\n      <th>1510</th>\n      <td>1.0</td>\n      <td>0.990990</td>\n      <td>0.933013</td>\n      <td>0.933013</td>\n      <td>0.933013</td>\n      <td>0.853553</td>\n      <td>0.826797</td>\n      <td>0.788675</td>\n      <td>0.788675</td>\n      <td>0.780224</td>\n      <td>...</td>\n      <td>0.718089</td>\n      <td>0.714835</td>\n      <td>0.713497</td>\n      <td>0.702777</td>\n      <td>0.702777</td>\n      <td>0.702031</td>\n      <td>0.700033</td>\n      <td>0.693649</td>\n      <td>0.686052</td>\n      <td>0.679605</td>\n    </tr>\n    <tr>\n      <th>260</th>\n      <td>1.0</td>\n      <td>0.734181</td>\n      <td>0.686621</td>\n      <td>0.637557</td>\n      <td>0.603056</td>\n      <td>0.583446</td>\n      <td>0.578629</td>\n      <td>0.575650</td>\n      <td>0.575426</td>\n      <td>0.575278</td>\n      <td>...</td>\n      <td>0.559066</td>\n      <td>0.557520</td>\n      <td>0.553382</td>\n      <td>0.551599</td>\n      <td>0.551414</td>\n      <td>0.551269</td>\n      <td>0.549415</td>\n      <td>0.549279</td>\n      <td>0.548992</td>\n      <td>0.548812</td>\n    </tr>\n    <tr>\n      <th>3212</th>\n      <td>1.0</td>\n      <td>1.000000</td>\n      <td>0.806186</td>\n      <td>0.788675</td>\n      <td>0.750000</td>\n      <td>0.750000</td>\n      <td>0.750000</td>\n      <td>0.750000</td>\n      <td>0.644338</td>\n      <td>0.639525</td>\n      <td>...</td>\n      <td>0.601827</td>\n      <td>0.594641</td>\n      <td>0.594611</td>\n      <td>0.594501</td>\n      <td>0.594170</td>\n      <td>0.592205</td>\n      <td>0.590139</td>\n      <td>0.589009</td>\n      <td>0.586704</td>\n      <td>0.586613</td>\n    </tr>\n  </tbody>\n</table>\n<p>6 rows × 30 columns</p>\n</div>"
     },
     "execution_count": 123,
     "metadata": {},
     "output_type": "execute_result"
    }
   ],
   "source": [
    "\n",
    "specified_movies = [1, 10, 100, 1510, 260, 3212]\n",
    "top_30_similarity_matrix.loc[specified_movies].round(7)"
   ],
   "metadata": {
    "collapsed": false,
    "ExecuteTime": {
     "end_time": "2023-11-21T06:31:21.431035700Z",
     "start_time": "2023-11-21T06:31:21.423574100Z"
    }
   }
  },
  {
   "cell_type": "code",
   "execution_count": 178,
   "outputs": [],
   "source": [
    "similarity_matrix = compute_similarity_matrix(normalized_ratings)"
   ],
   "metadata": {
    "collapsed": false,
    "ExecuteTime": {
     "end_time": "2023-11-21T06:43:44.564530600Z",
     "start_time": "2023-11-21T06:42:58.024890900Z"
    }
   }
  },
  {
   "cell_type": "code",
   "execution_count": 179,
   "outputs": [],
   "source": [
    "# convert 0 to nan\n",
    "similarity_matrix = pd.DataFrame(np.where(similarity_matrix == 0, np.nan, similarity_matrix),\n",
    "                                 index=similarity_matrix.index,\n",
    "                                 columns=similarity_matrix.columns)"
   ],
   "metadata": {
    "collapsed": false,
    "ExecuteTime": {
     "end_time": "2023-11-21T06:43:44.605881300Z",
     "start_time": "2023-11-21T06:43:44.564530600Z"
    }
   }
  },
  {
   "cell_type": "code",
   "execution_count": 201,
   "outputs": [
    {
     "data": {
      "text/plain": "MovieID      1         2         3         4         5         6         7     \\\nMovieID                                                                         \n1        1.000000  0.537607  0.522879  0.536191  0.521466  0.509518       NaN   \n2        0.537607  1.000000  0.517747  0.505575  0.543893  0.513145  0.531335   \n3        0.522879  0.517747  1.000000  0.527680  0.565521  0.522627  0.535027   \n4        0.536191  0.505575  0.527680  1.000000  0.562948       NaN  0.508397   \n5        0.521466  0.543893  0.565521  0.562948  1.000000  0.508942  0.541223   \n\nMovieID      8         9         10    ...      3943      3944      3945  \\\nMovieID                                ...                                 \n1        0.511407  0.498038  0.527814  ...  0.493622  0.500337  0.508483   \n2        0.528447  0.536256  0.552714  ...  0.493723  0.495690  0.507821   \n3        0.516557  0.513039  0.536210  ...  0.501359  0.505299  0.492101   \n4        0.503695  0.475853  0.499224  ...       NaN       NaN  0.504792   \n5        0.525349  0.542284  0.526204  ...  0.491023  0.513720  0.500140   \n\nMovieID      3946      3947      3948      3949      3950      3951      3952  \nMovieID                                                                        \n1        0.505667  0.516200  0.522014  0.516212  0.506648  0.505805  0.514216  \n2        0.505402  0.497020  0.525790  0.503044  0.493918  0.496796  0.502759  \n3        0.507501  0.508046  0.529197  0.500322  0.513090  0.508881  0.507372  \n4        0.507342  0.497206       NaN  0.473614       NaN  0.494245       NaN  \n5        0.507307  0.514429  0.533870  0.491736  0.506181  0.500081  0.498425  \n\n[5 rows x 3706 columns]",
      "text/html": "<div>\n<style scoped>\n    .dataframe tbody tr th:only-of-type {\n        vertical-align: middle;\n    }\n\n    .dataframe tbody tr th {\n        vertical-align: top;\n    }\n\n    .dataframe thead th {\n        text-align: right;\n    }\n</style>\n<table border=\"1\" class=\"dataframe\">\n  <thead>\n    <tr style=\"text-align: right;\">\n      <th>MovieID</th>\n      <th>1</th>\n      <th>2</th>\n      <th>3</th>\n      <th>4</th>\n      <th>5</th>\n      <th>6</th>\n      <th>7</th>\n      <th>8</th>\n      <th>9</th>\n      <th>10</th>\n      <th>...</th>\n      <th>3943</th>\n      <th>3944</th>\n      <th>3945</th>\n      <th>3946</th>\n      <th>3947</th>\n      <th>3948</th>\n      <th>3949</th>\n      <th>3950</th>\n      <th>3951</th>\n      <th>3952</th>\n    </tr>\n    <tr>\n      <th>MovieID</th>\n      <th></th>\n      <th></th>\n      <th></th>\n      <th></th>\n      <th></th>\n      <th></th>\n      <th></th>\n      <th></th>\n      <th></th>\n      <th></th>\n      <th></th>\n      <th></th>\n      <th></th>\n      <th></th>\n      <th></th>\n      <th></th>\n      <th></th>\n      <th></th>\n      <th></th>\n      <th></th>\n      <th></th>\n    </tr>\n  </thead>\n  <tbody>\n    <tr>\n      <th>1</th>\n      <td>1.000000</td>\n      <td>0.537607</td>\n      <td>0.522879</td>\n      <td>0.536191</td>\n      <td>0.521466</td>\n      <td>0.509518</td>\n      <td>NaN</td>\n      <td>0.511407</td>\n      <td>0.498038</td>\n      <td>0.527814</td>\n      <td>...</td>\n      <td>0.493622</td>\n      <td>0.500337</td>\n      <td>0.508483</td>\n      <td>0.505667</td>\n      <td>0.516200</td>\n      <td>0.522014</td>\n      <td>0.516212</td>\n      <td>0.506648</td>\n      <td>0.505805</td>\n      <td>0.514216</td>\n    </tr>\n    <tr>\n      <th>2</th>\n      <td>0.537607</td>\n      <td>1.000000</td>\n      <td>0.517747</td>\n      <td>0.505575</td>\n      <td>0.543893</td>\n      <td>0.513145</td>\n      <td>0.531335</td>\n      <td>0.528447</td>\n      <td>0.536256</td>\n      <td>0.552714</td>\n      <td>...</td>\n      <td>0.493723</td>\n      <td>0.495690</td>\n      <td>0.507821</td>\n      <td>0.505402</td>\n      <td>0.497020</td>\n      <td>0.525790</td>\n      <td>0.503044</td>\n      <td>0.493918</td>\n      <td>0.496796</td>\n      <td>0.502759</td>\n    </tr>\n    <tr>\n      <th>3</th>\n      <td>0.522879</td>\n      <td>0.517747</td>\n      <td>1.000000</td>\n      <td>0.527680</td>\n      <td>0.565521</td>\n      <td>0.522627</td>\n      <td>0.535027</td>\n      <td>0.516557</td>\n      <td>0.513039</td>\n      <td>0.536210</td>\n      <td>...</td>\n      <td>0.501359</td>\n      <td>0.505299</td>\n      <td>0.492101</td>\n      <td>0.507501</td>\n      <td>0.508046</td>\n      <td>0.529197</td>\n      <td>0.500322</td>\n      <td>0.513090</td>\n      <td>0.508881</td>\n      <td>0.507372</td>\n    </tr>\n    <tr>\n      <th>4</th>\n      <td>0.536191</td>\n      <td>0.505575</td>\n      <td>0.527680</td>\n      <td>1.000000</td>\n      <td>0.562948</td>\n      <td>NaN</td>\n      <td>0.508397</td>\n      <td>0.503695</td>\n      <td>0.475853</td>\n      <td>0.499224</td>\n      <td>...</td>\n      <td>NaN</td>\n      <td>NaN</td>\n      <td>0.504792</td>\n      <td>0.507342</td>\n      <td>0.497206</td>\n      <td>NaN</td>\n      <td>0.473614</td>\n      <td>NaN</td>\n      <td>0.494245</td>\n      <td>NaN</td>\n    </tr>\n    <tr>\n      <th>5</th>\n      <td>0.521466</td>\n      <td>0.543893</td>\n      <td>0.565521</td>\n      <td>0.562948</td>\n      <td>1.000000</td>\n      <td>0.508942</td>\n      <td>0.541223</td>\n      <td>0.525349</td>\n      <td>0.542284</td>\n      <td>0.526204</td>\n      <td>...</td>\n      <td>0.491023</td>\n      <td>0.513720</td>\n      <td>0.500140</td>\n      <td>0.507307</td>\n      <td>0.514429</td>\n      <td>0.533870</td>\n      <td>0.491736</td>\n      <td>0.506181</td>\n      <td>0.500081</td>\n      <td>0.498425</td>\n    </tr>\n  </tbody>\n</table>\n<p>5 rows × 3706 columns</p>\n</div>"
     },
     "execution_count": 201,
     "metadata": {},
     "output_type": "execute_result"
    }
   ],
   "source": [
    "similarity_matrix.head()"
   ],
   "metadata": {
    "collapsed": false,
    "ExecuteTime": {
     "end_time": "2023-11-21T06:49:16.963009900Z",
     "start_time": "2023-11-21T06:49:16.955503100Z"
    }
   }
  },
  {
   "cell_type": "code",
   "execution_count": 211,
   "outputs": [],
   "source": [
    "def recommend_movies(new_user_ratings, similarity, n_recommendations=10):\n",
    "\n",
    "\n",
    "\n",
    "    # set new user ratings to nan if it is 0\n",
    "    new_user_ratings = np.where(new_user_ratings == 0, np.nan, new_user_ratings)\n",
    "\n",
    "    # Convert the user ratings array into a Series with the movie index\n",
    "    user_ratings_series = pd.Series(new_user_ratings, index=similarity.columns)\n",
    "    # Initialize a list to hold the similarity scores for unrated movies\n",
    "    similarity_scores = []\n",
    "\n",
    "    # Iterate through the similarity matrix\n",
    "    for movie_id, similar_movies in similarity.iterrows():\n",
    "        # Skip movies the user has already rated\n",
    "        if user_ratings_series[movie_id] > 0:\n",
    "            continue\n",
    "\n",
    "        # Retrieve the user ratings for the similar movies\n",
    "        user_ratings = user_ratings_series[similar_movies.index].values\n",
    "        # Calculate the weighted score (similarity score * user rating)\n",
    "        weighted_scores = similar_movies.values * user_ratings\n",
    "        # Sum the weighted scores and normalize by the sum of the similarities for rated movies\n",
    "        sum_similarity = np.nansum(similar_movies.values)\n",
    "        if sum_similarity > 0:\n",
    "            weighted_score = np.nansum(weighted_scores) / sum_similarity\n",
    "            similarity_scores.append((movie_id, weighted_score))\n",
    "\n",
    "    # Sort the movies based on the weighted score and select the top recommendations\n",
    "    similarity_scores.sort(key=lambda x: x[1], reverse=True)\n",
    "    top_movie_ids = [movie_id for movie_id, _ in similarity_scores[:n_recommendations]]\n",
    "    # print(similarity_scores)\n",
    "    return top_movie_ids"
   ],
   "metadata": {
    "collapsed": false,
    "ExecuteTime": {
     "end_time": "2023-11-21T06:52:13.598887900Z",
     "start_time": "2023-11-21T06:52:13.593655400Z"
    }
   }
  },
  {
   "cell_type": "code",
   "execution_count": 221,
   "outputs": [
    {
     "data": {
      "text/plain": "MovieID\n1    5\n2    0\n3    0\n4    0\n5    0\nName: Rating, dtype: int64"
     },
     "execution_count": 221,
     "metadata": {},
     "output_type": "execute_result"
    }
   ],
   "source": [
    "# generate a vector 1 x 3706, which represents the rating of user 1 to all movies\n",
    "user_1 = ratings[ratings['UserID'] == 1]\n",
    "user_1_ratings = user_1.set_index('MovieID')['Rating']\n",
    "user_1_ratings = user_1_ratings.reindex(range(1, 3707), fill_value=0)\n",
    "user_1_ratings.head()"
   ],
   "metadata": {
    "collapsed": false,
    "ExecuteTime": {
     "end_time": "2023-11-21T06:52:57.642063300Z",
     "start_time": "2023-11-21T06:52:57.592630500Z"
    }
   }
  },
  {
   "cell_type": "code",
   "execution_count": 222,
   "outputs": [
    {
     "data": {
      "text/plain": "(1, 3706)"
     },
     "execution_count": 222,
     "metadata": {},
     "output_type": "execute_result"
    }
   ],
   "source": [
    "user_1_ratings.values.reshape(1,-1).shape"
   ],
   "metadata": {
    "collapsed": false,
    "ExecuteTime": {
     "end_time": "2023-11-21T06:52:57.983129100Z",
     "start_time": "2023-11-21T06:52:57.974292600Z"
    }
   }
  },
  {
   "cell_type": "code",
   "execution_count": 223,
   "outputs": [
    {
     "data": {
      "text/plain": "[1039, 3485, 3373, 889, 706, 3762, 1555, 3603, 404, 3899]"
     },
     "execution_count": 223,
     "metadata": {},
     "output_type": "execute_result"
    }
   ],
   "source": [
    "recommend_movies(user_1_ratings.values, similarity_matrix)"
   ],
   "metadata": {
    "collapsed": false,
    "ExecuteTime": {
     "end_time": "2023-11-21T06:52:58.717341600Z",
     "start_time": "2023-11-21T06:52:58.383367900Z"
    }
   }
  },
  {
   "cell_type": "code",
   "execution_count": 224,
   "outputs": [],
   "source": [
    "# get the movie titles by movie ids\n",
    "def get_movie_titles(movie_ids):\n",
    "    return movies[movies['MovieID'].isin(movie_ids)]"
   ],
   "metadata": {
    "collapsed": false,
    "ExecuteTime": {
     "end_time": "2023-11-21T06:52:58.841060400Z",
     "start_time": "2023-11-21T06:52:58.833057Z"
    }
   }
  },
  {
   "cell_type": "code",
   "execution_count": 225,
   "outputs": [
    {
     "data": {
      "text/plain": "      MovieID                                              Title       Genres\n400       404  Brother Minister: The Assassination of Malcolm...  Documentary\n697       706                                 Sunset Park (1996)        Drama\n877       889                                       1-900 (1994)      Romance\n1026     1039                         Synthetic Pleasures (1995)  Documentary\n1516     1555                             To Have, or Not (1995)        Drama\n3304     3373                       Buck and the Preacher (1972)      Western\n3416     3485                    Autopsy (Macchie Solari) (1975)       Horror\n3534     3603                          Gay Deceivers, The (1969)       Comedy\n3693     3762                     Daughter of Dr. Jeckyll (1957)       Horror\n3829     3899                                      Circus (2000)       Comedy",
      "text/html": "<div>\n<style scoped>\n    .dataframe tbody tr th:only-of-type {\n        vertical-align: middle;\n    }\n\n    .dataframe tbody tr th {\n        vertical-align: top;\n    }\n\n    .dataframe thead th {\n        text-align: right;\n    }\n</style>\n<table border=\"1\" class=\"dataframe\">\n  <thead>\n    <tr style=\"text-align: right;\">\n      <th></th>\n      <th>MovieID</th>\n      <th>Title</th>\n      <th>Genres</th>\n    </tr>\n  </thead>\n  <tbody>\n    <tr>\n      <th>400</th>\n      <td>404</td>\n      <td>Brother Minister: The Assassination of Malcolm...</td>\n      <td>Documentary</td>\n    </tr>\n    <tr>\n      <th>697</th>\n      <td>706</td>\n      <td>Sunset Park (1996)</td>\n      <td>Drama</td>\n    </tr>\n    <tr>\n      <th>877</th>\n      <td>889</td>\n      <td>1-900 (1994)</td>\n      <td>Romance</td>\n    </tr>\n    <tr>\n      <th>1026</th>\n      <td>1039</td>\n      <td>Synthetic Pleasures (1995)</td>\n      <td>Documentary</td>\n    </tr>\n    <tr>\n      <th>1516</th>\n      <td>1555</td>\n      <td>To Have, or Not (1995)</td>\n      <td>Drama</td>\n    </tr>\n    <tr>\n      <th>3304</th>\n      <td>3373</td>\n      <td>Buck and the Preacher (1972)</td>\n      <td>Western</td>\n    </tr>\n    <tr>\n      <th>3416</th>\n      <td>3485</td>\n      <td>Autopsy (Macchie Solari) (1975)</td>\n      <td>Horror</td>\n    </tr>\n    <tr>\n      <th>3534</th>\n      <td>3603</td>\n      <td>Gay Deceivers, The (1969)</td>\n      <td>Comedy</td>\n    </tr>\n    <tr>\n      <th>3693</th>\n      <td>3762</td>\n      <td>Daughter of Dr. Jeckyll (1957)</td>\n      <td>Horror</td>\n    </tr>\n    <tr>\n      <th>3829</th>\n      <td>3899</td>\n      <td>Circus (2000)</td>\n      <td>Comedy</td>\n    </tr>\n  </tbody>\n</table>\n</div>"
     },
     "execution_count": 225,
     "metadata": {},
     "output_type": "execute_result"
    }
   ],
   "source": [
    "user_1_recommend = get_movie_titles(recommend_movies(user_1_ratings.values, similarity_matrix, n_recommendations=10))\n",
    "user_1_recommend"
   ],
   "metadata": {
    "collapsed": false,
    "ExecuteTime": {
     "end_time": "2023-11-21T06:52:59.744294900Z",
     "start_time": "2023-11-21T06:52:59.412606700Z"
    }
   }
  },
  {
   "cell_type": "code",
   "execution_count": 226,
   "outputs": [
    {
     "data": {
      "text/plain": "      MovieID                                              Title  \\\n0           1                                   Toy Story (1995)   \n47         48                                  Pocahontas (1995)   \n148       150                                   Apollo 13 (1995)   \n257       260          Star Wars: Episode IV - A New Hope (1977)   \n523       527                            Schindler's List (1993)   \n527       531                          Secret Garden, The (1993)   \n584       588                                     Aladdin (1992)   \n590       594             Snow White and the Seven Dwarfs (1937)   \n591       595                        Beauty and the Beast (1991)   \n604       608                                       Fargo (1996)   \n655       661                   James and the Giant Peach (1996)   \n711       720  Wallace & Gromit: The Best of Aardman Animatio...   \n735       745                              Close Shave, A (1995)   \n773       783                Hunchback of Notre Dame, The (1996)   \n902       914                                My Fair Lady (1964)   \n907       919                           Wizard of Oz, The (1939)   \n926       938                                        Gigi (1958)   \n1009     1022                                  Cinderella (1950)   \n1015     1028                                Mary Poppins (1964)   \n1016     1029                                       Dumbo (1941)   \n1022     1035                         Sound of Music, The (1965)   \n1081     1097                  E.T. the Extra-Terrestrial (1982)   \n1176     1193             One Flew Over the Cuckoo's Nest (1975)   \n1179     1197                         Princess Bride, The (1987)   \n1189     1207                       To Kill a Mockingbird (1962)   \n1226     1246                          Dead Poets Society (1989)   \n1250     1270                          Back to the Future (1985)   \n1267     1287                                     Ben-Hur (1959)   \n1506     1545                                     Ponette (1996)   \n1526     1566                                    Hercules (1997)   \n1672     1721                                     Titanic (1997)   \n1768     1836                     Last Days of Disco, The (1998)   \n1838     1907                                       Mulan (1998)   \n1892     1961                                    Rain Man (1988)   \n1893     1962                          Driving Miss Daisy (1989)   \n1949     2018                                       Bambi (1942)   \n1959     2028                         Saving Private Ryan (1998)   \n2225     2294                                        Antz (1998)   \n2252     2321                               Pleasantville (1998)   \n2271     2340                              Meet Joe Black (1998)   \n2286     2355                               Bug's Life, A (1998)   \n2329     2398                      Miracle on 34th Street (1947)   \n2618     2687                                      Tarzan (1999)   \n2623     2692                   Run Lola Run (Lola rennt) (1998)   \n2693     2762                            Sixth Sense, The (1999)   \n2722     2791                                   Airplane! (1980)   \n2728     2797                                         Big (1988)   \n2735     2804                          Christmas Story, A (1983)   \n2849     2918                    Ferris Bueller's Day Off (1986)   \n3036     3105                                  Awakenings (1990)   \n3045     3114                                 Toy Story 2 (1999)   \n3117     3186                           Girl, Interrupted (1999)   \n3339     3408                             Erin Brockovich (2000)   \n\n                                             Genres  \n0                       Animation|Children's|Comedy  \n47             Animation|Children's|Musical|Romance  \n148                                           Drama  \n257                 Action|Adventure|Fantasy|Sci-Fi  \n523                                       Drama|War  \n527                                Children's|Drama  \n584             Animation|Children's|Comedy|Musical  \n590                    Animation|Children's|Musical  \n591                    Animation|Children's|Musical  \n604                            Crime|Drama|Thriller  \n655                    Animation|Children's|Musical  \n711                                       Animation  \n735                       Animation|Comedy|Thriller  \n773                    Animation|Children's|Musical  \n902                                 Musical|Romance  \n907              Adventure|Children's|Drama|Musical  \n926                                         Musical  \n1009                   Animation|Children's|Musical  \n1015                      Children's|Comedy|Musical  \n1016                   Animation|Children's|Musical  \n1022                                        Musical  \n1081                Children's|Drama|Fantasy|Sci-Fi  \n1176                                          Drama  \n1179                Action|Adventure|Comedy|Romance  \n1189                                          Drama  \n1226                                          Drama  \n1250                                  Comedy|Sci-Fi  \n1267                         Action|Adventure|Drama  \n1506                                          Drama  \n1526  Adventure|Animation|Children's|Comedy|Musical  \n1672                                  Drama|Romance  \n1768                                          Drama  \n1838                           Animation|Children's  \n1892                                          Drama  \n1893                                          Drama  \n1949                           Animation|Children's  \n1959                               Action|Drama|War  \n2225                           Animation|Children's  \n2252                                         Comedy  \n2271                                        Romance  \n2286                    Animation|Children's|Comedy  \n2329                                          Drama  \n2618                           Animation|Children's  \n2623                           Action|Crime|Romance  \n2693                                       Thriller  \n2722                                         Comedy  \n2728                                 Comedy|Fantasy  \n2735                                   Comedy|Drama  \n2849                                         Comedy  \n3036                                          Drama  \n3045                    Animation|Children's|Comedy  \n3117                                          Drama  \n3339                                          Drama  ",
      "text/html": "<div>\n<style scoped>\n    .dataframe tbody tr th:only-of-type {\n        vertical-align: middle;\n    }\n\n    .dataframe tbody tr th {\n        vertical-align: top;\n    }\n\n    .dataframe thead th {\n        text-align: right;\n    }\n</style>\n<table border=\"1\" class=\"dataframe\">\n  <thead>\n    <tr style=\"text-align: right;\">\n      <th></th>\n      <th>MovieID</th>\n      <th>Title</th>\n      <th>Genres</th>\n    </tr>\n  </thead>\n  <tbody>\n    <tr>\n      <th>0</th>\n      <td>1</td>\n      <td>Toy Story (1995)</td>\n      <td>Animation|Children's|Comedy</td>\n    </tr>\n    <tr>\n      <th>47</th>\n      <td>48</td>\n      <td>Pocahontas (1995)</td>\n      <td>Animation|Children's|Musical|Romance</td>\n    </tr>\n    <tr>\n      <th>148</th>\n      <td>150</td>\n      <td>Apollo 13 (1995)</td>\n      <td>Drama</td>\n    </tr>\n    <tr>\n      <th>257</th>\n      <td>260</td>\n      <td>Star Wars: Episode IV - A New Hope (1977)</td>\n      <td>Action|Adventure|Fantasy|Sci-Fi</td>\n    </tr>\n    <tr>\n      <th>523</th>\n      <td>527</td>\n      <td>Schindler's List (1993)</td>\n      <td>Drama|War</td>\n    </tr>\n    <tr>\n      <th>527</th>\n      <td>531</td>\n      <td>Secret Garden, The (1993)</td>\n      <td>Children's|Drama</td>\n    </tr>\n    <tr>\n      <th>584</th>\n      <td>588</td>\n      <td>Aladdin (1992)</td>\n      <td>Animation|Children's|Comedy|Musical</td>\n    </tr>\n    <tr>\n      <th>590</th>\n      <td>594</td>\n      <td>Snow White and the Seven Dwarfs (1937)</td>\n      <td>Animation|Children's|Musical</td>\n    </tr>\n    <tr>\n      <th>591</th>\n      <td>595</td>\n      <td>Beauty and the Beast (1991)</td>\n      <td>Animation|Children's|Musical</td>\n    </tr>\n    <tr>\n      <th>604</th>\n      <td>608</td>\n      <td>Fargo (1996)</td>\n      <td>Crime|Drama|Thriller</td>\n    </tr>\n    <tr>\n      <th>655</th>\n      <td>661</td>\n      <td>James and the Giant Peach (1996)</td>\n      <td>Animation|Children's|Musical</td>\n    </tr>\n    <tr>\n      <th>711</th>\n      <td>720</td>\n      <td>Wallace &amp; Gromit: The Best of Aardman Animatio...</td>\n      <td>Animation</td>\n    </tr>\n    <tr>\n      <th>735</th>\n      <td>745</td>\n      <td>Close Shave, A (1995)</td>\n      <td>Animation|Comedy|Thriller</td>\n    </tr>\n    <tr>\n      <th>773</th>\n      <td>783</td>\n      <td>Hunchback of Notre Dame, The (1996)</td>\n      <td>Animation|Children's|Musical</td>\n    </tr>\n    <tr>\n      <th>902</th>\n      <td>914</td>\n      <td>My Fair Lady (1964)</td>\n      <td>Musical|Romance</td>\n    </tr>\n    <tr>\n      <th>907</th>\n      <td>919</td>\n      <td>Wizard of Oz, The (1939)</td>\n      <td>Adventure|Children's|Drama|Musical</td>\n    </tr>\n    <tr>\n      <th>926</th>\n      <td>938</td>\n      <td>Gigi (1958)</td>\n      <td>Musical</td>\n    </tr>\n    <tr>\n      <th>1009</th>\n      <td>1022</td>\n      <td>Cinderella (1950)</td>\n      <td>Animation|Children's|Musical</td>\n    </tr>\n    <tr>\n      <th>1015</th>\n      <td>1028</td>\n      <td>Mary Poppins (1964)</td>\n      <td>Children's|Comedy|Musical</td>\n    </tr>\n    <tr>\n      <th>1016</th>\n      <td>1029</td>\n      <td>Dumbo (1941)</td>\n      <td>Animation|Children's|Musical</td>\n    </tr>\n    <tr>\n      <th>1022</th>\n      <td>1035</td>\n      <td>Sound of Music, The (1965)</td>\n      <td>Musical</td>\n    </tr>\n    <tr>\n      <th>1081</th>\n      <td>1097</td>\n      <td>E.T. the Extra-Terrestrial (1982)</td>\n      <td>Children's|Drama|Fantasy|Sci-Fi</td>\n    </tr>\n    <tr>\n      <th>1176</th>\n      <td>1193</td>\n      <td>One Flew Over the Cuckoo's Nest (1975)</td>\n      <td>Drama</td>\n    </tr>\n    <tr>\n      <th>1179</th>\n      <td>1197</td>\n      <td>Princess Bride, The (1987)</td>\n      <td>Action|Adventure|Comedy|Romance</td>\n    </tr>\n    <tr>\n      <th>1189</th>\n      <td>1207</td>\n      <td>To Kill a Mockingbird (1962)</td>\n      <td>Drama</td>\n    </tr>\n    <tr>\n      <th>1226</th>\n      <td>1246</td>\n      <td>Dead Poets Society (1989)</td>\n      <td>Drama</td>\n    </tr>\n    <tr>\n      <th>1250</th>\n      <td>1270</td>\n      <td>Back to the Future (1985)</td>\n      <td>Comedy|Sci-Fi</td>\n    </tr>\n    <tr>\n      <th>1267</th>\n      <td>1287</td>\n      <td>Ben-Hur (1959)</td>\n      <td>Action|Adventure|Drama</td>\n    </tr>\n    <tr>\n      <th>1506</th>\n      <td>1545</td>\n      <td>Ponette (1996)</td>\n      <td>Drama</td>\n    </tr>\n    <tr>\n      <th>1526</th>\n      <td>1566</td>\n      <td>Hercules (1997)</td>\n      <td>Adventure|Animation|Children's|Comedy|Musical</td>\n    </tr>\n    <tr>\n      <th>1672</th>\n      <td>1721</td>\n      <td>Titanic (1997)</td>\n      <td>Drama|Romance</td>\n    </tr>\n    <tr>\n      <th>1768</th>\n      <td>1836</td>\n      <td>Last Days of Disco, The (1998)</td>\n      <td>Drama</td>\n    </tr>\n    <tr>\n      <th>1838</th>\n      <td>1907</td>\n      <td>Mulan (1998)</td>\n      <td>Animation|Children's</td>\n    </tr>\n    <tr>\n      <th>1892</th>\n      <td>1961</td>\n      <td>Rain Man (1988)</td>\n      <td>Drama</td>\n    </tr>\n    <tr>\n      <th>1893</th>\n      <td>1962</td>\n      <td>Driving Miss Daisy (1989)</td>\n      <td>Drama</td>\n    </tr>\n    <tr>\n      <th>1949</th>\n      <td>2018</td>\n      <td>Bambi (1942)</td>\n      <td>Animation|Children's</td>\n    </tr>\n    <tr>\n      <th>1959</th>\n      <td>2028</td>\n      <td>Saving Private Ryan (1998)</td>\n      <td>Action|Drama|War</td>\n    </tr>\n    <tr>\n      <th>2225</th>\n      <td>2294</td>\n      <td>Antz (1998)</td>\n      <td>Animation|Children's</td>\n    </tr>\n    <tr>\n      <th>2252</th>\n      <td>2321</td>\n      <td>Pleasantville (1998)</td>\n      <td>Comedy</td>\n    </tr>\n    <tr>\n      <th>2271</th>\n      <td>2340</td>\n      <td>Meet Joe Black (1998)</td>\n      <td>Romance</td>\n    </tr>\n    <tr>\n      <th>2286</th>\n      <td>2355</td>\n      <td>Bug's Life, A (1998)</td>\n      <td>Animation|Children's|Comedy</td>\n    </tr>\n    <tr>\n      <th>2329</th>\n      <td>2398</td>\n      <td>Miracle on 34th Street (1947)</td>\n      <td>Drama</td>\n    </tr>\n    <tr>\n      <th>2618</th>\n      <td>2687</td>\n      <td>Tarzan (1999)</td>\n      <td>Animation|Children's</td>\n    </tr>\n    <tr>\n      <th>2623</th>\n      <td>2692</td>\n      <td>Run Lola Run (Lola rennt) (1998)</td>\n      <td>Action|Crime|Romance</td>\n    </tr>\n    <tr>\n      <th>2693</th>\n      <td>2762</td>\n      <td>Sixth Sense, The (1999)</td>\n      <td>Thriller</td>\n    </tr>\n    <tr>\n      <th>2722</th>\n      <td>2791</td>\n      <td>Airplane! (1980)</td>\n      <td>Comedy</td>\n    </tr>\n    <tr>\n      <th>2728</th>\n      <td>2797</td>\n      <td>Big (1988)</td>\n      <td>Comedy|Fantasy</td>\n    </tr>\n    <tr>\n      <th>2735</th>\n      <td>2804</td>\n      <td>Christmas Story, A (1983)</td>\n      <td>Comedy|Drama</td>\n    </tr>\n    <tr>\n      <th>2849</th>\n      <td>2918</td>\n      <td>Ferris Bueller's Day Off (1986)</td>\n      <td>Comedy</td>\n    </tr>\n    <tr>\n      <th>3036</th>\n      <td>3105</td>\n      <td>Awakenings (1990)</td>\n      <td>Drama</td>\n    </tr>\n    <tr>\n      <th>3045</th>\n      <td>3114</td>\n      <td>Toy Story 2 (1999)</td>\n      <td>Animation|Children's|Comedy</td>\n    </tr>\n    <tr>\n      <th>3117</th>\n      <td>3186</td>\n      <td>Girl, Interrupted (1999)</td>\n      <td>Drama</td>\n    </tr>\n    <tr>\n      <th>3339</th>\n      <td>3408</td>\n      <td>Erin Brockovich (2000)</td>\n      <td>Drama</td>\n    </tr>\n  </tbody>\n</table>\n</div>"
     },
     "execution_count": 226,
     "metadata": {},
     "output_type": "execute_result"
    }
   ],
   "source": [
    "# get 10 movies are rated by user 1, sorted by rating\n",
    "user_1_watched = user_1[user_1['MovieID'].isin(range(1, 3707))].sort_values(by='Rating', ascending=False)\n",
    "# get movies info\n",
    "user_1_movie = get_movie_titles(user_1_watched['MovieID'].values)\n",
    "user_1_movie"
   ],
   "metadata": {
    "collapsed": false,
    "ExecuteTime": {
     "end_time": "2023-11-21T06:53:00.552821400Z",
     "start_time": "2023-11-21T06:53:00.545162100Z"
    }
   }
  },
  {
   "cell_type": "code",
   "execution_count": 133,
   "outputs": [],
   "source": [],
   "metadata": {
    "collapsed": false,
    "ExecuteTime": {
     "end_time": "2023-11-21T06:32:10.484643900Z",
     "start_time": "2023-11-21T06:32:10.484140300Z"
    }
   }
  },
  {
   "cell_type": "code",
   "execution_count": null,
   "outputs": [],
   "source": [],
   "metadata": {
    "collapsed": false
   }
  }
 ],
 "metadata": {
  "kernelspec": {
   "display_name": "Python 3",
   "language": "python",
   "name": "python3"
  },
  "language_info": {
   "codemirror_mode": {
    "name": "ipython",
    "version": 2
   },
   "file_extension": ".py",
   "mimetype": "text/x-python",
   "name": "python",
   "nbconvert_exporter": "python",
   "pygments_lexer": "ipython2",
   "version": "2.7.6"
  }
 },
 "nbformat": 4,
 "nbformat_minor": 0
}
