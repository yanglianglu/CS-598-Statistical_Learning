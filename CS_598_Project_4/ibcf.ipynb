{
 "cells": [
  {
   "cell_type": "code",
   "execution_count": 59,
   "metadata": {
    "ExecuteTime": {
     "end_time": "2023-11-29T20:32:32.276386800Z",
     "start_time": "2023-11-29T20:32:32.238454800Z"
    }
   },
   "outputs": [],
   "source": [
    "import torch\n",
    "import pandas as pd\n",
    "import numpy as np\n"
   ]
  },
  {
   "cell_type": "code",
   "execution_count": 62,
   "metadata": {
    "ExecuteTime": {
     "end_time": "2023-11-29T20:32:34.799498Z",
     "start_time": "2023-11-29T20:32:32.241861500Z"
    }
   },
   "outputs": [
    {
     "name": "stdout",
     "output_type": "stream",
     "text": [
      "The notebook is running in a local environment.\n"
     ]
    }
   ],
   "source": [
    "# Check if the notebook is running in Google Colab\n",
    "def is_running_in_colab():\n",
    "    try:\n",
    "        import google.colab\n",
    "        return True\n",
    "    except ImportError:\n",
    "        return False\n",
    "\n",
    "root = \"\"\n",
    "\n",
    "# Adjust the path as per Google Drive directory structure\n",
    "if is_running_in_colab():\n",
    "    from google.colab import drive\n",
    "    drive.mount('/content/drive')\n",
    "    root = \"/content/drive/My Drive/\"\n",
    "else:\n",
    "    print(\"The notebook is running in a local environment.\")\n",
    "    \n",
    "\n"
   ]
  },
  {
   "cell_type": "code",
   "execution_count": null,
   "metadata": {},
   "outputs": [],
   "source": [
    "# load the data\n",
    "ratings_path = root + 'data/ratings.dat'\n",
    "movies_path = root + 'data/movies.dat'\n",
    "\n",
    "ratings = pd.read_csv(ratings_path, sep='::', engine='python', header=None)\n",
    "ratings.columns = ['UserID', 'MovieID', 'Rating', 'Timestamp']\n",
    "\n",
    "movies = pd.read_csv(movies_path, sep='::', engine='python', encoding=\"ISO-8859-1\", header=None)\n",
    "movies.columns = ['MovieID', 'Title', 'Genres']"
   ]
  },
  {
   "cell_type": "code",
   "execution_count": 63,
   "metadata": {
    "ExecuteTime": {
     "end_time": "2023-11-29T20:32:34.803801800Z",
     "start_time": "2023-11-29T20:32:34.799498Z"
    }
   },
   "outputs": [],
   "source": [
    "# define user and movie rating matrix\n",
    "item_feature_matrix = ratings.pivot_table(index='UserID', columns='MovieID', values='Rating')\n",
    "\n",
    "# get mean ratings per row (user)\n",
    "mean_ratings = np.array(item_feature_matrix.mean(axis=1, skipna=True)).reshape(-1, 1)\n",
    "\n",
    "# normalize ratings by subtracting mean rating per user\n",
    "normalized_ratings = item_feature_matrix - mean_ratings\n",
    "\n"
   ]
  },
  {
   "cell_type": "code",
   "execution_count": 64,
   "metadata": {
    "ExecuteTime": {
     "end_time": "2023-11-29T20:32:35.271599100Z",
     "start_time": "2023-11-29T20:32:34.803801800Z"
    }
   },
   "outputs": [],
   "source": [
    "# get intersection of two tensors\n",
    "def intersect1d_torch(tensor1, tensor2):\n",
    "    # Find unique elements in each tensor\n",
    "    unique1 = torch.unique(tensor1)\n",
    "    unique2 = torch.unique(tensor2)\n",
    "\n",
    "    # Find common elements\n",
    "    common = unique1[torch.isin(unique1, unique2)]\n",
    "\n",
    "    return common\n",
    "\n",
    "# compute similarity matrix by tensors\n",
    "def compute_similarity_matrix_tensor(rating, min_common_users = 3, top_n = 10):\n",
    "    min_common_users = min_common_users\n",
    "    top_n = top_n\n",
    "\n",
    "    # Check if CUDA (GPU support) is available\n",
    "    device = torch.device(\"cuda\" if torch.cuda.is_available() else \"cpu\")\n",
    "    print(device)\n",
    "\n",
    "    # Convert DataFrame to tensors\n",
    "    rating_0_tensor = torch.tensor(rating.fillna(0).values, dtype=torch.float32)\n",
    "    rating_binary_tensor = (rating_0_tensor != 0).float()\n",
    "\n",
    "    # Compute common ratings count\n",
    "    common_ratings_count = torch.mm(rating_binary_tensor.T, rating_binary_tensor)\n",
    "\n",
    "    # Prepare the similarity matrix\n",
    "    num_movies = rating_0_tensor.shape[1]\n",
    "    #similarity_matrix = torch.full((num_movies, num_movies), float('nan'))\n",
    "    similarity_matrix = torch.full((num_movies, num_movies), float('nan')).to(device)\n",
    "\n",
    "\n",
    "    for i in range(num_movies):\n",
    "        for j in range(i + 1, num_movies):\n",
    "            if common_ratings_count[i, j] >= min_common_users:\n",
    "                # Filter ratings to include only common users\n",
    "                user_0 = torch.where(rating_binary_tensor[:, i] == 1)[0]\n",
    "                user_1 = torch.where(rating_binary_tensor[:, j] == 1)[0]\n",
    "                common_users = intersect1d_torch(user_0, user_1)\n",
    "                ratings_i = rating_0_tensor[common_users, i]\n",
    "                ratings_j = rating_0_tensor[common_users, j]\n",
    "\n",
    "                # Compute dot product and norms for the filtered ratings\n",
    "                dot_product = torch.dot(ratings_i, ratings_j)\n",
    "                norm_i = torch.norm(ratings_i)\n",
    "                norm_j = torch.norm(ratings_j)\n",
    "\n",
    "                if norm_i > 0 and norm_j > 0:\n",
    "                    similarity = 0.5 + 0.5 * (dot_product / (norm_i * norm_j))\n",
    "                else:\n",
    "                    similarity = 0\n",
    "\n",
    "                similarity_matrix[i, j] = similarity\n",
    "                similarity_matrix[j, i] = similarity\n",
    "\n",
    "    # Convert the similarity matrix to a DataFrame\n",
    "    similarity_matrix_df = pd.DataFrame(similarity_matrix.cpu().numpy(),\n",
    "                                       index=rating.columns,\n",
    "                                       columns=rating.columns)\n",
    "    \n",
    "    # Get top N similar movies\n",
    "    \n",
    "    return similarity_matrix_df\n"
   ]
  },
  {
   "cell_type": "code",
   "execution_count": 68,
   "metadata": {
    "ExecuteTime": {
     "end_time": "2023-11-29T21:22:01.445242400Z",
     "start_time": "2023-11-29T21:22:01.368672400Z"
    }
   },
   "outputs": [
    {
     "name": "stdout",
     "output_type": "stream",
     "text": [
      "cpu\n",
      "MovieID       1         10        100\n",
      "MovieID                              \n",
      "1             NaN  0.615281  0.210864\n",
      "10       0.615281       NaN  0.798482\n",
      "100      0.210864  0.798482       NaN\n"
     ]
    }
   ],
   "source": [
    "specified_movies = [1, 10, 100]\n",
    "r_n_matrix = normalized_ratings.iloc[:500, :100]\n",
    "reduced_similarity_matrix = compute_similarity_matrix_tensor(r_n_matrix)\n",
    "#print(reduced_similarity_matrix.shape)\n",
    "#print(reduced_similarity_matrix)\n",
    "print(reduced_similarity_matrix.loc[specified_movies, specified_movies].round(7))"
   ]
  },
  {
   "cell_type": "code",
   "execution_count": null,
   "metadata": {},
   "outputs": [],
   "source": [
    "specified_movies = [1, 10, 100, 1510, 260, 3212]\n",
    "full_similarity_matrix = compute_similarity_matrix_tensor(normalized_ratings)\n",
    "print(reduced_similarity_matrix.shape)\n",
    "#print(reduced_similarity_matrix)\n",
    "print(full_similarity_matrix.loc[specified_movies, specified_movies].round(7))"
   ]
  },
  {
   "cell_type": "code",
   "execution_count": 69,
   "metadata": {},
   "outputs": [],
   "source": [
    "# get the movie titles by movie ids\n",
    "def get_movie_titles(movie_ids):\n",
    "    return movies[movies['MovieID'].isin(movie_ids)]"
   ]
  },
  {
   "cell_type": "code",
   "execution_count": 70,
   "metadata": {
    "ExecuteTime": {
     "end_time": "2023-11-29T20:40:42.398151800Z",
     "start_time": "2023-11-29T20:40:42.348631Z"
    }
   },
   "outputs": [],
   "source": [
    "def recommend_movies(user_rating, s_matrix, n_recommendations = 10):\n",
    "    \"\"\"\n",
    "    Generate movie recommendations based on new user ratings and a sparse similarity matrix.\n",
    "\n",
    "    Parameters:\n",
    "    - user_ratings: np.array, user's ratings for movies; 0 indicates the movie hasn't been rated.\n",
    "    - s_matrix: item-item similarity matrix.\n",
    "    - n_recommendations: int, the number of recommendations to return.\n",
    "\n",
    "    Returns:\n",
    "    - List of movie indices representing the top N recommendations.\n",
    "    \"\"\"\n",
    "\n",
    "    # number of movies\n",
    "    n_movies = len(user_rating)\n",
    "\n",
    "    # iterate through each movie and calculate the weighted rating for user\n",
    "    for l in range(n_movies):\n",
    "        if user_rating[l] != 0:\n",
    "            # get the similarity score for moviel l\n",
    "            l_s_scores = np.nan_to_num(s_matrix.iloc[l])\n",
    "            \n",
    "            # get the weighted sum for movie l\n",
    "            weighted_sum = np.sum(user_rating * l_s_scores)\n",
    "\n",
    "            # get the normalization factor\n",
    "            norm_factor = np.sum(l_s_scores * (user_rating != 0))\n",
    "\n",
    "            # get the weighted average for movie l\n",
    "            weighted_avg = np.sum(weighted_sum) / norm_factor if norm_factor != 0 else 0\n",
    "            #print(l, \" \", weighted_sum, \" \", norm_factor, \" \", weighted_avg)\n",
    "            user_rating[l] = weighted_avg\n",
    "\n",
    "    # get the top N recommendations\n",
    "    top_n = np.argsort(user_rating)[-n_recommendations:]\n",
    "\n",
    "    return top_n"
   ]
  },
  {
   "cell_type": "code",
   "execution_count": 72,
   "metadata": {
    "ExecuteTime": {
     "end_time": "2023-11-29T20:40:42.416267300Z",
     "start_time": "2023-11-29T20:40:42.387879400Z"
    }
   },
   "outputs": [
    {
     "ename": "ValueError",
     "evalue": "operands could not be broadcast together with shapes (3706,) (100,) ",
     "output_type": "error",
     "traceback": [
      "\u001b[0;31m---------------------------------------------------------------------------\u001b[0m",
      "\u001b[0;31mValueError\u001b[0m                                Traceback (most recent call last)",
      "\u001b[1;32m/Users/zexiyan/Documents/MCS/MCS542 Practical Statistical Learning/MP5_Project3_Project4/CS-598-Statistical_Learning/CS_598_Project_4/ibcf.ipynb Cell 10\u001b[0m line \u001b[0;36m6\n\u001b[1;32m      <a href='vscode-notebook-cell:/Users/zexiyan/Documents/MCS/MCS542%20Practical%20Statistical%20Learning/MP5_Project3_Project4/CS-598-Statistical_Learning/CS_598_Project_4/ibcf.ipynb#X25sZmlsZQ%3D%3D?line=2'>3</a>\u001b[0m user_1_ratings \u001b[39m=\u001b[39m user_1\u001b[39m.\u001b[39mset_index(\u001b[39m'\u001b[39m\u001b[39mMovieID\u001b[39m\u001b[39m'\u001b[39m)[\u001b[39m'\u001b[39m\u001b[39mRating\u001b[39m\u001b[39m'\u001b[39m]\n\u001b[1;32m      <a href='vscode-notebook-cell:/Users/zexiyan/Documents/MCS/MCS542%20Practical%20Statistical%20Learning/MP5_Project3_Project4/CS-598-Statistical_Learning/CS_598_Project_4/ibcf.ipynb#X25sZmlsZQ%3D%3D?line=3'>4</a>\u001b[0m user_1_ratings \u001b[39m=\u001b[39m user_1_ratings\u001b[39m.\u001b[39mreindex(\u001b[39mrange\u001b[39m(\u001b[39m1\u001b[39m, \u001b[39m3707\u001b[39m), fill_value\u001b[39m=\u001b[39m\u001b[39m0\u001b[39m)\n\u001b[0;32m----> <a href='vscode-notebook-cell:/Users/zexiyan/Documents/MCS/MCS542%20Practical%20Statistical%20Learning/MP5_Project3_Project4/CS-598-Statistical_Learning/CS_598_Project_4/ibcf.ipynb#X25sZmlsZQ%3D%3D?line=5'>6</a>\u001b[0m movie_ids \u001b[39m=\u001b[39m recommend_movies(user_1_ratings\u001b[39m.\u001b[39;49mvalues, reduced_similarity_matrix, \u001b[39m10\u001b[39;49m)\n",
      "\u001b[1;32m/Users/zexiyan/Documents/MCS/MCS542 Practical Statistical Learning/MP5_Project3_Project4/CS-598-Statistical_Learning/CS_598_Project_4/ibcf.ipynb Cell 10\u001b[0m line \u001b[0;36m2\n\u001b[1;32m     <a href='vscode-notebook-cell:/Users/zexiyan/Documents/MCS/MCS542%20Practical%20Statistical%20Learning/MP5_Project3_Project4/CS-598-Statistical_Learning/CS_598_Project_4/ibcf.ipynb#X25sZmlsZQ%3D%3D?line=20'>21</a>\u001b[0m l_s_scores \u001b[39m=\u001b[39m np\u001b[39m.\u001b[39mnan_to_num(s_matrix\u001b[39m.\u001b[39miloc[l])\n\u001b[1;32m     <a href='vscode-notebook-cell:/Users/zexiyan/Documents/MCS/MCS542%20Practical%20Statistical%20Learning/MP5_Project3_Project4/CS-598-Statistical_Learning/CS_598_Project_4/ibcf.ipynb#X25sZmlsZQ%3D%3D?line=22'>23</a>\u001b[0m \u001b[39m# get the weighted sum for movie l\u001b[39;00m\n\u001b[0;32m---> <a href='vscode-notebook-cell:/Users/zexiyan/Documents/MCS/MCS542%20Practical%20Statistical%20Learning/MP5_Project3_Project4/CS-598-Statistical_Learning/CS_598_Project_4/ibcf.ipynb#X25sZmlsZQ%3D%3D?line=23'>24</a>\u001b[0m weighted_sum \u001b[39m=\u001b[39m np\u001b[39m.\u001b[39msum(user_rating \u001b[39m*\u001b[39;49m l_s_scores)\n\u001b[1;32m     <a href='vscode-notebook-cell:/Users/zexiyan/Documents/MCS/MCS542%20Practical%20Statistical%20Learning/MP5_Project3_Project4/CS-598-Statistical_Learning/CS_598_Project_4/ibcf.ipynb#X25sZmlsZQ%3D%3D?line=25'>26</a>\u001b[0m \u001b[39m# get the normalization factor\u001b[39;00m\n\u001b[1;32m     <a href='vscode-notebook-cell:/Users/zexiyan/Documents/MCS/MCS542%20Practical%20Statistical%20Learning/MP5_Project3_Project4/CS-598-Statistical_Learning/CS_598_Project_4/ibcf.ipynb#X25sZmlsZQ%3D%3D?line=26'>27</a>\u001b[0m norm_factor \u001b[39m=\u001b[39m np\u001b[39m.\u001b[39msum(l_s_scores \u001b[39m*\u001b[39m (user_rating \u001b[39m!=\u001b[39m \u001b[39m0\u001b[39m))\n",
      "\u001b[0;31mValueError\u001b[0m: operands could not be broadcast together with shapes (3706,) (100,) "
     ]
    }
   ],
   "source": [
    "# generate a vector 1 x 3706, which represents the rating of user 1 to all movies\n",
    "user_1 = ratings[ratings['UserID'] == 1181]\n",
    "user_1_ratings = user_1.set_index('MovieID')['Rating']\n",
    "user_1_ratings = user_1_ratings.reindex(range(1, 3707), fill_value=0)\n",
    "\n",
    "movie_ids = recommend_movies(user_1_ratings.values, reduced_similarity_matrix, 10)"
   ]
  },
  {
   "cell_type": "code",
   "execution_count": 75,
   "metadata": {},
   "outputs": [
    {
     "data": {
      "text/html": [
       "<div>\n",
       "<style scoped>\n",
       "    .dataframe tbody tr th:only-of-type {\n",
       "        vertical-align: middle;\n",
       "    }\n",
       "\n",
       "    .dataframe tbody tr th {\n",
       "        vertical-align: top;\n",
       "    }\n",
       "\n",
       "    .dataframe thead th {\n",
       "        text-align: right;\n",
       "    }\n",
       "</style>\n",
       "<table border=\"1\" class=\"dataframe\">\n",
       "  <thead>\n",
       "    <tr style=\"text-align: right;\">\n",
       "      <th></th>\n",
       "      <th>MovieID</th>\n",
       "      <th>Title</th>\n",
       "      <th>Genres</th>\n",
       "    </tr>\n",
       "  </thead>\n",
       "  <tbody>\n",
       "    <tr>\n",
       "      <th>536</th>\n",
       "      <td>540</td>\n",
       "      <td>Sliver (1993)</td>\n",
       "      <td>Thriller</td>\n",
       "    </tr>\n",
       "    <tr>\n",
       "      <th>867</th>\n",
       "      <td>878</td>\n",
       "      <td>Bye-Bye (1995)</td>\n",
       "      <td>Drama</td>\n",
       "    </tr>\n",
       "    <tr>\n",
       "      <th>910</th>\n",
       "      <td>922</td>\n",
       "      <td>Sunset Blvd. (a.k.a. Sunset Boulevard) (1950)</td>\n",
       "      <td>Film-Noir</td>\n",
       "    </tr>\n",
       "    <tr>\n",
       "      <th>1568</th>\n",
       "      <td>1610</td>\n",
       "      <td>Hunt for Red October, The (1990)</td>\n",
       "      <td>Action|Thriller</td>\n",
       "    </tr>\n",
       "    <tr>\n",
       "      <th>1571</th>\n",
       "      <td>1613</td>\n",
       "      <td>Star Maps (1997)</td>\n",
       "      <td>Drama</td>\n",
       "    </tr>\n",
       "    <tr>\n",
       "      <th>1573</th>\n",
       "      <td>1615</td>\n",
       "      <td>Edge, The (1997)</td>\n",
       "      <td>Adventure|Thriller</td>\n",
       "    </tr>\n",
       "    <tr>\n",
       "      <th>1576</th>\n",
       "      <td>1619</td>\n",
       "      <td>Seven Years in Tibet (1997)</td>\n",
       "      <td>Drama|War</td>\n",
       "    </tr>\n",
       "    <tr>\n",
       "      <th>2252</th>\n",
       "      <td>2321</td>\n",
       "      <td>Pleasantville (1998)</td>\n",
       "      <td>Comedy</td>\n",
       "    </tr>\n",
       "    <tr>\n",
       "      <th>2782</th>\n",
       "      <td>2851</td>\n",
       "      <td>Saturn 3 (1979)</td>\n",
       "      <td>Adventure|Sci-Fi|Thriller</td>\n",
       "    </tr>\n",
       "  </tbody>\n",
       "</table>\n",
       "</div>"
      ],
      "text/plain": [
       "      MovieID                                          Title  \\\n",
       "536       540                                  Sliver (1993)   \n",
       "867       878                                 Bye-Bye (1995)   \n",
       "910       922  Sunset Blvd. (a.k.a. Sunset Boulevard) (1950)   \n",
       "1568     1610               Hunt for Red October, The (1990)   \n",
       "1571     1613                               Star Maps (1997)   \n",
       "1573     1615                               Edge, The (1997)   \n",
       "1576     1619                    Seven Years in Tibet (1997)   \n",
       "2252     2321                           Pleasantville (1998)   \n",
       "2782     2851                                Saturn 3 (1979)   \n",
       "\n",
       "                         Genres  \n",
       "536                    Thriller  \n",
       "867                       Drama  \n",
       "910                   Film-Noir  \n",
       "1568            Action|Thriller  \n",
       "1571                      Drama  \n",
       "1573         Adventure|Thriller  \n",
       "1576                  Drama|War  \n",
       "2252                     Comedy  \n",
       "2782  Adventure|Sci-Fi|Thriller  "
      ]
     },
     "execution_count": 75,
     "metadata": {},
     "output_type": "execute_result"
    }
   ],
   "source": [
    "# get the movie titles by movie ids\n",
    "def get_movie_titles(movie_ids):\n",
    "    return movies[movies['MovieID'].isin(movie_ids)]\n",
    "\n",
    "get_movie_titles(movie_ids)"
   ]
  },
  {
   "cell_type": "code",
   "execution_count": null,
   "metadata": {},
   "outputs": [],
   "source": [
    "# sketch work\n",
    "\n",
    "\n",
    "rating_0 = normalized_ratings.fillna(0)\n",
    "\n",
    "# take the first 100 usrs and 500 movies\n",
    "r_n_matrix = rating_0.iloc[:100, :500]\n",
    "\n",
    "rating_binary = (r_n_matrix != 0).astype(int)\n",
    "common_ratings_count = np.array(rating_binary.T.dot(rating_binary)) # fix 1\n",
    "print(common_ratings_count)\n",
    "\n",
    "# find users who have rated both movie 0\n",
    "user_0 = rating_binary[rating_binary.iloc[:, 0] == 1].index - 1 # index starts from 1, fix 2\n",
    "print(user_0)\n",
    "\n",
    "# find users who have rated both movie 2\n",
    "user_2 = rating_binary[rating_binary.iloc[:, 2] == 1].index - 1 # index starts from 1\n",
    "print(user_2)\n",
    "\n",
    "# # print user 25's rating for movie 0\n",
    "# print(r_n_matrix.iloc[25, 0])\n",
    "\n",
    "# # print user 44's rating for movie 0\n",
    "# print(r_n_matrix.iloc[44, 0])\n",
    "\n",
    "# # print user 25's rating for movie 2\n",
    "# print(r_n_matrix.iloc[25, 2])\n",
    "\n",
    "# # print user 44's rating for movie 2\n",
    "# print(r_n_matrix.iloc[44, 2])\n",
    "\n",
    "# find common users between user_0 and user_2\n",
    "common_users = np.intersect1d(user_0, user_2) # fix 3\n",
    "print(common_users)\n",
    "\n",
    "# find ratings of common users for movie 0\n",
    "movie_0_ratings = r_n_matrix.iloc[common_users, 0].values # fix 4\n",
    "movie_0_ratings = r_n_matrix.iloc[common_users, 0].values # fix 4\n",
    "print(movie_0_ratings)\n",
    "\n",
    "# find ratings of common users for movie 2\n",
    "movie_2_ratings = r_n_matrix.iloc[common_users, 2].values # fix 5\n",
    "print(movie_2_ratings)\n",
    "\n",
    "# calculate the cosine similarity between movie 0 and movie 2\n",
    "product = np.dot(movie_0_ratings, movie_2_ratings)\n",
    "norm_0 = np.linalg.norm(movie_0_ratings)\n",
    "norm_2 = np.linalg.norm(movie_2_ratings)\n",
    "\n",
    "score = product / (norm_0 * norm_2)\n",
    "\n",
    "print(score)\n",
    "print(0.5 + 0.5 * score)\n"
   ]
  }
 ],
 "metadata": {
  "kernelspec": {
   "display_name": "Python 3 (ipykernel)",
   "language": "python",
   "name": "python3"
  },
  "language_info": {
   "codemirror_mode": {
    "name": "ipython",
    "version": 3
   },
   "file_extension": ".py",
   "mimetype": "text/x-python",
   "name": "python",
   "nbconvert_exporter": "python",
   "pygments_lexer": "ipython3",
   "version": "3.9.18"
  }
 },
 "nbformat": 4,
 "nbformat_minor": 1
}
