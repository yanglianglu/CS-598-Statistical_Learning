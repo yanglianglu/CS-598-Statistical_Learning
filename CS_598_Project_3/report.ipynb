{
 "cells": [
  {
   "cell_type": "markdown",
   "metadata": {},
   "source": [
    "<center>\n",
    "\n",
    "# Project 3\n",
    "\n",
    "</center>"
   ]
  },
  {
   "cell_type": "markdown",
   "metadata": {},
   "source": [
    "## Student Names and IDs\n",
    "- Zeyu Liao(zeyu9, 667691486, MCS)\n",
    "- Lu,Yangliang (yl164 661963604 MCS)\n",
    "- Yan, Zexi (zexiyan2, 651826615 MCS)"
   ]
  },
  {
   "cell_type": "markdown",
   "metadata": {},
   "source": [
    "## Project Objectives\n",
    "- construct a binary classification model capable of predicting the sentiment of a review\n",
    "- vocabulary size that is less than or equal to 1000\n",
    "- The evaluation metric (AUC) is equal to or greater than 0.96 across all five test data sets"
   ]
  },
  {
   "cell_type": "markdown",
   "metadata": {},
   "source": [
    "-------------------------\n",
    "# **Section 1: Technical Details**"
   ]
  },
  {
   "cell_type": "markdown",
   "metadata": {},
   "source": [
    "## Libraries used\n",
    "\n",
    "The following libaries are used in this project.\n",
    "- pandas\n",
    "- nltk\n",
    "- TfidfVectorizer, roc_auc_score, LogisticRegressionCV, stats from sklearn\n",
    "- load from pickle\n",
    "- Parallel, delayed, cpu_count from joblib (optional)"
   ]
  },
  {
   "cell_type": "markdown",
   "metadata": {},
   "source": [
    "## Generating Vocabulary\n",
    "- Aggregate all training and test dataset into one.\n",
    "- Cleanup HTML tags from the data.\n",
    "- Use stopwords from `NLTK` library\n",
    "- Vectorized the data with `TF-IDF` vectorizer with minimum and maximum document frequency thresholds at `0.001` and `0.5` respectively. \n",
    "- A `t-test` is performed for each feature (word/phrase) to determine if there is a statistically significant difference in the usage of that feature between positive and negative reviews.\n",
    "- Features (words/phrases) with a `p-value` less than `0.05` are considered statistically significant and are selected.\n",
    "- Use the `2000` most significant words/phrase to build another vecorizer and transform the training data.\n",
    "- A logistic regression model with `L1 regularization` (Lasso) is trained on the significant features to further refine the feature selection.\n",
    "- The top `1000` features are selected to create the final vocabulary."
   ]
  },
  {
   "cell_type": "markdown",
   "metadata": {},
   "source": [
    "## Model Training and Prediction\n",
    "- Read the training and test data.\n",
    "- Creates a `TF-IDF` vectorizer with the predefined 1000 vocabulary. \n",
    "- Configures the vectorizer to convert text to lowercase, remove stopwords, and use n-grams (`1-gram` and `2-gram`).\n",
    "- Use the vectorizer to transform the training and test data.\n",
    "- Fits a `Logistic Regression model` with cross-validation (LogisticRegressionCV) on the training data. Configure the model with `CV = 5` , `max_iter = 10000`.\n",
    "- Predicts the probabilities of the test reviews being positive.\n",
    "- Calculates and returns the ROC AUC score for the predictions.\n",
    "\n",
    "----------------------------------------------"
   ]
  },
  {
   "cell_type": "markdown",
   "metadata": {},
   "source": [
    "# **Section 2: Results**"
   ]
  },
  {
   "cell_type": "markdown",
   "metadata": {},
   "source": [
    "## Evaluation Metrics:\n",
    "| Data    | AUC Score           |\n",
    "|---------|---------------------|\n",
    "| split_1 | 0.9607600025218678  |\n",
    "| split_2 | 0.9611106214308613  |\n",
    "| split_3 | 0.9604750611738162  |\n",
    "| split_4 | 0.9613678728754387  |\n",
    "| split_5 | 0.9608693665237437  |"
   ]
  },
  {
   "cell_type": "markdown",
   "metadata": {},
   "source": [
    "## Run Time:\n",
    "| Task                              | Time         |\n",
    "|-----------------------------------|--------------|\n",
    "| Generating vocabulary             | over 120 mins|    \n",
    "| Traing model and make prediction  | 69 seconds   |     "
   ]
  },
  {
   "cell_type": "markdown",
   "metadata": {},
   "source": [
    "## Computer configuration:\n",
    "| Item      | Spec                              |\n",
    "|-----------|-----------------------------------|\n",
    "| Computer  | MacBook Pro 2017                  |\n",
    "| CPU       | 2.9 GHz Quad-Core Intel Core i7   |\n",
    "| GPU       | Radeon Pro 560 4 GB               |\n",
    "| Memory    | 16 GB 2133 MHz LPDDR3             |"
   ]
  }
 ],
 "metadata": {
  "language_info": {
   "name": "python"
  }
 },
 "nbformat": 4,
 "nbformat_minor": 2
}
