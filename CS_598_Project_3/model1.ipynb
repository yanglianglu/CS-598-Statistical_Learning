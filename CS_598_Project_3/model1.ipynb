{
 "cells": [
  {
   "cell_type": "code",
   "execution_count": 113,
   "metadata": {
    "ExecuteTime": {
     "end_time": "2023-11-16T07:12:27.055544700Z",
     "start_time": "2023-11-16T07:12:27.048953700Z"
    },
    "collapsed": true
   },
   "outputs": [],
   "source": [
    "import pandas as pd"
   ]
  },
  {
   "cell_type": "code",
   "execution_count": 114,
   "metadata": {
    "ExecuteTime": {
     "end_time": "2023-11-16T07:12:27.069402700Z",
     "start_time": "2023-11-16T07:12:27.051505100Z"
    }
   },
   "outputs": [],
   "source": [
    "def read_data(i):\n",
    "\ttrain = pd.read_csv('data/split_' + str(i) + '/train.tsv', sep='\\t')\n",
    "\ttest = pd.read_csv('data/split_' + str(i) + '/train.tsv', sep='\\t')\n",
    "\ttest_y = pd.read_csv('data/split_' + str(i) + '/train.tsv', sep='\\t')\n",
    "\n",
    "\ttrain_label = train['sentiment']\n",
    "\ttrain_review =  train['review'].str.replace('&lt;.*?&gt;', ' ', regex=True)\n",
    "\n",
    "\ttest_label = test_y['sentiment']\n",
    "\ttest_review = test['review'].str.replace('&lt;.*?&gt;', ' ', regex=True)\n",
    "\n",
    "\treturn train_review, train_label, test_review, test_label\n",
    "# read myvocab.txt\n",
    "vocab = pd.read_csv('myvocab.txt')"
   ]
  },
  {
   "cell_type": "code",
   "execution_count": 115,
   "metadata": {
    "ExecuteTime": {
     "end_time": "2023-11-16T07:12:27.082488100Z",
     "start_time": "2023-11-16T07:12:27.070457300Z"
    }
   },
   "outputs": [],
   "source": [
    "from sklearn.feature_extraction.text import TfidfVectorizer\n",
    "\n",
    "def fit_vectorizer(train_review, test_review, vocab):\n",
    "\tvectorizer = TfidfVectorizer(\n",
    "    stop_words='english',\n",
    "    lowercase=True,  # Converts all text to lowercase by default\n",
    "    ngram_range=(1, 4),  # Extracts unigrams only by default\n",
    "\tpreprocessor=lambda x: x.lower(),  # Convert to lowercase\n",
    "    token_pattern=r\"\\b[\\w+\\|']+\\b\" # Use word tokenizer: See Ethan's comment below\n",
    "\t)\n",
    "\tvectorizer.fit(vocab.values.flatten())\n",
    "\ttrain_review = vectorizer.transform(train_review)\n",
    "\ttest_review = vectorizer.transform(test_review)\n",
    "\treturn train_review, test_review"
   ]
  },
  {
   "cell_type": "code",
   "execution_count": 116,
   "metadata": {
    "ExecuteTime": {
     "end_time": "2023-11-16T07:12:27.082488100Z",
     "start_time": "2023-11-16T07:12:27.076981400Z"
    }
   },
   "outputs": [],
   "source": [
    "from sklearn.metrics import roc_auc_score\n",
    "from sklearn.linear_model import LogisticRegressionCV\n",
    "def score(train_review, train_label, test_review, test_label):\n",
    "\t# fit with logistic regression for classification\n",
    "\tfrom sklearn.metrics import accuracy_score\n",
    "\n",
    "\tmodel = LogisticRegressionCV(cv=5, max_iter=10000, n_jobs=-1)\n",
    "\tmodel.fit(train_review, train_label)\n",
    "\t# calculate AUC score\n",
    "\tpred = model.predict_proba(test_review)\n",
    "\n",
    "\treturn roc_auc_score(test_label, pred[:, 1])"
   ]
  },
  {
   "cell_type": "code",
   "execution_count": 117,
   "metadata": {
    "ExecuteTime": {
     "end_time": "2023-11-16T07:12:27.093704100Z",
     "start_time": "2023-11-16T07:12:27.083490700Z"
    }
   },
   "outputs": [],
   "source": [
    "vocab_1000 =  pd.read_csv('myvocab_1000.txt')\n",
    "vocab_2000 =  pd.read_csv('myvocab_2000.txt')\n",
    "vocab_3000 =  pd.read_csv('myvocab_3000.txt')\n",
    "vocabs = [vocab_1000, vocab_2000, vocab_3000]"
   ]
  },
  {
   "cell_type": "code",
   "execution_count": 122,
   "metadata": {
    "ExecuteTime": {
     "end_time": "2023-11-16T07:16:03.075243200Z",
     "start_time": "2023-11-16T07:16:03.071655500Z"
    }
   },
   "outputs": [
    {
     "data": {
      "text/plain": [
       "(1000, 1)"
      ]
     },
     "execution_count": 122,
     "metadata": {},
     "output_type": "execute_result"
    }
   ],
   "source": [
    "vocab_1000.shape"
   ]
  },
  {
   "cell_type": "code",
   "execution_count": 119,
   "metadata": {
    "ExecuteTime": {
     "end_time": "2023-11-16T07:13:19.516181700Z",
     "start_time": "2023-11-16T07:12:27.097788600Z"
    }
   },
   "outputs": [
    {
     "name": "stdout",
     "output_type": "stream",
     "text": [
      "0.9808027392332601\n",
      "0.994410309920742\n",
      "0.9937656477130061\n"
     ]
    }
   ],
   "source": [
    "train_review, train_label, test_review, test_label = read_data(1)\n",
    "\n",
    "for vocab in vocabs:\n",
    "\ttrain, test = fit_vectorizer(train_review.copy(), test_review.copy(), vocab['Feature'])\n",
    "\tprint(score(train, train_label, test, test_label))"
   ]
  },
  {
   "cell_type": "code",
   "execution_count": 125,
   "metadata": {
    "ExecuteTime": {
     "end_time": "2023-11-16T07:54:22.904518Z",
     "start_time": "2023-11-16T07:54:22.900006200Z"
    }
   },
   "outputs": [],
   "source": [
    "def main(i, vocab):\n",
    "\ttrain_review, train_label, test_review, test_label = read_data(i)\n",
    "\n",
    "\ttrain, test = fit_vectorizer(train_review.copy(), test_review.copy(), vocab['Feature'])\n",
    "\ts = score(train, train_label, test, test_label)\n",
    "\tresult = 'split_' + str(i) + ' ' + str(s) + '\\n'\n",
    "\treturn result"
   ]
  },
  {
   "cell_type": "code",
   "execution_count": 126,
   "metadata": {
    "ExecuteTime": {
     "end_time": "2023-11-16T07:55:05.066717500Z",
     "start_time": "2023-11-16T07:54:27.462700500Z"
    }
   },
   "outputs": [],
   "source": [
    "# using joblib to parallelize the process\n",
    "from joblib import Parallel, delayed, cpu_count\n",
    "count = cpu_count()\n",
    "\n",
    "results = Parallel(n_jobs=count)(delayed(main)(i, vocab_1000) for i in range(1, 6))"
   ]
  },
  {
   "cell_type": "code",
   "execution_count": 127,
   "metadata": {
    "ExecuteTime": {
     "end_time": "2023-11-16T07:55:05.093354800Z",
     "start_time": "2023-11-16T07:55:05.089332800Z"
    }
   },
   "outputs": [
    {
     "name": "stdout",
     "output_type": "stream",
     "text": [
      "split_1 0.9808027392332601\n",
      "\n",
      "split_2 0.9711022958994868\n",
      "\n",
      "split_3 0.9718987133018542\n",
      "\n",
      "split_4 0.9713212488455994\n",
      "\n",
      "split_5 0.9713832943223124\n",
      "\n"
     ]
    }
   ],
   "source": [
    "for result in results:\n",
    "\tprint(result)"
   ]
  },
  {
   "cell_type": "code",
   "execution_count": null,
   "metadata": {},
   "outputs": [],
   "source": []
  }
 ],
 "metadata": {
  "kernelspec": {
   "display_name": "Python 3 (ipykernel)",
   "language": "python",
   "name": "python3"
  },
  "language_info": {
   "codemirror_mode": {
    "name": "ipython",
    "version": 3
   },
   "file_extension": ".py",
   "mimetype": "text/x-python",
   "name": "python",
   "nbconvert_exporter": "python",
   "pygments_lexer": "ipython3",
   "version": "3.11.4"
  }
 },
 "nbformat": 4,
 "nbformat_minor": 1
}
