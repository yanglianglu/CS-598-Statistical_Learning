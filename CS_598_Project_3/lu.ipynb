{
 "cells": [
  {
   "cell_type": "code",
   "execution_count": 207,
   "metadata": {
    "collapsed": true,
    "ExecuteTime": {
     "end_time": "2023-12-01T00:17:10.827537600Z",
     "start_time": "2023-12-01T00:17:10.801031Z"
    }
   },
   "outputs": [],
   "source": [
    "import pandas as pd\n",
    "import numpy as np\n",
    "from scipy import stats\n",
    "from joblib import Parallel, delayed"
   ]
  },
  {
   "cell_type": "code",
   "execution_count": 208,
   "outputs": [],
   "source": [
    "data = pd.DataFrame()\n",
    "for i in range(1, 6):\n",
    "    data = pd.concat([data, pd.read_csv(f'data/split_{i}/train.tsv', sep='\\t')])\n",
    "    test_review = pd.read_csv(f'data/split_{i}/test.tsv', sep='\\t')\n",
    "    test_review['sentiment'] = pd.read_csv(f'data/split_{i}/test_y.tsv', sep='\\t')['sentiment']\n",
    "    data = pd.concat([data, test_review])"
   ],
   "metadata": {
    "collapsed": false,
    "ExecuteTime": {
     "end_time": "2023-12-01T00:17:12.533317200Z",
     "start_time": "2023-12-01T00:17:10.803538200Z"
    }
   }
  },
  {
   "cell_type": "code",
   "execution_count": 209,
   "outputs": [],
   "source": [
    "data_label = data['sentiment']\n",
    "data_review =  data['review'].str.replace('&lt;.*?&gt;', ' ', regex=True)"
   ],
   "metadata": {
    "collapsed": false,
    "ExecuteTime": {
     "end_time": "2023-12-01T00:17:12.673013700Z",
     "start_time": "2023-12-01T00:17:12.533317200Z"
    }
   }
  },
  {
   "cell_type": "code",
   "execution_count": 210,
   "outputs": [
    {
     "name": "stderr",
     "output_type": "stream",
     "text": [
      "[nltk_data] Downloading package stopwords to C:\\Users\\Yangliang\n",
      "[nltk_data]     Lu\\AppData\\Roaming\\nltk_data...\n",
      "[nltk_data]   Package stopwords is already up-to-date!\n"
     ]
    }
   ],
   "source": [
    "# download nltk stopwords\n",
    "import nltk\n",
    "nltk.download('stopwords')\n",
    "stopwords = nltk.corpus.stopwords.words('english')\n"
   ],
   "metadata": {
    "collapsed": false,
    "ExecuteTime": {
     "end_time": "2023-12-01T00:17:12.746740400Z",
     "start_time": "2023-12-01T00:17:12.674013800Z"
    }
   }
  },
  {
   "cell_type": "code",
   "execution_count": 211,
   "outputs": [],
   "source": [
    "from sklearn.feature_extraction.text import TfidfVectorizer, CountVectorizer\n",
    "\n",
    "def vectorizer(min_df = None, max_df = None, ngram_range = (1, 2), vector_type = 'tfidf'):\n",
    "    vector = None\n",
    "    if vector_type == 'tfidf':\n",
    "        vector = TfidfVectorizer()\n",
    "    elif vector_type == 'count':\n",
    "        vector = CountVectorizer()\n",
    "    if min_df is not None:\n",
    "        vector.set_params(min_df=min_df)\n",
    "    if max_df is not None:\n",
    "        vector.set_params(max_df=max_df)\n",
    "\n",
    "    vector.set_params(stop_words=stopwords, ngram_range=ngram_range, preprocessor=lambda x: x.lower(), token_pattern=r\"\\b[\\w+\\|']+\\b\")\n",
    "\n",
    "\n",
    "    return vector"
   ],
   "metadata": {
    "collapsed": false,
    "ExecuteTime": {
     "end_time": "2023-12-01T00:17:12.749185700Z",
     "start_time": "2023-12-01T00:17:12.747679600Z"
    }
   }
  },
  {
   "cell_type": "code",
   "execution_count": 212,
   "outputs": [],
   "source": [
    "vector_1 = vectorizer(min_df=0.0001, max_df=0.5, ngram_range=(1, 2))\n",
    "labels = data['sentiment'].to_numpy()\n",
    "dtm = vector_1.fit_transform(data['review'])\n",
    "dtm_positive = dtm[labels == 1]\n",
    "dtm_negative = dtm[labels == 0]"
   ],
   "metadata": {
    "collapsed": false,
    "ExecuteTime": {
     "end_time": "2023-12-01T00:17:49.414380400Z",
     "start_time": "2023-12-01T00:17:12.749185700Z"
    }
   }
  },
  {
   "cell_type": "code",
   "execution_count": 213,
   "outputs": [
    {
     "name": "stdout",
     "output_type": "stream",
     "text": [
      "(125000, 182618)\n",
      "(125000, 182618)\n",
      "(250000, 182618)\n"
     ]
    }
   ],
   "source": [
    "print(dtm_positive.shape)\n",
    "print(dtm_negative.shape)\n",
    "print(dtm.shape)"
   ],
   "metadata": {
    "collapsed": false,
    "ExecuteTime": {
     "end_time": "2023-12-01T00:17:49.417069900Z",
     "start_time": "2023-12-01T00:17:49.415380500Z"
    }
   }
  },
  {
   "cell_type": "code",
   "execution_count": 214,
   "outputs": [],
   "source": [
    "def compute_t_test(feature_index, dtm_positive, dtm_negative):\n",
    "    positive_feature_values = dtm_positive[:, feature_index].toarray().flatten()\n",
    "    negative_feature_values = dtm_negative[:, feature_index].toarray().flatten()\n",
    "\n",
    "    t_stat, p_value = stats.ttest_ind(positive_feature_values, negative_feature_values, equal_var=True)\n",
    "    return t_stat, p_value\n",
    "\n",
    "# Run the t-tests in parallel.\n",
    "t_test_results = Parallel(n_jobs=-1)(delayed(compute_t_test)(i, dtm_positive, dtm_negative) for i in range(dtm.shape[1]))\n",
    "\n",
    "# Extract t-statistics and p-values from the results.\n",
    "t_stats, p_values = zip(*t_test_results)"
   ],
   "metadata": {
    "collapsed": false,
    "ExecuteTime": {
     "end_time": "2023-12-01T00:32:56.548012900Z",
     "start_time": "2023-12-01T00:17:49.418069600Z"
    }
   }
  },
  {
   "cell_type": "code",
   "execution_count": 215,
   "outputs": [],
   "source": [
    "# dense_positive = dtm_positive.toarray()\n",
    "# dense_negative = dtm_negative.toarray()\n",
    "#\n",
    "# # Perform the t-tests across the feature axis.\n",
    "# t_stats, p_values = stats.ttest_ind(dense_positive, dense_negative, axis=0, equal_var=False)\n"
   ],
   "metadata": {
    "collapsed": false,
    "ExecuteTime": {
     "end_time": "2023-12-01T00:32:56.551034900Z",
     "start_time": "2023-12-01T00:32:56.548012900Z"
    }
   }
  },
  {
   "cell_type": "code",
   "execution_count": 216,
   "outputs": [],
   "source": [
    "t_test_results = pd.DataFrame({\n",
    "    'Feature': vector_1.get_feature_names_out(),\n",
    "    't-statistic': t_stats,\n",
    "    'p-value': p_values,\n",
    "    'abs t-statistic': np.absolute(t_stats)\n",
    "})"
   ],
   "metadata": {
    "collapsed": false,
    "ExecuteTime": {
     "end_time": "2023-12-01T00:32:56.677654900Z",
     "start_time": "2023-12-01T00:32:56.551034900Z"
    }
   }
  },
  {
   "cell_type": "code",
   "execution_count": 217,
   "outputs": [
    {
     "data": {
      "text/plain": "(110679, 4)"
     },
     "execution_count": 217,
     "metadata": {},
     "output_type": "execute_result"
    }
   ],
   "source": [
    "significant_features = t_test_results[t_test_results['p-value'] < 0.05]\n",
    "significant_features = significant_features.sort_values(by='abs t-statistic', ascending=False)\n",
    "significant_features.shape"
   ],
   "metadata": {
    "collapsed": false,
    "ExecuteTime": {
     "end_time": "2023-12-01T00:32:56.698090700Z",
     "start_time": "2023-12-01T00:32:56.678654900Z"
    }
   }
  },
  {
   "cell_type": "code",
   "execution_count": 217,
   "outputs": [],
   "source": [],
   "metadata": {
    "collapsed": false,
    "ExecuteTime": {
     "end_time": "2023-12-01T00:32:56.699604800Z",
     "start_time": "2023-12-01T00:32:56.698090700Z"
    }
   }
  },
  {
   "cell_type": "code",
   "execution_count": 218,
   "outputs": [],
   "source": [
    "neative_features = significant_features[significant_features['t-statistic'] < 0]\n",
    "positive_features = significant_features[significant_features['t-statistic'] > 0]"
   ],
   "metadata": {
    "collapsed": false,
    "ExecuteTime": {
     "end_time": "2023-12-01T00:32:56.733188500Z",
     "start_time": "2023-12-01T00:32:56.699604800Z"
    }
   }
  },
  {
   "cell_type": "code",
   "execution_count": 219,
   "outputs": [
    {
     "name": "stdout",
     "output_type": "stream",
     "text": [
      "(54743, 4)\n",
      "(55936, 4)\n"
     ]
    }
   ],
   "source": [
    "print(neative_features.shape)\n",
    "print(positive_features.shape)"
   ],
   "metadata": {
    "collapsed": false,
    "ExecuteTime": {
     "end_time": "2023-12-01T00:32:56.745186400Z",
     "start_time": "2023-12-01T00:32:56.711677800Z"
    }
   }
  },
  {
   "cell_type": "code",
   "execution_count": 220,
   "outputs": [
    {
     "data": {
      "text/plain": "Empty DataFrame\nColumns: [Feature, t-statistic_x, p-value_x, abs t-statistic_x, t-statistic_y, p-value_y, abs t-statistic_y]\nIndex: []",
      "text/html": "<div>\n<style scoped>\n    .dataframe tbody tr th:only-of-type {\n        vertical-align: middle;\n    }\n\n    .dataframe tbody tr th {\n        vertical-align: top;\n    }\n\n    .dataframe thead th {\n        text-align: right;\n    }\n</style>\n<table border=\"1\" class=\"dataframe\">\n  <thead>\n    <tr style=\"text-align: right;\">\n      <th></th>\n      <th>Feature</th>\n      <th>t-statistic_x</th>\n      <th>p-value_x</th>\n      <th>abs t-statistic_x</th>\n      <th>t-statistic_y</th>\n      <th>p-value_y</th>\n      <th>abs t-statistic_y</th>\n    </tr>\n  </thead>\n  <tbody>\n  </tbody>\n</table>\n</div>"
     },
     "execution_count": 220,
     "metadata": {},
     "output_type": "execute_result"
    }
   ],
   "source": [
    "# find features that are in both positive and negative features\n",
    "common_features = pd.merge(neative_features, positive_features, on='Feature')\n",
    "common_features.head()"
   ],
   "metadata": {
    "collapsed": false,
    "ExecuteTime": {
     "end_time": "2023-12-01T00:32:56.754779500Z",
     "start_time": "2023-12-01T00:32:56.733188500Z"
    }
   }
  },
  {
   "cell_type": "code",
   "execution_count": 221,
   "outputs": [
    {
     "data": {
      "text/plain": "(250000, 2168)"
     },
     "execution_count": 221,
     "metadata": {},
     "output_type": "execute_result"
    }
   ],
   "source": [
    "vector_2 = vectorizer(min_df=0.0001, max_df=0.5, ngram_range=(1, 2))\n",
    "vector_2.fit(significant_features['Feature'].head(2000))\n",
    "significant_dmt_train = vector_2.transform(data_review)\n",
    "significant_dmt_train.shape"
   ],
   "metadata": {
    "collapsed": false,
    "ExecuteTime": {
     "end_time": "2023-12-01T00:33:23.686719300Z",
     "start_time": "2023-12-01T00:32:56.752782200Z"
    }
   }
  },
  {
   "cell_type": "code",
   "execution_count": 222,
   "outputs": [
    {
     "data": {
      "text/plain": "LogisticRegressionCV(cv=5, max_iter=10000, n_jobs=-1, penalty='l1',\n                     solver='liblinear')",
      "text/html": "<style>#sk-container-id-23 {color: black;}#sk-container-id-23 pre{padding: 0;}#sk-container-id-23 div.sk-toggleable {background-color: white;}#sk-container-id-23 label.sk-toggleable__label {cursor: pointer;display: block;width: 100%;margin-bottom: 0;padding: 0.3em;box-sizing: border-box;text-align: center;}#sk-container-id-23 label.sk-toggleable__label-arrow:before {content: \"▸\";float: left;margin-right: 0.25em;color: #696969;}#sk-container-id-23 label.sk-toggleable__label-arrow:hover:before {color: black;}#sk-container-id-23 div.sk-estimator:hover label.sk-toggleable__label-arrow:before {color: black;}#sk-container-id-23 div.sk-toggleable__content {max-height: 0;max-width: 0;overflow: hidden;text-align: left;background-color: #f0f8ff;}#sk-container-id-23 div.sk-toggleable__content pre {margin: 0.2em;color: black;border-radius: 0.25em;background-color: #f0f8ff;}#sk-container-id-23 input.sk-toggleable__control:checked~div.sk-toggleable__content {max-height: 200px;max-width: 100%;overflow: auto;}#sk-container-id-23 input.sk-toggleable__control:checked~label.sk-toggleable__label-arrow:before {content: \"▾\";}#sk-container-id-23 div.sk-estimator input.sk-toggleable__control:checked~label.sk-toggleable__label {background-color: #d4ebff;}#sk-container-id-23 div.sk-label input.sk-toggleable__control:checked~label.sk-toggleable__label {background-color: #d4ebff;}#sk-container-id-23 input.sk-hidden--visually {border: 0;clip: rect(1px 1px 1px 1px);clip: rect(1px, 1px, 1px, 1px);height: 1px;margin: -1px;overflow: hidden;padding: 0;position: absolute;width: 1px;}#sk-container-id-23 div.sk-estimator {font-family: monospace;background-color: #f0f8ff;border: 1px dotted black;border-radius: 0.25em;box-sizing: border-box;margin-bottom: 0.5em;}#sk-container-id-23 div.sk-estimator:hover {background-color: #d4ebff;}#sk-container-id-23 div.sk-parallel-item::after {content: \"\";width: 100%;border-bottom: 1px solid gray;flex-grow: 1;}#sk-container-id-23 div.sk-label:hover label.sk-toggleable__label {background-color: #d4ebff;}#sk-container-id-23 div.sk-serial::before {content: \"\";position: absolute;border-left: 1px solid gray;box-sizing: border-box;top: 0;bottom: 0;left: 50%;z-index: 0;}#sk-container-id-23 div.sk-serial {display: flex;flex-direction: column;align-items: center;background-color: white;padding-right: 0.2em;padding-left: 0.2em;position: relative;}#sk-container-id-23 div.sk-item {position: relative;z-index: 1;}#sk-container-id-23 div.sk-parallel {display: flex;align-items: stretch;justify-content: center;background-color: white;position: relative;}#sk-container-id-23 div.sk-item::before, #sk-container-id-23 div.sk-parallel-item::before {content: \"\";position: absolute;border-left: 1px solid gray;box-sizing: border-box;top: 0;bottom: 0;left: 50%;z-index: -1;}#sk-container-id-23 div.sk-parallel-item {display: flex;flex-direction: column;z-index: 1;position: relative;background-color: white;}#sk-container-id-23 div.sk-parallel-item:first-child::after {align-self: flex-end;width: 50%;}#sk-container-id-23 div.sk-parallel-item:last-child::after {align-self: flex-start;width: 50%;}#sk-container-id-23 div.sk-parallel-item:only-child::after {width: 0;}#sk-container-id-23 div.sk-dashed-wrapped {border: 1px dashed gray;margin: 0 0.4em 0.5em 0.4em;box-sizing: border-box;padding-bottom: 0.4em;background-color: white;}#sk-container-id-23 div.sk-label label {font-family: monospace;font-weight: bold;display: inline-block;line-height: 1.2em;}#sk-container-id-23 div.sk-label-container {text-align: center;}#sk-container-id-23 div.sk-container {/* jupyter's `normalize.less` sets `[hidden] { display: none; }` but bootstrap.min.css set `[hidden] { display: none !important; }` so we also need the `!important` here to be able to override the default hidden behavior on the sphinx rendered scikit-learn.org. See: https://github.com/scikit-learn/scikit-learn/issues/21755 */display: inline-block !important;position: relative;}#sk-container-id-23 div.sk-text-repr-fallback {display: none;}</style><div id=\"sk-container-id-23\" class=\"sk-top-container\"><div class=\"sk-text-repr-fallback\"><pre>LogisticRegressionCV(cv=5, max_iter=10000, n_jobs=-1, penalty=&#x27;l1&#x27;,\n                     solver=&#x27;liblinear&#x27;)</pre><b>In a Jupyter environment, please rerun this cell to show the HTML representation or trust the notebook. <br />On GitHub, the HTML representation is unable to render, please try loading this page with nbviewer.org.</b></div><div class=\"sk-container\" hidden><div class=\"sk-item\"><div class=\"sk-estimator sk-toggleable\"><input class=\"sk-toggleable__control sk-hidden--visually\" id=\"sk-estimator-id-23\" type=\"checkbox\" checked><label for=\"sk-estimator-id-23\" class=\"sk-toggleable__label sk-toggleable__label-arrow\">LogisticRegressionCV</label><div class=\"sk-toggleable__content\"><pre>LogisticRegressionCV(cv=5, max_iter=10000, n_jobs=-1, penalty=&#x27;l1&#x27;,\n                     solver=&#x27;liblinear&#x27;)</pre></div></div></div></div></div>"
     },
     "execution_count": 222,
     "metadata": {},
     "output_type": "execute_result"
    }
   ],
   "source": [
    "# use lassocv to extract features\n",
    "from sklearn.linear_model import LogisticRegressionCV\n",
    "from sklearn.feature_selection import SelectFromModel\n",
    "\n",
    "model = LogisticRegressionCV(max_iter=10000, cv=5, n_jobs=-1, penalty='l1', solver='liblinear')\n",
    "model.fit(significant_dmt_train, data_label)"
   ],
   "metadata": {
    "collapsed": false,
    "ExecuteTime": {
     "end_time": "2023-12-01T00:34:00.115790400Z",
     "start_time": "2023-12-01T00:33:23.686719300Z"
    }
   }
  },
  {
   "cell_type": "code",
   "execution_count": 223,
   "outputs": [
    {
     "data": {
      "text/plain": "              Feature  Coefficient  Absolute Coefficient\n1827  supposed comedy  -163.229624            163.229624\n2116     worse acting  -157.592112            157.592112\n1428     please waste   -96.880814             96.880814\n987         instead 1   -75.386249             75.386249\n767        forwarding   -68.635547             68.635547",
      "text/html": "<div>\n<style scoped>\n    .dataframe tbody tr th:only-of-type {\n        vertical-align: middle;\n    }\n\n    .dataframe tbody tr th {\n        vertical-align: top;\n    }\n\n    .dataframe thead th {\n        text-align: right;\n    }\n</style>\n<table border=\"1\" class=\"dataframe\">\n  <thead>\n    <tr style=\"text-align: right;\">\n      <th></th>\n      <th>Feature</th>\n      <th>Coefficient</th>\n      <th>Absolute Coefficient</th>\n    </tr>\n  </thead>\n  <tbody>\n    <tr>\n      <th>1827</th>\n      <td>supposed comedy</td>\n      <td>-163.229624</td>\n      <td>163.229624</td>\n    </tr>\n    <tr>\n      <th>2116</th>\n      <td>worse acting</td>\n      <td>-157.592112</td>\n      <td>157.592112</td>\n    </tr>\n    <tr>\n      <th>1428</th>\n      <td>please waste</td>\n      <td>-96.880814</td>\n      <td>96.880814</td>\n    </tr>\n    <tr>\n      <th>987</th>\n      <td>instead 1</td>\n      <td>-75.386249</td>\n      <td>75.386249</td>\n    </tr>\n    <tr>\n      <th>767</th>\n      <td>forwarding</td>\n      <td>-68.635547</td>\n      <td>68.635547</td>\n    </tr>\n  </tbody>\n</table>\n</div>"
     },
     "execution_count": 223,
     "metadata": {},
     "output_type": "execute_result"
    }
   ],
   "source": [
    "coefficients = model.coef_.flatten()\n",
    "feature_names = vector_2.get_feature_names_out()\n",
    "feature_importance = pd.DataFrame({'Feature': feature_names, 'Coefficient': coefficients})\n",
    "# Calculate the absolute values of coefficients for ranking\n",
    "feature_importance['Absolute Coefficient'] = feature_importance['Coefficient'].abs()\n",
    "# Sort the features by absolute coefficient values\n",
    "sorted_features = feature_importance.sort_values(by='Absolute Coefficient', ascending=False)\n",
    "\n",
    "sorted_features.head()"
   ],
   "metadata": {
    "collapsed": false,
    "ExecuteTime": {
     "end_time": "2023-12-01T00:34:00.121081600Z",
     "start_time": "2023-12-01T00:34:00.116790Z"
    }
   }
  },
  {
   "cell_type": "code",
   "execution_count": 224,
   "outputs": [
    {
     "data": {
      "text/plain": "(2168,)"
     },
     "execution_count": 224,
     "metadata": {},
     "output_type": "execute_result"
    }
   ],
   "source": [
    "sorted_features['Feature'].shape"
   ],
   "metadata": {
    "collapsed": false,
    "ExecuteTime": {
     "end_time": "2023-12-01T00:34:00.128840400Z",
     "start_time": "2023-12-01T00:34:00.121081600Z"
    }
   }
  },
  {
   "cell_type": "code",
   "execution_count": 225,
   "outputs": [],
   "source": [
    "train = pd.read_csv('data/split_1/train.tsv', sep='\\t')\n",
    "test = pd.read_csv('data/split_1/test.tsv', sep='\\t')\n",
    "test_y = pd.read_csv('data/split_1/test_y.tsv', sep='\\t')\n",
    "\n",
    "train_label = train['sentiment']\n",
    "train_review =  train['review'].str.replace('&lt;.*?&gt;', ' ', regex=True)\n",
    "\n",
    "test_label = test_y['sentiment']\n",
    "test_review = test['review'].str.replace('&lt;.*?&gt;', ' ', regex=True)"
   ],
   "metadata": {
    "collapsed": false,
    "ExecuteTime": {
     "end_time": "2023-12-01T00:34:00.475851200Z",
     "start_time": "2023-12-01T00:34:00.128840400Z"
    }
   }
  },
  {
   "cell_type": "code",
   "execution_count": 226,
   "outputs": [],
   "source": [
    "vector_3 = vectorizer(min_df=0.0001, max_df=0.5, ngram_range=(1, 2))\n",
    "vector_3.fit(sorted_features['Feature'].head(1000))\n",
    "dtm_train = vector_3.transform(train_review)\n",
    "dtm_test = vector_3.transform(test_review)"
   ],
   "metadata": {
    "collapsed": false,
    "ExecuteTime": {
     "end_time": "2023-12-01T00:34:05.793167800Z",
     "start_time": "2023-12-01T00:34:00.479851200Z"
    }
   }
  },
  {
   "cell_type": "code",
   "execution_count": 227,
   "outputs": [
    {
     "data": {
      "text/plain": "LogisticRegressionCV(cv=5, max_iter=10000, n_jobs=-1, solver='liblinear')",
      "text/html": "<style>#sk-container-id-24 {color: black;}#sk-container-id-24 pre{padding: 0;}#sk-container-id-24 div.sk-toggleable {background-color: white;}#sk-container-id-24 label.sk-toggleable__label {cursor: pointer;display: block;width: 100%;margin-bottom: 0;padding: 0.3em;box-sizing: border-box;text-align: center;}#sk-container-id-24 label.sk-toggleable__label-arrow:before {content: \"▸\";float: left;margin-right: 0.25em;color: #696969;}#sk-container-id-24 label.sk-toggleable__label-arrow:hover:before {color: black;}#sk-container-id-24 div.sk-estimator:hover label.sk-toggleable__label-arrow:before {color: black;}#sk-container-id-24 div.sk-toggleable__content {max-height: 0;max-width: 0;overflow: hidden;text-align: left;background-color: #f0f8ff;}#sk-container-id-24 div.sk-toggleable__content pre {margin: 0.2em;color: black;border-radius: 0.25em;background-color: #f0f8ff;}#sk-container-id-24 input.sk-toggleable__control:checked~div.sk-toggleable__content {max-height: 200px;max-width: 100%;overflow: auto;}#sk-container-id-24 input.sk-toggleable__control:checked~label.sk-toggleable__label-arrow:before {content: \"▾\";}#sk-container-id-24 div.sk-estimator input.sk-toggleable__control:checked~label.sk-toggleable__label {background-color: #d4ebff;}#sk-container-id-24 div.sk-label input.sk-toggleable__control:checked~label.sk-toggleable__label {background-color: #d4ebff;}#sk-container-id-24 input.sk-hidden--visually {border: 0;clip: rect(1px 1px 1px 1px);clip: rect(1px, 1px, 1px, 1px);height: 1px;margin: -1px;overflow: hidden;padding: 0;position: absolute;width: 1px;}#sk-container-id-24 div.sk-estimator {font-family: monospace;background-color: #f0f8ff;border: 1px dotted black;border-radius: 0.25em;box-sizing: border-box;margin-bottom: 0.5em;}#sk-container-id-24 div.sk-estimator:hover {background-color: #d4ebff;}#sk-container-id-24 div.sk-parallel-item::after {content: \"\";width: 100%;border-bottom: 1px solid gray;flex-grow: 1;}#sk-container-id-24 div.sk-label:hover label.sk-toggleable__label {background-color: #d4ebff;}#sk-container-id-24 div.sk-serial::before {content: \"\";position: absolute;border-left: 1px solid gray;box-sizing: border-box;top: 0;bottom: 0;left: 50%;z-index: 0;}#sk-container-id-24 div.sk-serial {display: flex;flex-direction: column;align-items: center;background-color: white;padding-right: 0.2em;padding-left: 0.2em;position: relative;}#sk-container-id-24 div.sk-item {position: relative;z-index: 1;}#sk-container-id-24 div.sk-parallel {display: flex;align-items: stretch;justify-content: center;background-color: white;position: relative;}#sk-container-id-24 div.sk-item::before, #sk-container-id-24 div.sk-parallel-item::before {content: \"\";position: absolute;border-left: 1px solid gray;box-sizing: border-box;top: 0;bottom: 0;left: 50%;z-index: -1;}#sk-container-id-24 div.sk-parallel-item {display: flex;flex-direction: column;z-index: 1;position: relative;background-color: white;}#sk-container-id-24 div.sk-parallel-item:first-child::after {align-self: flex-end;width: 50%;}#sk-container-id-24 div.sk-parallel-item:last-child::after {align-self: flex-start;width: 50%;}#sk-container-id-24 div.sk-parallel-item:only-child::after {width: 0;}#sk-container-id-24 div.sk-dashed-wrapped {border: 1px dashed gray;margin: 0 0.4em 0.5em 0.4em;box-sizing: border-box;padding-bottom: 0.4em;background-color: white;}#sk-container-id-24 div.sk-label label {font-family: monospace;font-weight: bold;display: inline-block;line-height: 1.2em;}#sk-container-id-24 div.sk-label-container {text-align: center;}#sk-container-id-24 div.sk-container {/* jupyter's `normalize.less` sets `[hidden] { display: none; }` but bootstrap.min.css set `[hidden] { display: none !important; }` so we also need the `!important` here to be able to override the default hidden behavior on the sphinx rendered scikit-learn.org. See: https://github.com/scikit-learn/scikit-learn/issues/21755 */display: inline-block !important;position: relative;}#sk-container-id-24 div.sk-text-repr-fallback {display: none;}</style><div id=\"sk-container-id-24\" class=\"sk-top-container\"><div class=\"sk-text-repr-fallback\"><pre>LogisticRegressionCV(cv=5, max_iter=10000, n_jobs=-1, solver=&#x27;liblinear&#x27;)</pre><b>In a Jupyter environment, please rerun this cell to show the HTML representation or trust the notebook. <br />On GitHub, the HTML representation is unable to render, please try loading this page with nbviewer.org.</b></div><div class=\"sk-container\" hidden><div class=\"sk-item\"><div class=\"sk-estimator sk-toggleable\"><input class=\"sk-toggleable__control sk-hidden--visually\" id=\"sk-estimator-id-24\" type=\"checkbox\" checked><label for=\"sk-estimator-id-24\" class=\"sk-toggleable__label sk-toggleable__label-arrow\">LogisticRegressionCV</label><div class=\"sk-toggleable__content\"><pre>LogisticRegressionCV(cv=5, max_iter=10000, n_jobs=-1, solver=&#x27;liblinear&#x27;)</pre></div></div></div></div></div>"
     },
     "execution_count": 227,
     "metadata": {},
     "output_type": "execute_result"
    }
   ],
   "source": [
    "model = LogisticRegressionCV(max_iter=10000, cv=5, n_jobs=-1, solver='liblinear')\n",
    "model.fit(dtm_train, train_label)"
   ],
   "metadata": {
    "collapsed": false,
    "ExecuteTime": {
     "end_time": "2023-12-01T00:34:09.832326800Z",
     "start_time": "2023-12-01T00:34:05.794167100Z"
    }
   }
  },
  {
   "cell_type": "code",
   "execution_count": 228,
   "outputs": [
    {
     "data": {
      "text/plain": "0.9607600025218678"
     },
     "execution_count": 228,
     "metadata": {},
     "output_type": "execute_result"
    }
   ],
   "source": [
    "from sklearn.metrics import roc_auc_score\n",
    "\n",
    "pred = model.predict_proba(dtm_test)[:, 1]\n",
    "roc_auc_score(test_label, pred)"
   ],
   "metadata": {
    "collapsed": false,
    "ExecuteTime": {
     "end_time": "2023-12-01T00:34:09.845770500Z",
     "start_time": "2023-12-01T00:34:09.831323200Z"
    }
   }
  },
  {
   "cell_type": "code",
   "execution_count": 233,
   "outputs": [
    {
     "data": {
      "text/plain": "(2168,)"
     },
     "execution_count": 233,
     "metadata": {},
     "output_type": "execute_result"
    }
   ],
   "source": [
    "sorted_features['Feature'].shape"
   ],
   "metadata": {
    "collapsed": false,
    "ExecuteTime": {
     "end_time": "2023-12-01T00:34:56.634874400Z",
     "start_time": "2023-12-01T00:34:56.623437300Z"
    }
   }
  },
  {
   "cell_type": "code",
   "execution_count": 234,
   "outputs": [],
   "source": [
    "# save top 980 features\n",
    "sorted_features['Feature'].head(1000).to_csv('myvocab.txt', sep='\\t', index=False)"
   ],
   "metadata": {
    "collapsed": false,
    "ExecuteTime": {
     "end_time": "2023-12-01T00:34:57.008161800Z",
     "start_time": "2023-12-01T00:34:56.996670200Z"
    }
   }
  },
  {
   "cell_type": "code",
   "execution_count": 231,
   "outputs": [],
   "source": [
    "# from xgboost import XGBClassifier\n",
    "# from sklearn.metrics import roc_auc_score\n",
    "# params = {\n",
    "# \t\"learning_rate\": 0.0001,\n",
    "# \t\"n_estimators\": 10000,\n",
    "# \t\"max_depth\": 7,\n",
    "# \t\"subsample\": 0.8,\n",
    "# \t\"device\": \"cuda\",\n",
    "# \t\"tree_method\": \"hist\",\n",
    "# \t\"use_label_encoder\": False\n",
    "# }\n",
    "# model = XGBClassifier(**params)\n",
    "# model.fit(dtm_train, train_label)"
   ],
   "metadata": {
    "collapsed": false,
    "ExecuteTime": {
     "end_time": "2023-12-01T00:34:09.861137Z",
     "start_time": "2023-12-01T00:34:09.852922500Z"
    }
   }
  },
  {
   "cell_type": "code",
   "execution_count": 232,
   "outputs": [],
   "source": [
    "# val_probs = model.predict_proba(dtm_test)[:, 1]\n",
    "# roc_auc_score(test_label, val_probs)"
   ],
   "metadata": {
    "collapsed": false,
    "ExecuteTime": {
     "end_time": "2023-12-01T00:34:09.863926800Z",
     "start_time": "2023-12-01T00:34:09.857541600Z"
    }
   }
  }
 ],
 "metadata": {
  "kernelspec": {
   "display_name": "Python 3",
   "language": "python",
   "name": "python3"
  },
  "language_info": {
   "codemirror_mode": {
    "name": "ipython",
    "version": 2
   },
   "file_extension": ".py",
   "mimetype": "text/x-python",
   "name": "python",
   "nbconvert_exporter": "python",
   "pygments_lexer": "ipython2",
   "version": "2.7.6"
  }
 },
 "nbformat": 4,
 "nbformat_minor": 0
}
