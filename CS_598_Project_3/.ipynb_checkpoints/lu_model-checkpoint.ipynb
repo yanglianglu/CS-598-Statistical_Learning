{
 "cells": [
  {
   "cell_type": "code",
   "execution_count": 1,
   "metadata": {
    "ExecuteTime": {
     "end_time": "2023-11-16T07:12:27.055544700Z",
     "start_time": "2023-11-16T07:12:27.048953700Z"
    }
   },
   "outputs": [],
   "source": [
    "import pandas as pd"
   ]
  },
  {
   "cell_type": "code",
   "execution_count": 2,
   "metadata": {
    "ExecuteTime": {
     "end_time": "2023-11-16T07:12:27.069402700Z",
     "start_time": "2023-11-16T07:12:27.051505100Z"
    }
   },
   "outputs": [],
   "source": [
    "def read_data():\n",
    "    train = pd.read_csv('train.tsv', sep='\\t')\n",
    "    test = pd.read_csv('train.tsv', sep='\\t')\n",
    "    test_y = pd.read_csv('train.tsv', sep='\\t')\n",
    "\n",
    "    train_label = train['sentiment']\n",
    "    train_review =  train['review'].str.replace('&lt;.*?&gt;', ' ', regex=True)\n",
    "\n",
    "    test_label = test_y['sentiment']\n",
    "    test_review = test['review'].str.replace('&lt;.*?&gt;', ' ', regex=True)\n",
    "\n",
    "    return train_review, train_label, test_review, test_label\n",
    "# read myvocab.txt\n",
    "vocab = pd.read_csv('myvocab_1000.txt')"
   ]
  },
  {
   "cell_type": "code",
   "execution_count": 3,
   "metadata": {
    "ExecuteTime": {
     "end_time": "2023-11-16T07:12:27.082488100Z",
     "start_time": "2023-11-16T07:12:27.070457300Z"
    }
   },
   "outputs": [],
   "source": [
    "from sklearn.feature_extraction.text import TfidfVectorizer\n",
    "\n",
    "def fit_vectorizer(train_review, test_review, vocab):\n",
    "    vectorizer = TfidfVectorizer(\n",
    "    stop_words='english',\n",
    "    lowercase=True,  # Converts all text to lowercase by default\n",
    "    ngram_range=(1, 4),  # Extracts unigrams only by default\n",
    "    preprocessor=lambda x: x.lower(),  # Convert to lowercase\n",
    "    token_pattern=r\"\\b[\\w+\\|']+\\b\" # Use word tokenizer: See Ethan's comment below\n",
    "    )\n",
    "    vectorizer.fit(vocab.values.flatten())\n",
    "    train_review = vectorizer.transform(train_review)\n",
    "    test_review = vectorizer.transform(test_review)\n",
    "    return train_review, test_review"
   ]
  },
  {
   "cell_type": "code",
   "execution_count": 11,
   "metadata": {
    "ExecuteTime": {
     "end_time": "2023-11-16T07:12:27.082488100Z",
     "start_time": "2023-11-16T07:12:27.076981400Z"
    }
   },
   "outputs": [],
   "source": [
    "from sklearn.metrics import roc_auc_score\n",
    "from sklearn.linear_model import LogisticRegressionCV\n",
    "def score(train_review, train_label, test_review, test_label):\n",
    "    # fit with logistic regression for classification\n",
    "    from sklearn.metrics import accuracy_score\n",
    "\n",
    "    model = LogisticRegressionCV(cv=5, max_iter=10000, n_jobs=-1)\n",
    "    model.fit(train_review, train_label)\n",
    "    # calculate AUC score\n",
    "    pred = model.predict_proba(test_review)\n",
    "\n",
    "    return roc_auc_score(test_label, pred[:, 1]), pred"
   ]
  },
  {
   "cell_type": "code",
   "execution_count": 5,
   "metadata": {
    "ExecuteTime": {
     "end_time": "2023-11-16T07:12:27.093704100Z",
     "start_time": "2023-11-16T07:12:27.083490700Z"
    }
   },
   "outputs": [],
   "source": [
    "vocab_1000 =  pd.read_csv('myvocab_1000.txt')\n",
    "vocab_2000 =  pd.read_csv('myvocab_2000.txt')\n",
    "vocab_3000 =  pd.read_csv('myvocab_3000.txt')\n",
    "vocabs = [vocab_1000, vocab_2000, vocab_3000]"
   ]
  },
  {
   "cell_type": "code",
   "execution_count": 6,
   "metadata": {
    "ExecuteTime": {
     "end_time": "2023-11-16T07:16:03.075243200Z",
     "start_time": "2023-11-16T07:16:03.071655500Z"
    }
   },
   "outputs": [
    {
     "data": {
      "text/plain": [
       "(1000, 1)"
      ]
     },
     "execution_count": 6,
     "metadata": {},
     "output_type": "execute_result"
    }
   ],
   "source": [
    "vocab_1000.shape"
   ]
  },
  {
   "cell_type": "code",
   "execution_count": 16,
   "metadata": {
    "ExecuteTime": {
     "end_time": "2023-11-16T07:13:19.516181700Z",
     "start_time": "2023-11-16T07:12:27.097788600Z"
    }
   },
   "outputs": [
    {
     "name": "stdout",
     "output_type": "stream",
     "text": [
      "0.9711199154283097 [[0.97617763 0.02382237]\n",
      " [0.14500221 0.85499779]\n",
      " [0.03833007 0.96166993]\n",
      " ...\n",
      " [0.99395236 0.00604764]\n",
      " [0.58238597 0.41761403]\n",
      " [0.93501374 0.06498626]]\n",
      "0.9816587937090717 [[0.98747491 0.01252509]\n",
      " [0.14583294 0.85416706]\n",
      " [0.0782719  0.9217281 ]\n",
      " ...\n",
      " [0.99707924 0.00292076]\n",
      " [0.69901774 0.30098226]\n",
      " [0.86055266 0.13944734]]\n",
      "0.9862876416944842 [[0.99052402 0.00947598]\n",
      " [0.62515521 0.37484479]\n",
      " [0.04798215 0.95201785]\n",
      " ...\n",
      " [0.99214822 0.00785178]\n",
      " [0.65546201 0.34453799]\n",
      " [0.81391356 0.18608644]]\n"
     ]
    }
   ],
   "source": [
    "train_review, train_label, test_review, test_label = read_data()\n",
    "\n",
    "for vocab in vocabs:\n",
    "    train_score, test_score = fit_vectorizer(train_review.copy(), test_review.copy(), vocab['Feature'])\n",
    "    auc, pred = score(train_score, train_label, test, test_label)\n",
    "#     print(auc, pred)"
   ]
  },
  {
   "cell_type": "code",
   "execution_count": 8,
   "metadata": {
    "ExecuteTime": {
     "end_time": "2023-11-16T07:54:22.904518Z",
     "start_time": "2023-11-16T07:54:22.900006200Z"
    }
   },
   "outputs": [],
   "source": [
    "def main(i, vocab):\n",
    "    train_review, train_label, test_review, test_label = read_data()\n",
    "\n",
    "    train, test = fit_vectorizer(train_review.copy(), test_review.copy(), vocab['Feature'])\n",
    "    s = score(train, train_label, test, test_label)\n",
    "    result = 'split_' + str(i) + ' ' + str(s) + '\\n'\n",
    "    return result"
   ]
  },
  {
   "cell_type": "code",
   "execution_count": 9,
   "metadata": {
    "ExecuteTime": {
     "end_time": "2023-11-16T07:55:05.066717500Z",
     "start_time": "2023-11-16T07:54:27.462700500Z"
    }
   },
   "outputs": [],
   "source": [
    "# # using joblib to parallelize the process\n",
    "# from joblib import Parallel, delayed, cpu_count\n",
    "# count = cpu_count()\n",
    "\n",
    "# results = Parallel(n_jobs=count)(delayed(main)(i, vocab_1000) for i in range(1, 6))\n",
    "result = main(1,vocab_1000)"
   ]
  },
  {
   "cell_type": "code",
   "execution_count": 28,
   "metadata": {
    "ExecuteTime": {
     "end_time": "2023-11-16T07:55:05.093354800Z",
     "start_time": "2023-11-16T07:55:05.089332800Z"
    }
   },
   "outputs": [],
   "source": [
    "import csv\n",
    "csv_file_path = \"output.csv\"\n",
    "\n",
    "# Write the CSV file\n",
    "with open(csv_file_path, mode='w', newline='', encoding='utf-8') as file:\n",
    "    writer = csv.writer(file)\n",
    "\n",
    "    # Write the header\n",
    "    writer.writerow(['id', 'prob'])\n",
    "\n",
    "    # Write the data\n",
    "    for id_value, prob_value in zip(test_review, pred):\n",
    "        writer.writerow([id_value, prob_value[0]])"
   ]
  },
  {
   "cell_type": "code",
   "execution_count": 43,
   "metadata": {},
   "outputs": [
    {
     "name": "stdout",
     "output_type": "stream",
     "text": [
      "  (0, 3078)\t0.11831152736322537\n",
      "  (0, 3070)\t0.11831152736322537\n",
      "  (0, 3027)\t0.11831152736322537\n",
      "  (0, 2999)\t0.08963711646044083\n",
      "  (0, 2996)\t0.11831152736322537\n",
      "  (0, 2869)\t0.10844723768335114\n",
      "  (0, 2785)\t0.09061896517782843\n",
      "  (0, 2782)\t0.11831152736322537\n",
      "  (0, 2763)\t0.10267699812437403\n",
      "  (0, 2715)\t0.2250825756084965\n",
      "  (0, 2598)\t0.11831152736322537\n",
      "  (0, 2584)\t0.11831152736322537\n",
      "  (0, 2562)\t0.11831152736322537\n",
      "  (0, 2561)\t0.11254128780424826\n",
      "  (0, 2534)\t0.11831152736322537\n",
      "  (0, 2433)\t0.10527164569929216\n",
      "  (0, 2411)\t0.11831152736322537\n",
      "  (0, 2396)\t0.10844723768335114\n",
      "  (0, 2383)\t0.11831152736322537\n",
      "  (0, 2382)\t0.10844723768335114\n",
      "  (0, 2223)\t0.11831152736322537\n",
      "  (0, 2214)\t0.10844723768335114\n",
      "  (0, 1832)\t0.19485518453243117\n",
      "  (0, 1792)\t0.11831152736322537\n",
      "  (0, 1753)\t0.10527164569929216\n",
      "  :\t:\n",
      "  (24999, 2392)\t0.12121570860844773\n",
      "  (24999, 2384)\t0.11231405429084135\n",
      "  (24999, 2149)\t0.1322414100371575\n",
      "  (24999, 2116)\t0.1322414100371575\n",
      "  (24999, 2107)\t0.39672423011147245\n",
      "  (24999, 2035)\t0.21663292969712392\n",
      "  (24999, 1989)\t0.1322414100371575\n",
      "  (24999, 1967)\t0.1322414100371575\n",
      "  (24999, 1832)\t0.07259908066413438\n",
      "  (24999, 1811)\t0.1322414100371575\n",
      "  (24999, 1793)\t0.1322414100371575\n",
      "  (24999, 1593)\t0.0920653396395454\n",
      "  (24999, 1555)\t0.12579178815721462\n",
      "  (24999, 1540)\t0.12579178815721462\n",
      "  (24999, 1447)\t0.0940987498970245\n",
      "  (24999, 1330)\t0.11019000717973797\n",
      "  (24999, 1284)\t0.12121570860844773\n",
      "  (24999, 1060)\t0.12121570860844773\n",
      "  (24999, 997)\t0.1322414100371575\n",
      "  (24999, 966)\t0.1322414100371575\n",
      "  (24999, 860)\t0.1322414100371575\n",
      "  (24999, 787)\t0.10512445132573428\n",
      "  (24999, 517)\t0.264482820074315\n",
      "  (24999, 264)\t0.11231405429084135\n",
      "  (24999, 87)\t0.264482820074315\n"
     ]
    }
   ],
   "source": []
  },
  {
   "cell_type": "markdown",
   "metadata": {},
   "source": [
    "# "
   ]
  }
 ],
 "metadata": {
  "kernelspec": {
   "display_name": "Python 3 (ipykernel)",
   "language": "python",
   "name": "python3"
  },
  "language_info": {
   "codemirror_mode": {
    "name": "ipython",
    "version": 3
   },
   "file_extension": ".py",
   "mimetype": "text/x-python",
   "name": "python",
   "nbconvert_exporter": "python",
   "pygments_lexer": "ipython3",
   "version": "3.11.4"
  }
 },
 "nbformat": 4,
 "nbformat_minor": 1
}
