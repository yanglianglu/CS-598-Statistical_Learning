{
 "cells": [
  {
   "cell_type": "code",
   "execution_count": 82,
   "metadata": {
    "ExecuteTime": {
     "end_time": "2023-11-16T07:00:01.305409700Z",
     "start_time": "2023-11-16T07:00:01.304362900Z"
    },
    "collapsed": true
   },
   "outputs": [],
   "source": [
    "import pandas as pd"
   ]
  },
  {
   "cell_type": "code",
   "execution_count": 83,
   "metadata": {
    "ExecuteTime": {
     "end_time": "2023-11-16T07:00:01.773383900Z",
     "start_time": "2023-11-16T07:00:01.306915800Z"
    }
   },
   "outputs": [],
   "source": [
    "train = pd.read_csv('data/split_1/train.tsv', sep='\\t')\n",
    "test = pd.read_csv('data/split_1/test.tsv', sep='\\t')\n",
    "test_y = pd.read_csv('data/split_1/test_y.tsv', sep='\\t')\n",
    "\n",
    "train_label = train['sentiment']\n",
    "train_review =  train['review'].str.replace('&lt;.*?&gt;', ' ', regex=True)\n",
    "\n",
    "test_label = test_y['sentiment']\n",
    "test_review = test['review'].str.replace('&lt;.*?&gt;', ' ', regex=True)"
   ]
  },
  {
   "cell_type": "code",
   "execution_count": 84,
   "metadata": {
    "ExecuteTime": {
     "end_time": "2023-11-16T07:00:01.779128400Z",
     "start_time": "2023-11-16T07:00:01.776384400Z"
    }
   },
   "outputs": [
    {
     "data": {
      "text/html": [
       "<div>\n",
       "<style scoped>\n",
       "    .dataframe tbody tr th:only-of-type {\n",
       "        vertical-align: middle;\n",
       "    }\n",
       "\n",
       "    .dataframe tbody tr th {\n",
       "        vertical-align: top;\n",
       "    }\n",
       "\n",
       "    .dataframe thead th {\n",
       "        text-align: right;\n",
       "    }\n",
       "</style>\n",
       "<table border=\"1\" class=\"dataframe\">\n",
       "  <thead>\n",
       "    <tr style=\"text-align: right;\">\n",
       "      <th></th>\n",
       "      <th>id</th>\n",
       "      <th>sentiment</th>\n",
       "      <th>review</th>\n",
       "    </tr>\n",
       "  </thead>\n",
       "  <tbody>\n",
       "    <tr>\n",
       "      <th>0</th>\n",
       "      <td>1</td>\n",
       "      <td>1</td>\n",
       "      <td>Naturally in a film who's main themes are of m...</td>\n",
       "    </tr>\n",
       "    <tr>\n",
       "      <th>1</th>\n",
       "      <td>4</td>\n",
       "      <td>0</td>\n",
       "      <td>Afraid of the Dark left me with the impression...</td>\n",
       "    </tr>\n",
       "    <tr>\n",
       "      <th>2</th>\n",
       "      <td>7</td>\n",
       "      <td>0</td>\n",
       "      <td>This has to be one of the biggest misfires eve...</td>\n",
       "    </tr>\n",
       "    <tr>\n",
       "      <th>3</th>\n",
       "      <td>8</td>\n",
       "      <td>0</td>\n",
       "      <td>This is one of those movies I watched, and won...</td>\n",
       "    </tr>\n",
       "    <tr>\n",
       "      <th>4</th>\n",
       "      <td>17</td>\n",
       "      <td>0</td>\n",
       "      <td>This movie was dreadful. Biblically very inacc...</td>\n",
       "    </tr>\n",
       "  </tbody>\n",
       "</table>\n",
       "</div>"
      ],
      "text/plain": [
       "   id  sentiment                                             review\n",
       "0   1          1  Naturally in a film who's main themes are of m...\n",
       "1   4          0  Afraid of the Dark left me with the impression...\n",
       "2   7          0  This has to be one of the biggest misfires eve...\n",
       "3   8          0  This is one of those movies I watched, and won...\n",
       "4  17          0  This movie was dreadful. Biblically very inacc..."
      ]
     },
     "execution_count": 84,
     "metadata": {},
     "output_type": "execute_result"
    }
   ],
   "source": [
    "train.head()"
   ]
  },
  {
   "cell_type": "code",
   "execution_count": 85,
   "metadata": {
    "ExecuteTime": {
     "end_time": "2023-11-16T07:00:12.741464700Z",
     "start_time": "2023-11-16T07:00:01.781127400Z"
    }
   },
   "outputs": [],
   "source": [
    "from sklearn.feature_extraction.text import TfidfVectorizer\n",
    "\n",
    "vectorizer = TfidfVectorizer(\n",
    "    stop_words='english',\n",
    "    lowercase=True,  # Converts all text to lowercase by default\n",
    "    ngram_range=(1, 4),  # Extracts unigrams only by default\n",
    "\tpreprocessor=lambda x: x.lower(),  # Convert to lowercase\n",
    "    min_df=0.001,                        # Minimum term frequency\n",
    "    max_df=0.5,                       # Maximum document frequency\n",
    "    token_pattern=r\"\\b[\\w+\\|']+\\b\" # Use word tokenizer: See Ethan's comment below\n",
    ")\n",
    "dtm_train = vectorizer.fit_transform(train['review'])"
   ]
  },
  {
   "cell_type": "code",
   "execution_count": 86,
   "metadata": {
    "ExecuteTime": {
     "end_time": "2023-11-16T07:00:12.744685100Z",
     "start_time": "2023-11-16T07:00:12.742465Z"
    }
   },
   "outputs": [
    {
     "data": {
      "text/plain": [
       "(25000, 16224)"
      ]
     },
     "execution_count": 86,
     "metadata": {},
     "output_type": "execute_result"
    }
   ],
   "source": [
    "dtm_train.shape"
   ]
  },
  {
   "cell_type": "code",
   "execution_count": 87,
   "metadata": {
    "ExecuteTime": {
     "end_time": "2023-11-16T07:00:19.013553500Z",
     "start_time": "2023-11-16T07:00:12.744685100Z"
    }
   },
   "outputs": [],
   "source": [
    "dtm_test = vectorizer.transform(test['review'])"
   ]
  },
  {
   "cell_type": "code",
   "execution_count": 88,
   "metadata": {
    "ExecuteTime": {
     "end_time": "2023-11-16T07:00:23.082153800Z",
     "start_time": "2023-11-16T07:00:19.014599700Z"
    }
   },
   "outputs": [
    {
     "data": {
      "text/html": [
       "<style>#sk-container-id-11 {color: black;}#sk-container-id-11 pre{padding: 0;}#sk-container-id-11 div.sk-toggleable {background-color: white;}#sk-container-id-11 label.sk-toggleable__label {cursor: pointer;display: block;width: 100%;margin-bottom: 0;padding: 0.3em;box-sizing: border-box;text-align: center;}#sk-container-id-11 label.sk-toggleable__label-arrow:before {content: \"▸\";float: left;margin-right: 0.25em;color: #696969;}#sk-container-id-11 label.sk-toggleable__label-arrow:hover:before {color: black;}#sk-container-id-11 div.sk-estimator:hover label.sk-toggleable__label-arrow:before {color: black;}#sk-container-id-11 div.sk-toggleable__content {max-height: 0;max-width: 0;overflow: hidden;text-align: left;background-color: #f0f8ff;}#sk-container-id-11 div.sk-toggleable__content pre {margin: 0.2em;color: black;border-radius: 0.25em;background-color: #f0f8ff;}#sk-container-id-11 input.sk-toggleable__control:checked~div.sk-toggleable__content {max-height: 200px;max-width: 100%;overflow: auto;}#sk-container-id-11 input.sk-toggleable__control:checked~label.sk-toggleable__label-arrow:before {content: \"▾\";}#sk-container-id-11 div.sk-estimator input.sk-toggleable__control:checked~label.sk-toggleable__label {background-color: #d4ebff;}#sk-container-id-11 div.sk-label input.sk-toggleable__control:checked~label.sk-toggleable__label {background-color: #d4ebff;}#sk-container-id-11 input.sk-hidden--visually {border: 0;clip: rect(1px 1px 1px 1px);clip: rect(1px, 1px, 1px, 1px);height: 1px;margin: -1px;overflow: hidden;padding: 0;position: absolute;width: 1px;}#sk-container-id-11 div.sk-estimator {font-family: monospace;background-color: #f0f8ff;border: 1px dotted black;border-radius: 0.25em;box-sizing: border-box;margin-bottom: 0.5em;}#sk-container-id-11 div.sk-estimator:hover {background-color: #d4ebff;}#sk-container-id-11 div.sk-parallel-item::after {content: \"\";width: 100%;border-bottom: 1px solid gray;flex-grow: 1;}#sk-container-id-11 div.sk-label:hover label.sk-toggleable__label {background-color: #d4ebff;}#sk-container-id-11 div.sk-serial::before {content: \"\";position: absolute;border-left: 1px solid gray;box-sizing: border-box;top: 0;bottom: 0;left: 50%;z-index: 0;}#sk-container-id-11 div.sk-serial {display: flex;flex-direction: column;align-items: center;background-color: white;padding-right: 0.2em;padding-left: 0.2em;position: relative;}#sk-container-id-11 div.sk-item {position: relative;z-index: 1;}#sk-container-id-11 div.sk-parallel {display: flex;align-items: stretch;justify-content: center;background-color: white;position: relative;}#sk-container-id-11 div.sk-item::before, #sk-container-id-11 div.sk-parallel-item::before {content: \"\";position: absolute;border-left: 1px solid gray;box-sizing: border-box;top: 0;bottom: 0;left: 50%;z-index: -1;}#sk-container-id-11 div.sk-parallel-item {display: flex;flex-direction: column;z-index: 1;position: relative;background-color: white;}#sk-container-id-11 div.sk-parallel-item:first-child::after {align-self: flex-end;width: 50%;}#sk-container-id-11 div.sk-parallel-item:last-child::after {align-self: flex-start;width: 50%;}#sk-container-id-11 div.sk-parallel-item:only-child::after {width: 0;}#sk-container-id-11 div.sk-dashed-wrapped {border: 1px dashed gray;margin: 0 0.4em 0.5em 0.4em;box-sizing: border-box;padding-bottom: 0.4em;background-color: white;}#sk-container-id-11 div.sk-label label {font-family: monospace;font-weight: bold;display: inline-block;line-height: 1.2em;}#sk-container-id-11 div.sk-label-container {text-align: center;}#sk-container-id-11 div.sk-container {/* jupyter's `normalize.less` sets `[hidden] { display: none; }` but bootstrap.min.css set `[hidden] { display: none !important; }` so we also need the `!important` here to be able to override the default hidden behavior on the sphinx rendered scikit-learn.org. See: https://github.com/scikit-learn/scikit-learn/issues/21755 */display: inline-block !important;position: relative;}#sk-container-id-11 div.sk-text-repr-fallback {display: none;}</style><div id=\"sk-container-id-11\" class=\"sk-top-container\"><div class=\"sk-text-repr-fallback\"><pre>LogisticRegressionCV(cv=5, max_iter=10000, n_jobs=-1, penalty=&#x27;l1&#x27;,\n",
       "                     solver=&#x27;liblinear&#x27;)</pre><b>In a Jupyter environment, please rerun this cell to show the HTML representation or trust the notebook. <br />On GitHub, the HTML representation is unable to render, please try loading this page with nbviewer.org.</b></div><div class=\"sk-container\" hidden><div class=\"sk-item\"><div class=\"sk-estimator sk-toggleable\"><input class=\"sk-toggleable__control sk-hidden--visually\" id=\"sk-estimator-id-15\" type=\"checkbox\" checked><label for=\"sk-estimator-id-15\" class=\"sk-toggleable__label sk-toggleable__label-arrow\">LogisticRegressionCV</label><div class=\"sk-toggleable__content\"><pre>LogisticRegressionCV(cv=5, max_iter=10000, n_jobs=-1, penalty=&#x27;l1&#x27;,\n",
       "                     solver=&#x27;liblinear&#x27;)</pre></div></div></div></div></div>"
      ],
      "text/plain": [
       "LogisticRegressionCV(cv=5, max_iter=10000, n_jobs=-1, penalty='l1',\n",
       "                     solver='liblinear')"
      ]
     },
     "execution_count": 88,
     "metadata": {},
     "output_type": "execute_result"
    }
   ],
   "source": [
    "# use lassocv to extract features\n",
    "from sklearn.linear_model import LogisticRegressionCV\n",
    "from sklearn.feature_selection import SelectFromModel\n",
    "\n",
    "model = LogisticRegressionCV(max_iter=10000, cv=5, n_jobs=-1, penalty='l1', solver='liblinear')\n",
    "model.fit(dtm_train, train_label)"
   ]
  },
  {
   "cell_type": "code",
   "execution_count": 89,
   "metadata": {
    "ExecuteTime": {
     "end_time": "2023-11-16T07:00:23.103505500Z",
     "start_time": "2023-11-16T07:00:23.083154600Z"
    }
   },
   "outputs": [
    {
     "data": {
      "text/html": [
       "<div>\n",
       "<style scoped>\n",
       "    .dataframe tbody tr th:only-of-type {\n",
       "        vertical-align: middle;\n",
       "    }\n",
       "\n",
       "    .dataframe tbody tr th {\n",
       "        vertical-align: top;\n",
       "    }\n",
       "\n",
       "    .dataframe thead th {\n",
       "        text-align: right;\n",
       "    }\n",
       "</style>\n",
       "<table border=\"1\" class=\"dataframe\">\n",
       "  <thead>\n",
       "    <tr style=\"text-align: right;\">\n",
       "      <th></th>\n",
       "      <th>Feature</th>\n",
       "      <th>Coefficient</th>\n",
       "      <th>Absolute Coefficient</th>\n",
       "    </tr>\n",
       "  </thead>\n",
       "  <tbody>\n",
       "    <tr>\n",
       "      <th>248</th>\n",
       "      <td>7 10</td>\n",
       "      <td>33.500606</td>\n",
       "      <td>33.500606</td>\n",
       "    </tr>\n",
       "    <tr>\n",
       "      <th>186</th>\n",
       "      <td>3 10</td>\n",
       "      <td>-28.176004</td>\n",
       "      <td>28.176004</td>\n",
       "    </tr>\n",
       "    <tr>\n",
       "      <th>212</th>\n",
       "      <td>4 10</td>\n",
       "      <td>-23.253202</td>\n",
       "      <td>23.253202</td>\n",
       "    </tr>\n",
       "    <tr>\n",
       "      <th>15630</th>\n",
       "      <td>waste</td>\n",
       "      <td>-22.838807</td>\n",
       "      <td>22.838807</td>\n",
       "    </tr>\n",
       "    <tr>\n",
       "      <th>16011</th>\n",
       "      <td>worst</td>\n",
       "      <td>-22.151248</td>\n",
       "      <td>22.151248</td>\n",
       "    </tr>\n",
       "    <tr>\n",
       "      <th>260</th>\n",
       "      <td>8 10</td>\n",
       "      <td>20.485692</td>\n",
       "      <td>20.485692</td>\n",
       "    </tr>\n",
       "    <tr>\n",
       "      <th>1106</th>\n",
       "      <td>awful</td>\n",
       "      <td>-18.402624</td>\n",
       "      <td>18.402624</td>\n",
       "    </tr>\n",
       "    <tr>\n",
       "      <th>7</th>\n",
       "      <td>1 10</td>\n",
       "      <td>-18.045434</td>\n",
       "      <td>18.045434</td>\n",
       "    </tr>\n",
       "    <tr>\n",
       "      <th>143</th>\n",
       "      <td>2 10</td>\n",
       "      <td>-17.823135</td>\n",
       "      <td>17.823135</td>\n",
       "    </tr>\n",
       "    <tr>\n",
       "      <th>11349</th>\n",
       "      <td>poorly</td>\n",
       "      <td>-15.159419</td>\n",
       "      <td>15.159419</td>\n",
       "    </tr>\n",
       "    <tr>\n",
       "      <th>15945</th>\n",
       "      <td>wonderfully</td>\n",
       "      <td>14.038848</td>\n",
       "      <td>14.038848</td>\n",
       "    </tr>\n",
       "    <tr>\n",
       "      <th>5226</th>\n",
       "      <td>excellent</td>\n",
       "      <td>13.709180</td>\n",
       "      <td>13.709180</td>\n",
       "    </tr>\n",
       "    <tr>\n",
       "      <th>9474</th>\n",
       "      <td>mediocre</td>\n",
       "      <td>-13.313385</td>\n",
       "      <td>13.313385</td>\n",
       "    </tr>\n",
       "    <tr>\n",
       "      <th>4745</th>\n",
       "      <td>dull</td>\n",
       "      <td>-13.180142</td>\n",
       "      <td>13.180142</td>\n",
       "    </tr>\n",
       "    <tr>\n",
       "      <th>14482</th>\n",
       "      <td>terrible</td>\n",
       "      <td>-13.112818</td>\n",
       "      <td>13.112818</td>\n",
       "    </tr>\n",
       "    <tr>\n",
       "      <th>2464</th>\n",
       "      <td>brilliantly</td>\n",
       "      <td>13.076141</td>\n",
       "      <td>13.076141</td>\n",
       "    </tr>\n",
       "    <tr>\n",
       "      <th>14190</th>\n",
       "      <td>superb</td>\n",
       "      <td>12.451595</td>\n",
       "      <td>12.451595</td>\n",
       "    </tr>\n",
       "    <tr>\n",
       "      <th>4371</th>\n",
       "      <td>disappointment</td>\n",
       "      <td>-12.445377</td>\n",
       "      <td>12.445377</td>\n",
       "    </tr>\n",
       "    <tr>\n",
       "      <th>9074</th>\n",
       "      <td>lousy</td>\n",
       "      <td>-12.124138</td>\n",
       "      <td>12.124138</td>\n",
       "    </tr>\n",
       "    <tr>\n",
       "      <th>6115</th>\n",
       "      <td>forgettable</td>\n",
       "      <td>-11.972739</td>\n",
       "      <td>11.972739</td>\n",
       "    </tr>\n",
       "  </tbody>\n",
       "</table>\n",
       "</div>"
      ],
      "text/plain": [
       "              Feature  Coefficient  Absolute Coefficient\n",
       "248              7 10    33.500606             33.500606\n",
       "186              3 10   -28.176004             28.176004\n",
       "212              4 10   -23.253202             23.253202\n",
       "15630           waste   -22.838807             22.838807\n",
       "16011           worst   -22.151248             22.151248\n",
       "260              8 10    20.485692             20.485692\n",
       "1106            awful   -18.402624             18.402624\n",
       "7                1 10   -18.045434             18.045434\n",
       "143              2 10   -17.823135             17.823135\n",
       "11349          poorly   -15.159419             15.159419\n",
       "15945     wonderfully    14.038848             14.038848\n",
       "5226        excellent    13.709180             13.709180\n",
       "9474         mediocre   -13.313385             13.313385\n",
       "4745             dull   -13.180142             13.180142\n",
       "14482        terrible   -13.112818             13.112818\n",
       "2464      brilliantly    13.076141             13.076141\n",
       "14190          superb    12.451595             12.451595\n",
       "4371   disappointment   -12.445377             12.445377\n",
       "9074            lousy   -12.124138             12.124138\n",
       "6115      forgettable   -11.972739             11.972739"
      ]
     },
     "execution_count": 89,
     "metadata": {},
     "output_type": "execute_result"
    }
   ],
   "source": [
    "coefficients = model.coef_.flatten()\n",
    "\n",
    "feature_names = vectorizer.get_feature_names_out()\n",
    "feature_importance = pd.DataFrame({'Feature': feature_names, 'Coefficient': coefficients})\n",
    "\n",
    "# Calculate the absolute values of coefficients for ranking\n",
    "feature_importance['Absolute Coefficient'] = feature_importance['Coefficient'].abs()\n",
    "\n",
    "# Sort the features by absolute coefficient values\n",
    "sorted_features = feature_importance.sort_values(by='Absolute Coefficient', ascending=False)\n",
    "sorted_features.head(20)"
   ]
  },
  {
   "cell_type": "code",
   "execution_count": 94,
   "metadata": {
    "ExecuteTime": {
     "end_time": "2023-11-16T07:08:18.424886800Z",
     "start_time": "2023-11-16T07:08:18.417459500Z"
    }
   },
   "outputs": [],
   "source": [
    "# save top 1000 features to myvocab_1000.txt\n",
    "# save top 2000 features to myvocab_2000.txt\n",
    "# save top 3000 features to myvocab_3000.txt\n",
    "sorted_features['Feature'].head(1000).to_csv('myvocab_1000.txt', index=False)\n",
    "sorted_features['Feature'].head(2000).to_csv('myvocab_2000.txt', index=False)\n",
    "sorted_features['Feature'].head(3000).to_csv('myvocab_3000.txt', index=False)\n"
   ]
  },
  {
   "cell_type": "code",
   "execution_count": 91,
   "metadata": {
    "ExecuteTime": {
     "end_time": "2023-11-16T07:00:23.139911900Z",
     "start_time": "2023-11-16T07:00:23.126226800Z"
    }
   },
   "outputs": [],
   "source": [
    "# from xgboost import XGBClassifier\n",
    "# from sklearn.metrics import roc_auc_score\n",
    "# params = {\n",
    "# \t\"learning_rate\": 0.05,\n",
    "# \t\"n_estimators\": 10000,\n",
    "# \t\"max_depth\": 6,\n",
    "# \t\"subsample\": 0.8,\n",
    "# \t\"device\": \"cuda\",\n",
    "# \t\"tree_method\": \"hist\",\n",
    "# \t\"use_label_encoder\": False\n",
    "# }\n",
    "# model = XGBClassifier(**params)\n",
    "# model.fit(dtm_train, train_label)"
   ]
  },
  {
   "cell_type": "code",
   "execution_count": 92,
   "metadata": {
    "ExecuteTime": {
     "end_time": "2023-11-16T07:00:23.139911900Z",
     "start_time": "2023-11-16T07:00:23.129720900Z"
    }
   },
   "outputs": [],
   "source": [
    "# val_probs = model.predict_proba(dtm_test)[:, 1]\n",
    "# roc_auc_score(test_label, val_probs)"
   ]
  },
  {
   "cell_type": "code",
   "execution_count": 92,
   "metadata": {
    "ExecuteTime": {
     "end_time": "2023-11-16T07:00:23.140914100Z",
     "start_time": "2023-11-16T07:00:23.135907500Z"
    }
   },
   "outputs": [],
   "source": []
  },
  {
   "cell_type": "code",
   "execution_count": 93,
   "metadata": {
    "ExecuteTime": {
     "end_time": "2023-11-16T07:00:23.142481100Z",
     "start_time": "2023-11-16T07:00:23.137915Z"
    }
   },
   "outputs": [],
   "source": [
    "#"
   ]
  }
 ],
 "metadata": {
  "kernelspec": {
   "display_name": "Python 3 (ipykernel)",
   "language": "python",
   "name": "python3"
  },
  "language_info": {
   "codemirror_mode": {
    "name": "ipython",
    "version": 3
   },
   "file_extension": ".py",
   "mimetype": "text/x-python",
   "name": "python",
   "nbconvert_exporter": "python",
   "pygments_lexer": "ipython3",
   "version": "3.11.4"
  }
 },
 "nbformat": 4,
 "nbformat_minor": 1
}
